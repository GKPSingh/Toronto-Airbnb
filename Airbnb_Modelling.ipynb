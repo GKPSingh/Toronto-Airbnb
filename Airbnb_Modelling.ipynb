{
 "cells": [
  {
   "cell_type": "code",
   "execution_count": 1,
   "id": "7c44bbc9",
   "metadata": {},
   "outputs": [],
   "source": [
    "# Importing required libraries\n",
    "import numpy as np\n",
    "import pandas as pd\n",
    "import matplotlib.pyplot as plt\n",
    "%matplotlib inline\n",
    "import seaborn as sns"
   ]
  },
  {
   "cell_type": "code",
   "execution_count": 2,
   "id": "3367228d",
   "metadata": {},
   "outputs": [],
   "source": [
    "# Loading the data and creating DataFrame\n",
    "df = pd.read_csv('./data/data_eda.csv')"
   ]
  },
  {
   "cell_type": "code",
   "execution_count": 3,
   "id": "099a4810",
   "metadata": {
    "scrolled": true
   },
   "outputs": [
    {
     "data": {
      "text/html": [
       "<div>\n",
       "<style scoped>\n",
       "    .dataframe tbody tr th:only-of-type {\n",
       "        vertical-align: middle;\n",
       "    }\n",
       "\n",
       "    .dataframe tbody tr th {\n",
       "        vertical-align: top;\n",
       "    }\n",
       "\n",
       "    .dataframe thead th {\n",
       "        text-align: right;\n",
       "    }\n",
       "</style>\n",
       "<table border=\"1\" class=\"dataframe\">\n",
       "  <thead>\n",
       "    <tr style=\"text-align: right;\">\n",
       "      <th></th>\n",
       "      <th>log_price</th>\n",
       "      <th>price</th>\n",
       "      <th>review_scores_rating</th>\n",
       "      <th>has_availability</th>\n",
       "      <th>property_type</th>\n",
       "      <th>instant_bookable</th>\n",
       "      <th>number_of_reviews_ltm</th>\n",
       "      <th>availability_60</th>\n",
       "      <th>review_scores_checkin</th>\n",
       "      <th>room_type</th>\n",
       "      <th>...</th>\n",
       "      <th>beds</th>\n",
       "      <th>host_response_time</th>\n",
       "      <th>host_is_superhost</th>\n",
       "      <th>bedrooms</th>\n",
       "      <th>latitude</th>\n",
       "      <th>minimum_nights</th>\n",
       "      <th>reviews_per_month</th>\n",
       "      <th>availability_90</th>\n",
       "      <th>bathrooms_text</th>\n",
       "      <th>availability_365</th>\n",
       "    </tr>\n",
       "  </thead>\n",
       "  <tbody>\n",
       "    <tr>\n",
       "      <th>0</th>\n",
       "      <td>6.150603</td>\n",
       "      <td>469.0</td>\n",
       "      <td>100.0</td>\n",
       "      <td>True</td>\n",
       "      <td>14</td>\n",
       "      <td>False</td>\n",
       "      <td>0</td>\n",
       "      <td>0</td>\n",
       "      <td>10.0</td>\n",
       "      <td>0</td>\n",
       "      <td>...</td>\n",
       "      <td>7.0</td>\n",
       "      <td>1</td>\n",
       "      <td>False</td>\n",
       "      <td>5.0</td>\n",
       "      <td>43.64590</td>\n",
       "      <td>28</td>\n",
       "      <td>0.10</td>\n",
       "      <td>0</td>\n",
       "      <td>11</td>\n",
       "      <td>0</td>\n",
       "    </tr>\n",
       "    <tr>\n",
       "      <th>1</th>\n",
       "      <td>4.543295</td>\n",
       "      <td>94.0</td>\n",
       "      <td>97.0</td>\n",
       "      <td>True</td>\n",
       "      <td>21</td>\n",
       "      <td>True</td>\n",
       "      <td>0</td>\n",
       "      <td>60</td>\n",
       "      <td>10.0</td>\n",
       "      <td>2</td>\n",
       "      <td>...</td>\n",
       "      <td>1.0</td>\n",
       "      <td>0</td>\n",
       "      <td>False</td>\n",
       "      <td>1.0</td>\n",
       "      <td>43.64080</td>\n",
       "      <td>180</td>\n",
       "      <td>1.19</td>\n",
       "      <td>90</td>\n",
       "      <td>5</td>\n",
       "      <td>365</td>\n",
       "    </tr>\n",
       "    <tr>\n",
       "      <th>2</th>\n",
       "      <td>4.276666</td>\n",
       "      <td>72.0</td>\n",
       "      <td>95.0</td>\n",
       "      <td>True</td>\n",
       "      <td>36</td>\n",
       "      <td>True</td>\n",
       "      <td>0</td>\n",
       "      <td>60</td>\n",
       "      <td>10.0</td>\n",
       "      <td>2</td>\n",
       "      <td>...</td>\n",
       "      <td>1.0</td>\n",
       "      <td>1</td>\n",
       "      <td>False</td>\n",
       "      <td>1.0</td>\n",
       "      <td>43.69805</td>\n",
       "      <td>28</td>\n",
       "      <td>1.64</td>\n",
       "      <td>90</td>\n",
       "      <td>4</td>\n",
       "      <td>365</td>\n",
       "    </tr>\n",
       "    <tr>\n",
       "      <th>3</th>\n",
       "      <td>4.605170</td>\n",
       "      <td>100.0</td>\n",
       "      <td>93.0</td>\n",
       "      <td>True</td>\n",
       "      <td>14</td>\n",
       "      <td>False</td>\n",
       "      <td>2</td>\n",
       "      <td>0</td>\n",
       "      <td>10.0</td>\n",
       "      <td>0</td>\n",
       "      <td>...</td>\n",
       "      <td>2.0</td>\n",
       "      <td>4</td>\n",
       "      <td>False</td>\n",
       "      <td>2.0</td>\n",
       "      <td>43.63539</td>\n",
       "      <td>30</td>\n",
       "      <td>0.86</td>\n",
       "      <td>8</td>\n",
       "      <td>2</td>\n",
       "      <td>283</td>\n",
       "    </tr>\n",
       "    <tr>\n",
       "      <th>4</th>\n",
       "      <td>4.532599</td>\n",
       "      <td>93.0</td>\n",
       "      <td>99.0</td>\n",
       "      <td>True</td>\n",
       "      <td>24</td>\n",
       "      <td>False</td>\n",
       "      <td>1</td>\n",
       "      <td>58</td>\n",
       "      <td>10.0</td>\n",
       "      <td>2</td>\n",
       "      <td>...</td>\n",
       "      <td>2.0</td>\n",
       "      <td>3</td>\n",
       "      <td>False</td>\n",
       "      <td>2.0</td>\n",
       "      <td>43.74922</td>\n",
       "      <td>2</td>\n",
       "      <td>0.60</td>\n",
       "      <td>88</td>\n",
       "      <td>3</td>\n",
       "      <td>363</td>\n",
       "    </tr>\n",
       "  </tbody>\n",
       "</table>\n",
       "<p>5 rows × 23 columns</p>\n",
       "</div>"
      ],
      "text/plain": [
       "   log_price  price  review_scores_rating  has_availability  property_type  \\\n",
       "0   6.150603  469.0                 100.0              True             14   \n",
       "1   4.543295   94.0                  97.0              True             21   \n",
       "2   4.276666   72.0                  95.0              True             36   \n",
       "3   4.605170  100.0                  93.0              True             14   \n",
       "4   4.532599   93.0                  99.0              True             24   \n",
       "\n",
       "   instant_bookable  number_of_reviews_ltm  availability_60  \\\n",
       "0             False                      0                0   \n",
       "1              True                      0               60   \n",
       "2              True                      0               60   \n",
       "3             False                      2                0   \n",
       "4             False                      1               58   \n",
       "\n",
       "   review_scores_checkin  room_type  ...  beds  host_response_time  \\\n",
       "0                   10.0          0  ...   7.0                   1   \n",
       "1                   10.0          2  ...   1.0                   0   \n",
       "2                   10.0          2  ...   1.0                   1   \n",
       "3                   10.0          0  ...   2.0                   4   \n",
       "4                   10.0          2  ...   2.0                   3   \n",
       "\n",
       "   host_is_superhost  bedrooms  latitude  minimum_nights  reviews_per_month  \\\n",
       "0              False       5.0  43.64590              28               0.10   \n",
       "1              False       1.0  43.64080             180               1.19   \n",
       "2              False       1.0  43.69805              28               1.64   \n",
       "3              False       2.0  43.63539              30               0.86   \n",
       "4              False       2.0  43.74922               2               0.60   \n",
       "\n",
       "   availability_90  bathrooms_text  availability_365  \n",
       "0                0              11                 0  \n",
       "1               90               5               365  \n",
       "2               90               4               365  \n",
       "3                8               2               283  \n",
       "4               88               3               363  \n",
       "\n",
       "[5 rows x 23 columns]"
      ]
     },
     "execution_count": 3,
     "metadata": {},
     "output_type": "execute_result"
    }
   ],
   "source": [
    "# Checking the data\n",
    "df.head()"
   ]
  },
  {
   "cell_type": "markdown",
   "id": "aeb26f75",
   "metadata": {},
   "source": [
    "### In my dataframe I have both price and log_price. I will use both of them separately for modelling and compare the results."
   ]
  },
  {
   "cell_type": "markdown",
   "id": "d1fd7aa3",
   "metadata": {},
   "source": [
    "### I will drop log_price first and do modelling on the remaining data"
   ]
  },
  {
   "cell_type": "code",
   "execution_count": 4,
   "id": "a6f39e27",
   "metadata": {},
   "outputs": [
    {
     "data": {
      "text/html": [
       "<div>\n",
       "<style scoped>\n",
       "    .dataframe tbody tr th:only-of-type {\n",
       "        vertical-align: middle;\n",
       "    }\n",
       "\n",
       "    .dataframe tbody tr th {\n",
       "        vertical-align: top;\n",
       "    }\n",
       "\n",
       "    .dataframe thead th {\n",
       "        text-align: right;\n",
       "    }\n",
       "</style>\n",
       "<table border=\"1\" class=\"dataframe\">\n",
       "  <thead>\n",
       "    <tr style=\"text-align: right;\">\n",
       "      <th></th>\n",
       "      <th>price</th>\n",
       "      <th>review_scores_rating</th>\n",
       "      <th>has_availability</th>\n",
       "      <th>property_type</th>\n",
       "      <th>instant_bookable</th>\n",
       "      <th>number_of_reviews_ltm</th>\n",
       "      <th>availability_60</th>\n",
       "      <th>review_scores_checkin</th>\n",
       "      <th>room_type</th>\n",
       "      <th>neighbourhood_cleansed</th>\n",
       "      <th>...</th>\n",
       "      <th>beds</th>\n",
       "      <th>host_response_time</th>\n",
       "      <th>host_is_superhost</th>\n",
       "      <th>bedrooms</th>\n",
       "      <th>latitude</th>\n",
       "      <th>minimum_nights</th>\n",
       "      <th>reviews_per_month</th>\n",
       "      <th>availability_90</th>\n",
       "      <th>bathrooms_text</th>\n",
       "      <th>availability_365</th>\n",
       "    </tr>\n",
       "  </thead>\n",
       "  <tbody>\n",
       "    <tr>\n",
       "      <th>0</th>\n",
       "      <td>469.0</td>\n",
       "      <td>100.0</td>\n",
       "      <td>True</td>\n",
       "      <td>14</td>\n",
       "      <td>False</td>\n",
       "      <td>0</td>\n",
       "      <td>0</td>\n",
       "      <td>10.0</td>\n",
       "      <td>0</td>\n",
       "      <td>71</td>\n",
       "      <td>...</td>\n",
       "      <td>7.0</td>\n",
       "      <td>1</td>\n",
       "      <td>False</td>\n",
       "      <td>5.0</td>\n",
       "      <td>43.64590</td>\n",
       "      <td>28</td>\n",
       "      <td>0.10</td>\n",
       "      <td>0</td>\n",
       "      <td>11</td>\n",
       "      <td>0</td>\n",
       "    </tr>\n",
       "    <tr>\n",
       "      <th>1</th>\n",
       "      <td>94.0</td>\n",
       "      <td>97.0</td>\n",
       "      <td>True</td>\n",
       "      <td>21</td>\n",
       "      <td>True</td>\n",
       "      <td>0</td>\n",
       "      <td>60</td>\n",
       "      <td>10.0</td>\n",
       "      <td>2</td>\n",
       "      <td>122</td>\n",
       "      <td>...</td>\n",
       "      <td>1.0</td>\n",
       "      <td>0</td>\n",
       "      <td>False</td>\n",
       "      <td>1.0</td>\n",
       "      <td>43.64080</td>\n",
       "      <td>180</td>\n",
       "      <td>1.19</td>\n",
       "      <td>90</td>\n",
       "      <td>5</td>\n",
       "      <td>365</td>\n",
       "    </tr>\n",
       "    <tr>\n",
       "      <th>2</th>\n",
       "      <td>72.0</td>\n",
       "      <td>95.0</td>\n",
       "      <td>True</td>\n",
       "      <td>36</td>\n",
       "      <td>True</td>\n",
       "      <td>0</td>\n",
       "      <td>60</td>\n",
       "      <td>10.0</td>\n",
       "      <td>2</td>\n",
       "      <td>15</td>\n",
       "      <td>...</td>\n",
       "      <td>1.0</td>\n",
       "      <td>1</td>\n",
       "      <td>False</td>\n",
       "      <td>1.0</td>\n",
       "      <td>43.69805</td>\n",
       "      <td>28</td>\n",
       "      <td>1.64</td>\n",
       "      <td>90</td>\n",
       "      <td>4</td>\n",
       "      <td>365</td>\n",
       "    </tr>\n",
       "    <tr>\n",
       "      <th>3</th>\n",
       "      <td>100.0</td>\n",
       "      <td>93.0</td>\n",
       "      <td>True</td>\n",
       "      <td>14</td>\n",
       "      <td>False</td>\n",
       "      <td>2</td>\n",
       "      <td>0</td>\n",
       "      <td>10.0</td>\n",
       "      <td>0</td>\n",
       "      <td>109</td>\n",
       "      <td>...</td>\n",
       "      <td>2.0</td>\n",
       "      <td>4</td>\n",
       "      <td>False</td>\n",
       "      <td>2.0</td>\n",
       "      <td>43.63539</td>\n",
       "      <td>30</td>\n",
       "      <td>0.86</td>\n",
       "      <td>8</td>\n",
       "      <td>2</td>\n",
       "      <td>283</td>\n",
       "    </tr>\n",
       "    <tr>\n",
       "      <th>4</th>\n",
       "      <td>93.0</td>\n",
       "      <td>99.0</td>\n",
       "      <td>True</td>\n",
       "      <td>24</td>\n",
       "      <td>False</td>\n",
       "      <td>1</td>\n",
       "      <td>58</td>\n",
       "      <td>10.0</td>\n",
       "      <td>2</td>\n",
       "      <td>128</td>\n",
       "      <td>...</td>\n",
       "      <td>2.0</td>\n",
       "      <td>3</td>\n",
       "      <td>False</td>\n",
       "      <td>2.0</td>\n",
       "      <td>43.74922</td>\n",
       "      <td>2</td>\n",
       "      <td>0.60</td>\n",
       "      <td>88</td>\n",
       "      <td>3</td>\n",
       "      <td>363</td>\n",
       "    </tr>\n",
       "  </tbody>\n",
       "</table>\n",
       "<p>5 rows × 22 columns</p>\n",
       "</div>"
      ],
      "text/plain": [
       "   price  review_scores_rating  has_availability  property_type  \\\n",
       "0  469.0                 100.0              True             14   \n",
       "1   94.0                  97.0              True             21   \n",
       "2   72.0                  95.0              True             36   \n",
       "3  100.0                  93.0              True             14   \n",
       "4   93.0                  99.0              True             24   \n",
       "\n",
       "   instant_bookable  number_of_reviews_ltm  availability_60  \\\n",
       "0             False                      0                0   \n",
       "1              True                      0               60   \n",
       "2              True                      0               60   \n",
       "3             False                      2                0   \n",
       "4             False                      1               58   \n",
       "\n",
       "   review_scores_checkin  room_type  neighbourhood_cleansed  ...  beds  \\\n",
       "0                   10.0          0                      71  ...   7.0   \n",
       "1                   10.0          2                     122  ...   1.0   \n",
       "2                   10.0          2                      15  ...   1.0   \n",
       "3                   10.0          0                     109  ...   2.0   \n",
       "4                   10.0          2                     128  ...   2.0   \n",
       "\n",
       "   host_response_time  host_is_superhost  bedrooms  latitude  minimum_nights  \\\n",
       "0                   1              False       5.0  43.64590              28   \n",
       "1                   0              False       1.0  43.64080             180   \n",
       "2                   1              False       1.0  43.69805              28   \n",
       "3                   4              False       2.0  43.63539              30   \n",
       "4                   3              False       2.0  43.74922               2   \n",
       "\n",
       "   reviews_per_month  availability_90  bathrooms_text  availability_365  \n",
       "0               0.10                0              11                 0  \n",
       "1               1.19               90               5               365  \n",
       "2               1.64               90               4               365  \n",
       "3               0.86                8               2               283  \n",
       "4               0.60               88               3               363  \n",
       "\n",
       "[5 rows x 22 columns]"
      ]
     },
     "execution_count": 4,
     "metadata": {},
     "output_type": "execute_result"
    }
   ],
   "source": [
    "# Dropping the log_price\n",
    "dfp = df.drop(['log_price'], axis = 1)\n",
    "dfp.head()"
   ]
  },
  {
   "cell_type": "code",
   "execution_count": 5,
   "id": "0b90b150",
   "metadata": {},
   "outputs": [],
   "source": [
    "# Split data into X and y\n",
    "X = dfp.drop('price', axis = 1)\n",
    "y = dfp['price']"
   ]
  },
  {
   "cell_type": "code",
   "execution_count": 6,
   "id": "0285d9cb",
   "metadata": {},
   "outputs": [
    {
     "data": {
      "text/html": [
       "<div>\n",
       "<style scoped>\n",
       "    .dataframe tbody tr th:only-of-type {\n",
       "        vertical-align: middle;\n",
       "    }\n",
       "\n",
       "    .dataframe tbody tr th {\n",
       "        vertical-align: top;\n",
       "    }\n",
       "\n",
       "    .dataframe thead th {\n",
       "        text-align: right;\n",
       "    }\n",
       "</style>\n",
       "<table border=\"1\" class=\"dataframe\">\n",
       "  <thead>\n",
       "    <tr style=\"text-align: right;\">\n",
       "      <th></th>\n",
       "      <th>review_scores_rating</th>\n",
       "      <th>has_availability</th>\n",
       "      <th>property_type</th>\n",
       "      <th>instant_bookable</th>\n",
       "      <th>number_of_reviews_ltm</th>\n",
       "      <th>availability_60</th>\n",
       "      <th>review_scores_checkin</th>\n",
       "      <th>room_type</th>\n",
       "      <th>neighbourhood_cleansed</th>\n",
       "      <th>accommodates</th>\n",
       "      <th>...</th>\n",
       "      <th>beds</th>\n",
       "      <th>host_response_time</th>\n",
       "      <th>host_is_superhost</th>\n",
       "      <th>bedrooms</th>\n",
       "      <th>latitude</th>\n",
       "      <th>minimum_nights</th>\n",
       "      <th>reviews_per_month</th>\n",
       "      <th>availability_90</th>\n",
       "      <th>bathrooms_text</th>\n",
       "      <th>availability_365</th>\n",
       "    </tr>\n",
       "  </thead>\n",
       "  <tbody>\n",
       "    <tr>\n",
       "      <th>0</th>\n",
       "      <td>100.0</td>\n",
       "      <td>True</td>\n",
       "      <td>14</td>\n",
       "      <td>False</td>\n",
       "      <td>0</td>\n",
       "      <td>0</td>\n",
       "      <td>10.0</td>\n",
       "      <td>0</td>\n",
       "      <td>71</td>\n",
       "      <td>10</td>\n",
       "      <td>...</td>\n",
       "      <td>7.0</td>\n",
       "      <td>1</td>\n",
       "      <td>False</td>\n",
       "      <td>5.0</td>\n",
       "      <td>43.64590</td>\n",
       "      <td>28</td>\n",
       "      <td>0.10</td>\n",
       "      <td>0</td>\n",
       "      <td>11</td>\n",
       "      <td>0</td>\n",
       "    </tr>\n",
       "    <tr>\n",
       "      <th>1</th>\n",
       "      <td>97.0</td>\n",
       "      <td>True</td>\n",
       "      <td>21</td>\n",
       "      <td>True</td>\n",
       "      <td>0</td>\n",
       "      <td>60</td>\n",
       "      <td>10.0</td>\n",
       "      <td>2</td>\n",
       "      <td>122</td>\n",
       "      <td>2</td>\n",
       "      <td>...</td>\n",
       "      <td>1.0</td>\n",
       "      <td>0</td>\n",
       "      <td>False</td>\n",
       "      <td>1.0</td>\n",
       "      <td>43.64080</td>\n",
       "      <td>180</td>\n",
       "      <td>1.19</td>\n",
       "      <td>90</td>\n",
       "      <td>5</td>\n",
       "      <td>365</td>\n",
       "    </tr>\n",
       "    <tr>\n",
       "      <th>2</th>\n",
       "      <td>95.0</td>\n",
       "      <td>True</td>\n",
       "      <td>36</td>\n",
       "      <td>True</td>\n",
       "      <td>0</td>\n",
       "      <td>60</td>\n",
       "      <td>10.0</td>\n",
       "      <td>2</td>\n",
       "      <td>15</td>\n",
       "      <td>3</td>\n",
       "      <td>...</td>\n",
       "      <td>1.0</td>\n",
       "      <td>1</td>\n",
       "      <td>False</td>\n",
       "      <td>1.0</td>\n",
       "      <td>43.69805</td>\n",
       "      <td>28</td>\n",
       "      <td>1.64</td>\n",
       "      <td>90</td>\n",
       "      <td>4</td>\n",
       "      <td>365</td>\n",
       "    </tr>\n",
       "    <tr>\n",
       "      <th>3</th>\n",
       "      <td>93.0</td>\n",
       "      <td>True</td>\n",
       "      <td>14</td>\n",
       "      <td>False</td>\n",
       "      <td>2</td>\n",
       "      <td>0</td>\n",
       "      <td>10.0</td>\n",
       "      <td>0</td>\n",
       "      <td>109</td>\n",
       "      <td>5</td>\n",
       "      <td>...</td>\n",
       "      <td>2.0</td>\n",
       "      <td>4</td>\n",
       "      <td>False</td>\n",
       "      <td>2.0</td>\n",
       "      <td>43.63539</td>\n",
       "      <td>30</td>\n",
       "      <td>0.86</td>\n",
       "      <td>8</td>\n",
       "      <td>2</td>\n",
       "      <td>283</td>\n",
       "    </tr>\n",
       "    <tr>\n",
       "      <th>4</th>\n",
       "      <td>99.0</td>\n",
       "      <td>True</td>\n",
       "      <td>24</td>\n",
       "      <td>False</td>\n",
       "      <td>1</td>\n",
       "      <td>58</td>\n",
       "      <td>10.0</td>\n",
       "      <td>2</td>\n",
       "      <td>128</td>\n",
       "      <td>4</td>\n",
       "      <td>...</td>\n",
       "      <td>2.0</td>\n",
       "      <td>3</td>\n",
       "      <td>False</td>\n",
       "      <td>2.0</td>\n",
       "      <td>43.74922</td>\n",
       "      <td>2</td>\n",
       "      <td>0.60</td>\n",
       "      <td>88</td>\n",
       "      <td>3</td>\n",
       "      <td>363</td>\n",
       "    </tr>\n",
       "    <tr>\n",
       "      <th>...</th>\n",
       "      <td>...</td>\n",
       "      <td>...</td>\n",
       "      <td>...</td>\n",
       "      <td>...</td>\n",
       "      <td>...</td>\n",
       "      <td>...</td>\n",
       "      <td>...</td>\n",
       "      <td>...</td>\n",
       "      <td>...</td>\n",
       "      <td>...</td>\n",
       "      <td>...</td>\n",
       "      <td>...</td>\n",
       "      <td>...</td>\n",
       "      <td>...</td>\n",
       "      <td>...</td>\n",
       "      <td>...</td>\n",
       "      <td>...</td>\n",
       "      <td>...</td>\n",
       "      <td>...</td>\n",
       "      <td>...</td>\n",
       "      <td>...</td>\n",
       "    </tr>\n",
       "    <tr>\n",
       "      <th>10794</th>\n",
       "      <td>80.0</td>\n",
       "      <td>True</td>\n",
       "      <td>8</td>\n",
       "      <td>True</td>\n",
       "      <td>1</td>\n",
       "      <td>51</td>\n",
       "      <td>10.0</td>\n",
       "      <td>0</td>\n",
       "      <td>87</td>\n",
       "      <td>2</td>\n",
       "      <td>...</td>\n",
       "      <td>1.0</td>\n",
       "      <td>4</td>\n",
       "      <td>False</td>\n",
       "      <td>1.0</td>\n",
       "      <td>43.63780</td>\n",
       "      <td>1</td>\n",
       "      <td>1.00</td>\n",
       "      <td>81</td>\n",
       "      <td>7</td>\n",
       "      <td>81</td>\n",
       "    </tr>\n",
       "    <tr>\n",
       "      <th>10795</th>\n",
       "      <td>80.0</td>\n",
       "      <td>True</td>\n",
       "      <td>5</td>\n",
       "      <td>False</td>\n",
       "      <td>1</td>\n",
       "      <td>50</td>\n",
       "      <td>10.0</td>\n",
       "      <td>0</td>\n",
       "      <td>62</td>\n",
       "      <td>4</td>\n",
       "      <td>...</td>\n",
       "      <td>2.0</td>\n",
       "      <td>4</td>\n",
       "      <td>False</td>\n",
       "      <td>2.0</td>\n",
       "      <td>43.65734</td>\n",
       "      <td>2</td>\n",
       "      <td>1.00</td>\n",
       "      <td>70</td>\n",
       "      <td>2</td>\n",
       "      <td>70</td>\n",
       "    </tr>\n",
       "    <tr>\n",
       "      <th>10796</th>\n",
       "      <td>100.0</td>\n",
       "      <td>True</td>\n",
       "      <td>28</td>\n",
       "      <td>False</td>\n",
       "      <td>1</td>\n",
       "      <td>60</td>\n",
       "      <td>10.0</td>\n",
       "      <td>2</td>\n",
       "      <td>122</td>\n",
       "      <td>2</td>\n",
       "      <td>...</td>\n",
       "      <td>1.0</td>\n",
       "      <td>4</td>\n",
       "      <td>False</td>\n",
       "      <td>1.0</td>\n",
       "      <td>43.64015</td>\n",
       "      <td>1</td>\n",
       "      <td>1.00</td>\n",
       "      <td>89</td>\n",
       "      <td>4</td>\n",
       "      <td>89</td>\n",
       "    </tr>\n",
       "    <tr>\n",
       "      <th>10797</th>\n",
       "      <td>100.0</td>\n",
       "      <td>True</td>\n",
       "      <td>8</td>\n",
       "      <td>True</td>\n",
       "      <td>1</td>\n",
       "      <td>35</td>\n",
       "      <td>10.0</td>\n",
       "      <td>0</td>\n",
       "      <td>77</td>\n",
       "      <td>3</td>\n",
       "      <td>...</td>\n",
       "      <td>2.0</td>\n",
       "      <td>4</td>\n",
       "      <td>False</td>\n",
       "      <td>1.0</td>\n",
       "      <td>43.62431</td>\n",
       "      <td>2</td>\n",
       "      <td>1.00</td>\n",
       "      <td>65</td>\n",
       "      <td>2</td>\n",
       "      <td>65</td>\n",
       "    </tr>\n",
       "    <tr>\n",
       "      <th>10798</th>\n",
       "      <td>100.0</td>\n",
       "      <td>True</td>\n",
       "      <td>8</td>\n",
       "      <td>False</td>\n",
       "      <td>2</td>\n",
       "      <td>60</td>\n",
       "      <td>10.0</td>\n",
       "      <td>0</td>\n",
       "      <td>6</td>\n",
       "      <td>2</td>\n",
       "      <td>...</td>\n",
       "      <td>1.0</td>\n",
       "      <td>4</td>\n",
       "      <td>False</td>\n",
       "      <td>1.0</td>\n",
       "      <td>43.66533</td>\n",
       "      <td>1</td>\n",
       "      <td>2.00</td>\n",
       "      <td>80</td>\n",
       "      <td>2</td>\n",
       "      <td>80</td>\n",
       "    </tr>\n",
       "  </tbody>\n",
       "</table>\n",
       "<p>10799 rows × 21 columns</p>\n",
       "</div>"
      ],
      "text/plain": [
       "       review_scores_rating  has_availability  property_type  \\\n",
       "0                     100.0              True             14   \n",
       "1                      97.0              True             21   \n",
       "2                      95.0              True             36   \n",
       "3                      93.0              True             14   \n",
       "4                      99.0              True             24   \n",
       "...                     ...               ...            ...   \n",
       "10794                  80.0              True              8   \n",
       "10795                  80.0              True              5   \n",
       "10796                 100.0              True             28   \n",
       "10797                 100.0              True              8   \n",
       "10798                 100.0              True              8   \n",
       "\n",
       "       instant_bookable  number_of_reviews_ltm  availability_60  \\\n",
       "0                 False                      0                0   \n",
       "1                  True                      0               60   \n",
       "2                  True                      0               60   \n",
       "3                 False                      2                0   \n",
       "4                 False                      1               58   \n",
       "...                 ...                    ...              ...   \n",
       "10794              True                      1               51   \n",
       "10795             False                      1               50   \n",
       "10796             False                      1               60   \n",
       "10797              True                      1               35   \n",
       "10798             False                      2               60   \n",
       "\n",
       "       review_scores_checkin  room_type  neighbourhood_cleansed  accommodates  \\\n",
       "0                       10.0          0                      71            10   \n",
       "1                       10.0          2                     122             2   \n",
       "2                       10.0          2                      15             3   \n",
       "3                       10.0          0                     109             5   \n",
       "4                       10.0          2                     128             4   \n",
       "...                      ...        ...                     ...           ...   \n",
       "10794                   10.0          0                      87             2   \n",
       "10795                   10.0          0                      62             4   \n",
       "10796                   10.0          2                     122             2   \n",
       "10797                   10.0          0                      77             3   \n",
       "10798                   10.0          0                       6             2   \n",
       "\n",
       "       ...  beds  host_response_time  host_is_superhost  bedrooms  latitude  \\\n",
       "0      ...   7.0                   1              False       5.0  43.64590   \n",
       "1      ...   1.0                   0              False       1.0  43.64080   \n",
       "2      ...   1.0                   1              False       1.0  43.69805   \n",
       "3      ...   2.0                   4              False       2.0  43.63539   \n",
       "4      ...   2.0                   3              False       2.0  43.74922   \n",
       "...    ...   ...                 ...                ...       ...       ...   \n",
       "10794  ...   1.0                   4              False       1.0  43.63780   \n",
       "10795  ...   2.0                   4              False       2.0  43.65734   \n",
       "10796  ...   1.0                   4              False       1.0  43.64015   \n",
       "10797  ...   2.0                   4              False       1.0  43.62431   \n",
       "10798  ...   1.0                   4              False       1.0  43.66533   \n",
       "\n",
       "       minimum_nights  reviews_per_month  availability_90  bathrooms_text  \\\n",
       "0                  28               0.10                0              11   \n",
       "1                 180               1.19               90               5   \n",
       "2                  28               1.64               90               4   \n",
       "3                  30               0.86                8               2   \n",
       "4                   2               0.60               88               3   \n",
       "...               ...                ...              ...             ...   \n",
       "10794               1               1.00               81               7   \n",
       "10795               2               1.00               70               2   \n",
       "10796               1               1.00               89               4   \n",
       "10797               2               1.00               65               2   \n",
       "10798               1               2.00               80               2   \n",
       "\n",
       "       availability_365  \n",
       "0                     0  \n",
       "1                   365  \n",
       "2                   365  \n",
       "3                   283  \n",
       "4                   363  \n",
       "...                 ...  \n",
       "10794                81  \n",
       "10795                70  \n",
       "10796                89  \n",
       "10797                65  \n",
       "10798                80  \n",
       "\n",
       "[10799 rows x 21 columns]"
      ]
     },
     "execution_count": 6,
     "metadata": {},
     "output_type": "execute_result"
    }
   ],
   "source": [
    "# Checking X \n",
    "X"
   ]
  },
  {
   "cell_type": "code",
   "execution_count": 7,
   "id": "c9633a00",
   "metadata": {},
   "outputs": [
    {
     "data": {
      "text/plain": [
       "0        469.0\n",
       "1         94.0\n",
       "2         72.0\n",
       "3        100.0\n",
       "4         93.0\n",
       "         ...  \n",
       "10794    114.0\n",
       "10795     71.0\n",
       "10796    195.0\n",
       "10797    128.0\n",
       "10798     88.0\n",
       "Name: price, Length: 10799, dtype: float64"
      ]
     },
     "execution_count": 7,
     "metadata": {},
     "output_type": "execute_result"
    }
   ],
   "source": [
    "# Checking y\n",
    "y"
   ]
  },
  {
   "cell_type": "code",
   "execution_count": 8,
   "id": "8736cca3",
   "metadata": {},
   "outputs": [],
   "source": [
    "# Importing the train- test model from sklearn library\n",
    "from sklearn.model_selection import train_test_split"
   ]
  },
  {
   "cell_type": "code",
   "execution_count": 9,
   "id": "44cf0a4b",
   "metadata": {},
   "outputs": [],
   "source": [
    "# Split into train and test data\n",
    "X_train, X_test, y_train, y_test = train_test_split(X,y, test_size = 0.2)"
   ]
  },
  {
   "cell_type": "code",
   "execution_count": 10,
   "id": "4246b31d",
   "metadata": {},
   "outputs": [
    {
     "data": {
      "text/plain": [
       "(8639, 8639, 2160, 2160)"
      ]
     },
     "execution_count": 10,
     "metadata": {},
     "output_type": "execute_result"
    }
   ],
   "source": [
    "# Checking the length of different test and train sets\n",
    "len(X_train),len(y_train),len(X_test),len(y_test)"
   ]
  },
  {
   "cell_type": "markdown",
   "id": "700f994e",
   "metadata": {},
   "source": [
    "I am going to use 5 different machine learning models:\n",
    "\n",
    "1. Linear Regression\n",
    "2. Ridge Regression\n",
    "3. Lasso Regression\n",
    "4. K-Nearest Neighbors\n",
    "5. Random Forest"
   ]
  },
  {
   "cell_type": "markdown",
   "id": "ff0a72e0",
   "metadata": {},
   "source": [
    "### Using Linear Regression Model"
   ]
  },
  {
   "cell_type": "code",
   "execution_count": 11,
   "id": "5593d6fa",
   "metadata": {},
   "outputs": [],
   "source": [
    "# Importing LinearRegression model from sklearn library\n",
    "from sklearn.linear_model import LinearRegression\n",
    "lr = LinearRegression()"
   ]
  },
  {
   "cell_type": "code",
   "execution_count": 12,
   "id": "b0d2337c",
   "metadata": {},
   "outputs": [
    {
     "data": {
      "text/plain": [
       "LinearRegression()"
      ]
     },
     "execution_count": 12,
     "metadata": {},
     "output_type": "execute_result"
    }
   ],
   "source": [
    "# Fitting the model\n",
    "lr.fit(X_train, y_train)"
   ]
  },
  {
   "cell_type": "code",
   "execution_count": 13,
   "id": "f6fd8c60",
   "metadata": {},
   "outputs": [
    {
     "data": {
      "text/plain": [
       "0.06479455635259423"
      ]
     },
     "execution_count": 13,
     "metadata": {},
     "output_type": "execute_result"
    }
   ],
   "source": [
    "# Training Model Score\n",
    "lr.score(X_train,y_train)"
   ]
  },
  {
   "cell_type": "code",
   "execution_count": 14,
   "id": "80ce71ae",
   "metadata": {},
   "outputs": [],
   "source": [
    "#Making the predictions\n",
    "y_preds = lr.predict(X_test)"
   ]
  },
  {
   "cell_type": "code",
   "execution_count": 15,
   "id": "060ad20b",
   "metadata": {},
   "outputs": [
    {
     "data": {
      "text/plain": [
       "array([ 90.68663427, 208.69956282,  97.02921444, ...,  47.20614407,\n",
       "       170.02220631, 111.46825629])"
      ]
     },
     "execution_count": 15,
     "metadata": {},
     "output_type": "execute_result"
    }
   ],
   "source": [
    "# Making Predictions\n",
    "y_preds"
   ]
  },
  {
   "cell_type": "code",
   "execution_count": 16,
   "id": "93691167",
   "metadata": {},
   "outputs": [
    {
     "data": {
      "text/plain": [
       "0.05418684649592642"
      ]
     },
     "execution_count": 16,
     "metadata": {},
     "output_type": "execute_result"
    }
   ],
   "source": [
    "# Test Model Score\n",
    "lr.score(X_test, y_test)"
   ]
  },
  {
   "cell_type": "code",
   "execution_count": 17,
   "id": "ca15dd5d",
   "metadata": {},
   "outputs": [
    {
     "name": "stdout",
     "output_type": "stream",
     "text": [
      "85.03381020061319\n"
     ]
    }
   ],
   "source": [
    "# Importing mean_absolute_errora and mean_squared_error\n",
    "from sklearn.metrics import mean_absolute_error, mean_squared_error\n",
    "print(mean_absolute_error(y_test, y_preds))"
   ]
  },
  {
   "cell_type": "code",
   "execution_count": 18,
   "id": "68982cee",
   "metadata": {},
   "outputs": [
    {
     "name": "stdout",
     "output_type": "stream",
     "text": [
      "194029.6789882984\n"
     ]
    }
   ],
   "source": [
    "# Calculating mean_squared_error\n",
    "print(mean_squared_error(y_test, y_preds))"
   ]
  },
  {
   "cell_type": "code",
   "execution_count": 19,
   "id": "25dcce6f",
   "metadata": {},
   "outputs": [
    {
     "data": {
      "text/plain": [
       "440.4880009583671"
      ]
     },
     "execution_count": 19,
     "metadata": {},
     "output_type": "execute_result"
    }
   ],
   "source": [
    "# Calculating mean_squared_error\n",
    "rmse = np.sqrt(mean_squared_error(y_test, y_preds))\n",
    "rmse"
   ]
  },
  {
   "cell_type": "code",
   "execution_count": 20,
   "id": "fa8356b9",
   "metadata": {},
   "outputs": [
    {
     "data": {
      "text/plain": [
       "Text(0, 0.5, 'Count')"
      ]
     },
     "execution_count": 20,
     "metadata": {},
     "output_type": "execute_result"
    },
    {
     "data": {
      "image/png": "[encoded data removed]",
      "text/plain": [
       "<Figure size 1008x864 with 4 Axes>"
      ]
     },
     "metadata": {
      "needs_background": "light"
     },
     "output_type": "display_data"
    }
   ],
   "source": [
    "fig,ax = plt.subplots(nrows = 2, ncols =2, figsize = (14,12))\n",
    "ax[0,0].hist(y_preds)\n",
    "ax[0,0].set_title('Histogram of predicted y')\n",
    "ax[0,0].set_xlabel('Pridected y')\n",
    "ax[0,0].set_ylabel('Count')\n",
    "\n",
    "ax[0,1].scatter(y_test, y_preds)\n",
    "ax[0,1].set_title('Actual y vs. Predicted y')\n",
    "ax[0,1].set_xlabel('Actual y')\n",
    "ax[0,1].set_ylabel('Predicted y')\n",
    "\n",
    "ax[1,0].scatter(y_preds, y_test - y_preds)\n",
    "ax[1,0].set_title('Residual Plot')\n",
    "ax[1,0].set_xlabel('Predicted y')\n",
    "ax[1,0].set_ylabel('Residuals')\n",
    "\n",
    "ax[1,1].hist(y_test - y_preds)\n",
    "ax[1,1].set_title('Histogram of Residuals')\n",
    "ax[1,1].set_xlabel('Residuals')\n",
    "ax[1,1].set_ylabel('Count')"
   ]
  },
  {
   "cell_type": "markdown",
   "id": "07d70c3e",
   "metadata": {},
   "source": [
    "### Using Ridge Regression"
   ]
  },
  {
   "cell_type": "code",
   "execution_count": 21,
   "id": "84a878fd",
   "metadata": {},
   "outputs": [],
   "source": [
    "# Importing the model\n",
    "from sklearn.linear_model import Ridge\n",
    "ri = Ridge()"
   ]
  },
  {
   "cell_type": "code",
   "execution_count": 22,
   "id": "36d951bb",
   "metadata": {},
   "outputs": [
    {
     "data": {
      "text/plain": [
       "Ridge()"
      ]
     },
     "execution_count": 22,
     "metadata": {},
     "output_type": "execute_result"
    }
   ],
   "source": [
    "# Fitting the model on training data\n",
    "ri.fit(X_train, y_train)"
   ]
  },
  {
   "cell_type": "code",
   "execution_count": 23,
   "id": "a4e8c605",
   "metadata": {},
   "outputs": [
    {
     "data": {
      "text/plain": [
       "0.06478911124553566"
      ]
     },
     "execution_count": 23,
     "metadata": {},
     "output_type": "execute_result"
    }
   ],
   "source": [
    "# Finding Train model score\n",
    "ri.score(X_train, y_train)"
   ]
  },
  {
   "cell_type": "code",
   "execution_count": 24,
   "id": "b1c9da22",
   "metadata": {},
   "outputs": [],
   "source": [
    "# Making Predictions\n",
    "yr_preds = ri.predict(X_test)"
   ]
  },
  {
   "cell_type": "code",
   "execution_count": 25,
   "id": "95ab4898",
   "metadata": {},
   "outputs": [
    {
     "data": {
      "text/plain": [
       "array([ 90.32801006, 208.35283893,  96.97480995, ...,  47.29826414,\n",
       "       169.82002658, 110.40186162])"
      ]
     },
     "execution_count": 25,
     "metadata": {},
     "output_type": "execute_result"
    }
   ],
   "source": [
    "# Getting Predictions\n",
    "yr_preds"
   ]
  },
  {
   "cell_type": "code",
   "execution_count": 26,
   "id": "6b892463",
   "metadata": {},
   "outputs": [
    {
     "data": {
      "text/plain": [
       "0.053954059909676944"
      ]
     },
     "execution_count": 26,
     "metadata": {},
     "output_type": "execute_result"
    }
   ],
   "source": [
    "# Finding test model score\n",
    "ri.score(X_test, y_test)"
   ]
  },
  {
   "cell_type": "code",
   "execution_count": 27,
   "id": "92473279",
   "metadata": {},
   "outputs": [
    {
     "name": "stdout",
     "output_type": "stream",
     "text": [
      "84.95969533793003\n"
     ]
    }
   ],
   "source": [
    "# Calculating Mean absolute error\n",
    "print(mean_absolute_error(y_test, yr_preds))"
   ]
  },
  {
   "cell_type": "code",
   "execution_count": 28,
   "id": "fab42044",
   "metadata": {},
   "outputs": [
    {
     "name": "stdout",
     "output_type": "stream",
     "text": [
      "194077.43419918272\n"
     ]
    }
   ],
   "source": [
    "# Calculating Mean Squared error\n",
    "print(mean_squared_error(y_test, yr_preds))"
   ]
  },
  {
   "cell_type": "code",
   "execution_count": 29,
   "id": "707f1a4d",
   "metadata": {},
   "outputs": [
    {
     "name": "stdout",
     "output_type": "stream",
     "text": [
      "440.54220478767155\n"
     ]
    }
   ],
   "source": [
    "# Calculating Root Mean Squared error\n",
    "print(np.sqrt(mean_squared_error(y_test, yr_preds)))"
   ]
  },
  {
   "cell_type": "code",
   "execution_count": 30,
   "id": "d03e5f2a",
   "metadata": {},
   "outputs": [
    {
     "data": {
      "text/plain": [
       "Text(0, 0.5, 'Count')"
      ]
     },
     "execution_count": 30,
     "metadata": {},
     "output_type": "execute_result"
    },
    {
     "data": {
      "image/png": "[encoded data removed]",
      "text/plain": [
       "<Figure size 1008x864 with 4 Axes>"
      ]
     },
     "metadata": {
      "needs_background": "light"
     },
     "output_type": "display_data"
    }
   ],
   "source": [
    "fig,ax = plt.subplots(nrows = 2, ncols =2, figsize = (14,12))\n",
    "ax[0,0].hist(y_preds)\n",
    "ax[0,0].set_title('Histogram of predicted y')\n",
    "ax[0,0].set_xlabel('Pridected y')\n",
    "ax[0,0].set_ylabel('Count')\n",
    "\n",
    "ax[0,1].scatter(y_test, y_preds)\n",
    "ax[0,1].set_title('Actual y vs. Predicted y')\n",
    "ax[0,1].set_xlabel('Actual y')\n",
    "ax[0,1].set_ylabel('Predicted y')\n",
    "\n",
    "ax[1,0].scatter(y_preds, y_test - y_preds)\n",
    "ax[1,0].set_title('Residual Plot')\n",
    "ax[1,0].set_xlabel('Predicted y')\n",
    "ax[1,0].set_ylabel('Residuals')\n",
    "\n",
    "ax[1,1].hist(y_test - y_preds)\n",
    "ax[1,1].set_title('Histogram of Residuals')\n",
    "ax[1,1].set_xlabel('Residuals')\n",
    "ax[1,1].set_ylabel('Count')"
   ]
  },
  {
   "cell_type": "markdown",
   "id": "2ef16a7e",
   "metadata": {},
   "source": [
    "### Using Lasso Regression"
   ]
  },
  {
   "cell_type": "code",
   "execution_count": 31,
   "id": "1ee78272",
   "metadata": {},
   "outputs": [],
   "source": [
    "# Importing the model\n",
    "from sklearn.linear_model import Lasso\n",
    "la=Lasso()"
   ]
  },
  {
   "cell_type": "code",
   "execution_count": 32,
   "id": "6757d20f",
   "metadata": {},
   "outputs": [
    {
     "data": {
      "text/plain": [
       "Lasso()"
      ]
     },
     "execution_count": 32,
     "metadata": {},
     "output_type": "execute_result"
    }
   ],
   "source": [
    "# Fitting the model on training data\n",
    "la.fit(X_train, y_train)"
   ]
  },
  {
   "cell_type": "code",
   "execution_count": 33,
   "id": "6d4401a6",
   "metadata": {},
   "outputs": [
    {
     "data": {
      "text/plain": [
       "0.06245530626475426"
      ]
     },
     "execution_count": 33,
     "metadata": {},
     "output_type": "execute_result"
    }
   ],
   "source": [
    "# Finding Train model score\n",
    "la.score(X_train, y_train)"
   ]
  },
  {
   "cell_type": "code",
   "execution_count": 34,
   "id": "052d9985",
   "metadata": {},
   "outputs": [],
   "source": [
    "# Making Predictions\n",
    "yl_preds = la.predict(X_test)"
   ]
  },
  {
   "cell_type": "code",
   "execution_count": 35,
   "id": "a0bfb9df",
   "metadata": {},
   "outputs": [
    {
     "data": {
      "text/plain": [
       "array([ 87.74163096, 206.06480038,  94.6050238 , ...,  51.63840431,\n",
       "       166.10914205,  92.71857415])"
      ]
     },
     "execution_count": 35,
     "metadata": {},
     "output_type": "execute_result"
    }
   ],
   "source": [
    "# Getting Predictions\n",
    "yl_preds"
   ]
  },
  {
   "cell_type": "code",
   "execution_count": 36,
   "id": "a5547a0f",
   "metadata": {},
   "outputs": [
    {
     "data": {
      "text/plain": [
       "0.04658073625500281"
      ]
     },
     "execution_count": 36,
     "metadata": {},
     "output_type": "execute_result"
    }
   ],
   "source": [
    "# Finding test model score\n",
    "la.score(X_test, y_test)"
   ]
  },
  {
   "cell_type": "code",
   "execution_count": 37,
   "id": "3286d299",
   "metadata": {},
   "outputs": [
    {
     "name": "stdout",
     "output_type": "stream",
     "text": [
      "84.39314419865593\n"
     ]
    }
   ],
   "source": [
    "# Calculating Mean absolute error\n",
    "print(mean_absolute_error(y_test, yl_preds))"
   ]
  },
  {
   "cell_type": "code",
   "execution_count": 38,
   "id": "028e83fb",
   "metadata": {},
   "outputs": [
    {
     "name": "stdout",
     "output_type": "stream",
     "text": [
      "195590.04122573228\n"
     ]
    }
   ],
   "source": [
    "# Calculating Mean Squared  error\n",
    "print(mean_squared_error(y_test, yl_preds))"
   ]
  },
  {
   "cell_type": "code",
   "execution_count": 39,
   "id": "90c98be0",
   "metadata": {
    "scrolled": true
   },
   "outputs": [
    {
     "name": "stdout",
     "output_type": "stream",
     "text": [
      "442.25562882311885\n"
     ]
    }
   ],
   "source": [
    "# Calculating Root Mean squared error\n",
    "print(np.sqrt(mean_squared_error(y_test, yl_preds)))"
   ]
  },
  {
   "cell_type": "code",
   "execution_count": 40,
   "id": "8ba2d363",
   "metadata": {},
   "outputs": [
    {
     "data": {
      "text/plain": [
       "Text(0, 0.5, 'Count')"
      ]
     },
     "execution_count": 40,
     "metadata": {},
     "output_type": "execute_result"
    },
    {
     "data": {
      "image/png": "[encoded data removed]",
      "text/plain": [
       "<Figure size 1008x864 with 4 Axes>"
      ]
     },
     "metadata": {
      "needs_background": "light"
     },
     "output_type": "display_data"
    }
   ],
   "source": [
    "fig,ax = plt.subplots(nrows = 2, ncols =2, figsize = (14,12))\n",
    "ax[0,0].hist(y_preds)\n",
    "ax[0,0].set_title('Histogram of predicted y')\n",
    "ax[0,0].set_xlabel('Pridected y')\n",
    "ax[0,0].set_ylabel('Count')\n",
    "\n",
    "ax[0,1].scatter(y_test, y_preds)\n",
    "ax[0,1].set_title('Actual y vs. Predicted y')\n",
    "ax[0,1].set_xlabel('Actual y')\n",
    "ax[0,1].set_ylabel('Predicted y')\n",
    "\n",
    "ax[1,0].scatter(y_preds, y_test - y_preds)\n",
    "ax[1,0].set_title('Residual Plot')\n",
    "ax[1,0].set_xlabel('Predicted y')\n",
    "ax[1,0].set_ylabel('Residuals')\n",
    "\n",
    "ax[1,1].hist(y_test - y_preds)\n",
    "ax[1,1].set_title('Histogram of Residuals')\n",
    "ax[1,1].set_xlabel('Residuals')\n",
    "ax[1,1].set_ylabel('Count')"
   ]
  },
  {
   "cell_type": "markdown",
   "id": "1a20f033",
   "metadata": {},
   "source": [
    "### Using K-Nearest Neighbors"
   ]
  },
  {
   "cell_type": "code",
   "execution_count": 41,
   "id": "b13c03cb",
   "metadata": {},
   "outputs": [],
   "source": [
    "# Importing the model\n",
    "from sklearn.neighbors import KNeighborsRegressor\n",
    "knn = KNeighborsRegressor()"
   ]
  },
  {
   "cell_type": "code",
   "execution_count": 42,
   "id": "6b72657d",
   "metadata": {},
   "outputs": [
    {
     "data": {
      "text/plain": [
       "KNeighborsRegressor()"
      ]
     },
     "execution_count": 42,
     "metadata": {},
     "output_type": "execute_result"
    }
   ],
   "source": [
    "# Fitting the model on training data\n",
    "knn.fit(X_train, y_train)"
   ]
  },
  {
   "cell_type": "code",
   "execution_count": 43,
   "id": "bdc6028a",
   "metadata": {},
   "outputs": [
    {
     "data": {
      "text/plain": [
       "0.2718762403698999"
      ]
     },
     "execution_count": 43,
     "metadata": {},
     "output_type": "execute_result"
    }
   ],
   "source": [
    "# Finding Train model score\n",
    "knn.score(X_train, y_train)"
   ]
  },
  {
   "cell_type": "code",
   "execution_count": 44,
   "id": "88c04030",
   "metadata": {},
   "outputs": [],
   "source": [
    "# Making Predictions\n",
    "yk_preds = knn.predict(X_test)"
   ]
  },
  {
   "cell_type": "code",
   "execution_count": 45,
   "id": "6adbaa46",
   "metadata": {},
   "outputs": [
    {
     "data": {
      "text/plain": [
       "array([106.8, 303.4, 107.2, ..., 257.4, 128. ,  89.8])"
      ]
     },
     "execution_count": 45,
     "metadata": {},
     "output_type": "execute_result"
    }
   ],
   "source": [
    "# Getting Predictions\n",
    "yk_preds"
   ]
  },
  {
   "cell_type": "code",
   "execution_count": 46,
   "id": "849187b0",
   "metadata": {},
   "outputs": [
    {
     "data": {
      "text/plain": [
       "-0.05334921740074061"
      ]
     },
     "execution_count": 46,
     "metadata": {},
     "output_type": "execute_result"
    }
   ],
   "source": [
    "# Finding test model score\n",
    "knn.score(X_test, y_test)"
   ]
  },
  {
   "cell_type": "code",
   "execution_count": 47,
   "id": "90a2ac64",
   "metadata": {},
   "outputs": [
    {
     "name": "stdout",
     "output_type": "stream",
     "text": [
      "98.59101851851854\n"
     ]
    }
   ],
   "source": [
    "# Calculating Mean absolute error\n",
    "print(mean_absolute_error(y_test, yk_preds))"
   ]
  },
  {
   "cell_type": "code",
   "execution_count": 48,
   "id": "536b40df",
   "metadata": {},
   "outputs": [
    {
     "name": "stdout",
     "output_type": "stream",
     "text": [
      "216090.26027777774\n"
     ]
    }
   ],
   "source": [
    "# Calculating Mean Squared error\n",
    "print(mean_squared_error(y_test, yk_preds))"
   ]
  },
  {
   "cell_type": "code",
   "execution_count": 49,
   "id": "242e14f6",
   "metadata": {},
   "outputs": [
    {
     "name": "stdout",
     "output_type": "stream",
     "text": [
      "464.8550960006545\n"
     ]
    }
   ],
   "source": [
    "# Calculating Root Mean Squared error\n",
    "print(np.sqrt(mean_squared_error(y_test, yk_preds)))"
   ]
  },
  {
   "cell_type": "code",
   "execution_count": 50,
   "id": "4450b824",
   "metadata": {},
   "outputs": [
    {
     "data": {
      "text/plain": [
       "Text(0, 0.5, 'Count')"
      ]
     },
     "execution_count": 50,
     "metadata": {},
     "output_type": "execute_result"
    },
    {
     "data": {
      "image/png": "[encoded data removed]",
      "text/plain": [
       "<Figure size 1008x864 with 4 Axes>"
      ]
     },
     "metadata": {
      "needs_background": "light"
     },
     "output_type": "display_data"
    }
   ],
   "source": [
    "fig,ax = plt.subplots(nrows = 2, ncols =2, figsize = (14,12))\n",
    "ax[0,0].hist(y_preds)\n",
    "ax[0,0].set_title('Histogram of predicted y')\n",
    "ax[0,0].set_xlabel('Pridected y')\n",
    "ax[0,0].set_ylabel('Count')\n",
    "\n",
    "ax[0,1].scatter(y_test, y_preds)\n",
    "ax[0,1].set_title('Actual y vs. Predicted y')\n",
    "ax[0,1].set_xlabel('Actual y')\n",
    "ax[0,1].set_ylabel('Predicted y')\n",
    "\n",
    "ax[1,0].scatter(y_preds, y_test - y_preds)\n",
    "ax[1,0].set_title('Residual Plot')\n",
    "ax[1,0].set_xlabel('Predicted y')\n",
    "ax[1,0].set_ylabel('Residuals')\n",
    "\n",
    "ax[1,1].hist(y_test - y_preds)\n",
    "ax[1,1].set_title('Histogram of Residuals')\n",
    "ax[1,1].set_xlabel('Residuals')\n",
    "ax[1,1].set_ylabel('Count')"
   ]
  },
  {
   "cell_type": "markdown",
   "id": "32198d7d",
   "metadata": {},
   "source": [
    "### Using Random Forest"
   ]
  },
  {
   "cell_type": "code",
   "execution_count": 51,
   "id": "1622ccec",
   "metadata": {},
   "outputs": [],
   "source": [
    "# Importing the model\n",
    "from sklearn.ensemble import RandomForestRegressor\n",
    "rf=RandomForestRegressor()"
   ]
  },
  {
   "cell_type": "code",
   "execution_count": 52,
   "id": "8baa7ed4",
   "metadata": {},
   "outputs": [
    {
     "data": {
      "text/plain": [
       "RandomForestRegressor()"
      ]
     },
     "execution_count": 52,
     "metadata": {},
     "output_type": "execute_result"
    }
   ],
   "source": [
    "# Fitting the model on training data\n",
    "rf.fit(X_train, y_train)"
   ]
  },
  {
   "cell_type": "code",
   "execution_count": 53,
   "id": "074cea6a",
   "metadata": {},
   "outputs": [
    {
     "data": {
      "text/plain": [
       "0.881017026244045"
      ]
     },
     "execution_count": 53,
     "metadata": {},
     "output_type": "execute_result"
    }
   ],
   "source": [
    "# Finding Train model score\n",
    "rf.score(X_train, y_train)"
   ]
  },
  {
   "cell_type": "code",
   "execution_count": 54,
   "id": "3c26d5e5",
   "metadata": {},
   "outputs": [],
   "source": [
    "# Making Predictions\n",
    "yrf_preds = rf.predict(X_test)"
   ]
  },
  {
   "cell_type": "code",
   "execution_count": 55,
   "id": "b5b35ade",
   "metadata": {},
   "outputs": [
    {
     "data": {
      "text/plain": [
       "array([183.24, 162.55,  91.7 , ...,  43.57, 243.08,  44.13])"
      ]
     },
     "execution_count": 55,
     "metadata": {},
     "output_type": "execute_result"
    }
   ],
   "source": [
    "yrf_preds"
   ]
  },
  {
   "cell_type": "code",
   "execution_count": 56,
   "id": "44c4f4b5",
   "metadata": {},
   "outputs": [
    {
     "data": {
      "text/plain": [
       "0.40560922181691605"
      ]
     },
     "execution_count": 56,
     "metadata": {},
     "output_type": "execute_result"
    }
   ],
   "source": [
    "# Finding test model score\n",
    "rf.score(X_test, y_test)"
   ]
  },
  {
   "cell_type": "code",
   "execution_count": 57,
   "id": "b0bc21d2",
   "metadata": {},
   "outputs": [
    {
     "name": "stdout",
     "output_type": "stream",
     "text": [
      "71.49043518518519\n"
     ]
    }
   ],
   "source": [
    "# Calculating Mean absolute error\n",
    "print(mean_absolute_error(y_test, yrf_preds))"
   ]
  },
  {
   "cell_type": "code",
   "execution_count": 58,
   "id": "16483023",
   "metadata": {},
   "outputs": [
    {
     "name": "stdout",
     "output_type": "stream",
     "text": [
      "121936.82384009258\n"
     ]
    }
   ],
   "source": [
    "# Calculating Mean Squared error\n",
    "print(mean_squared_error(y_test, yrf_preds))"
   ]
  },
  {
   "cell_type": "code",
   "execution_count": 59,
   "id": "04b6bd77",
   "metadata": {},
   "outputs": [
    {
     "name": "stdout",
     "output_type": "stream",
     "text": [
      "349.1945358107606\n"
     ]
    }
   ],
   "source": [
    "# Calculating Root Mean Squared error\n",
    "print(np.sqrt(mean_squared_error(y_test, yrf_preds)))"
   ]
  },
  {
   "cell_type": "code",
   "execution_count": 60,
   "id": "c309ba8f",
   "metadata": {},
   "outputs": [
    {
     "data": {
      "text/plain": [
       "Text(0, 0.5, 'Count')"
      ]
     },
     "execution_count": 60,
     "metadata": {},
     "output_type": "execute_result"
    },
    {
     "data": {
      "image/png": "[encoded data removed]",
      "text/plain": [
       "<Figure size 1008x864 with 4 Axes>"
      ]
     },
     "metadata": {
      "needs_background": "light"
     },
     "output_type": "display_data"
    }
   ],
   "source": [
    "fig,ax = plt.subplots(nrows = 2, ncols =2, figsize = (14,12))\n",
    "ax[0,0].hist(y_preds)\n",
    "ax[0,0].set_title('Histogram of predicted y')\n",
    "ax[0,0].set_xlabel('Pridected y')\n",
    "ax[0,0].set_ylabel('Count')\n",
    "\n",
    "ax[0,1].scatter(y_test, y_preds)\n",
    "ax[0,1].set_title('Actual y vs. Predicted y')\n",
    "ax[0,1].set_xlabel('Actual y')\n",
    "ax[0,1].set_ylabel('Predicted y')\n",
    "\n",
    "ax[1,0].scatter(y_preds, y_test - y_preds)\n",
    "ax[1,0].set_title('Residual Plot')\n",
    "ax[1,0].set_xlabel('Predicted y')\n",
    "ax[1,0].set_ylabel('Residuals')\n",
    "\n",
    "ax[1,1].hist(y_test - y_preds)\n",
    "ax[1,1].set_title('Histogram of Residuals')\n",
    "ax[1,1].set_xlabel('Residuals')\n",
    "ax[1,1].set_ylabel('Count')"
   ]
  },
  {
   "cell_type": "markdown",
   "id": "8c95e670",
   "metadata": {},
   "source": [
    "### I will drop 'price' column now and do modelling on the remaining data"
   ]
  },
  {
   "cell_type": "code",
   "execution_count": 61,
   "id": "f80295b2",
   "metadata": {},
   "outputs": [
    {
     "data": {
      "text/html": [
       "<div>\n",
       "<style scoped>\n",
       "    .dataframe tbody tr th:only-of-type {\n",
       "        vertical-align: middle;\n",
       "    }\n",
       "\n",
       "    .dataframe tbody tr th {\n",
       "        vertical-align: top;\n",
       "    }\n",
       "\n",
       "    .dataframe thead th {\n",
       "        text-align: right;\n",
       "    }\n",
       "</style>\n",
       "<table border=\"1\" class=\"dataframe\">\n",
       "  <thead>\n",
       "    <tr style=\"text-align: right;\">\n",
       "      <th></th>\n",
       "      <th>log_price</th>\n",
       "      <th>price</th>\n",
       "      <th>review_scores_rating</th>\n",
       "      <th>has_availability</th>\n",
       "      <th>property_type</th>\n",
       "      <th>instant_bookable</th>\n",
       "      <th>number_of_reviews_ltm</th>\n",
       "      <th>availability_60</th>\n",
       "      <th>review_scores_checkin</th>\n",
       "      <th>room_type</th>\n",
       "      <th>...</th>\n",
       "      <th>beds</th>\n",
       "      <th>host_response_time</th>\n",
       "      <th>host_is_superhost</th>\n",
       "      <th>bedrooms</th>\n",
       "      <th>latitude</th>\n",
       "      <th>minimum_nights</th>\n",
       "      <th>reviews_per_month</th>\n",
       "      <th>availability_90</th>\n",
       "      <th>bathrooms_text</th>\n",
       "      <th>availability_365</th>\n",
       "    </tr>\n",
       "  </thead>\n",
       "  <tbody>\n",
       "    <tr>\n",
       "      <th>0</th>\n",
       "      <td>6.150603</td>\n",
       "      <td>469.0</td>\n",
       "      <td>100.0</td>\n",
       "      <td>True</td>\n",
       "      <td>14</td>\n",
       "      <td>False</td>\n",
       "      <td>0</td>\n",
       "      <td>0</td>\n",
       "      <td>10.0</td>\n",
       "      <td>0</td>\n",
       "      <td>...</td>\n",
       "      <td>7.0</td>\n",
       "      <td>1</td>\n",
       "      <td>False</td>\n",
       "      <td>5.0</td>\n",
       "      <td>43.64590</td>\n",
       "      <td>28</td>\n",
       "      <td>0.10</td>\n",
       "      <td>0</td>\n",
       "      <td>11</td>\n",
       "      <td>0</td>\n",
       "    </tr>\n",
       "    <tr>\n",
       "      <th>1</th>\n",
       "      <td>4.543295</td>\n",
       "      <td>94.0</td>\n",
       "      <td>97.0</td>\n",
       "      <td>True</td>\n",
       "      <td>21</td>\n",
       "      <td>True</td>\n",
       "      <td>0</td>\n",
       "      <td>60</td>\n",
       "      <td>10.0</td>\n",
       "      <td>2</td>\n",
       "      <td>...</td>\n",
       "      <td>1.0</td>\n",
       "      <td>0</td>\n",
       "      <td>False</td>\n",
       "      <td>1.0</td>\n",
       "      <td>43.64080</td>\n",
       "      <td>180</td>\n",
       "      <td>1.19</td>\n",
       "      <td>90</td>\n",
       "      <td>5</td>\n",
       "      <td>365</td>\n",
       "    </tr>\n",
       "    <tr>\n",
       "      <th>2</th>\n",
       "      <td>4.276666</td>\n",
       "      <td>72.0</td>\n",
       "      <td>95.0</td>\n",
       "      <td>True</td>\n",
       "      <td>36</td>\n",
       "      <td>True</td>\n",
       "      <td>0</td>\n",
       "      <td>60</td>\n",
       "      <td>10.0</td>\n",
       "      <td>2</td>\n",
       "      <td>...</td>\n",
       "      <td>1.0</td>\n",
       "      <td>1</td>\n",
       "      <td>False</td>\n",
       "      <td>1.0</td>\n",
       "      <td>43.69805</td>\n",
       "      <td>28</td>\n",
       "      <td>1.64</td>\n",
       "      <td>90</td>\n",
       "      <td>4</td>\n",
       "      <td>365</td>\n",
       "    </tr>\n",
       "    <tr>\n",
       "      <th>3</th>\n",
       "      <td>4.605170</td>\n",
       "      <td>100.0</td>\n",
       "      <td>93.0</td>\n",
       "      <td>True</td>\n",
       "      <td>14</td>\n",
       "      <td>False</td>\n",
       "      <td>2</td>\n",
       "      <td>0</td>\n",
       "      <td>10.0</td>\n",
       "      <td>0</td>\n",
       "      <td>...</td>\n",
       "      <td>2.0</td>\n",
       "      <td>4</td>\n",
       "      <td>False</td>\n",
       "      <td>2.0</td>\n",
       "      <td>43.63539</td>\n",
       "      <td>30</td>\n",
       "      <td>0.86</td>\n",
       "      <td>8</td>\n",
       "      <td>2</td>\n",
       "      <td>283</td>\n",
       "    </tr>\n",
       "    <tr>\n",
       "      <th>4</th>\n",
       "      <td>4.532599</td>\n",
       "      <td>93.0</td>\n",
       "      <td>99.0</td>\n",
       "      <td>True</td>\n",
       "      <td>24</td>\n",
       "      <td>False</td>\n",
       "      <td>1</td>\n",
       "      <td>58</td>\n",
       "      <td>10.0</td>\n",
       "      <td>2</td>\n",
       "      <td>...</td>\n",
       "      <td>2.0</td>\n",
       "      <td>3</td>\n",
       "      <td>False</td>\n",
       "      <td>2.0</td>\n",
       "      <td>43.74922</td>\n",
       "      <td>2</td>\n",
       "      <td>0.60</td>\n",
       "      <td>88</td>\n",
       "      <td>3</td>\n",
       "      <td>363</td>\n",
       "    </tr>\n",
       "  </tbody>\n",
       "</table>\n",
       "<p>5 rows × 23 columns</p>\n",
       "</div>"
      ],
      "text/plain": [
       "   log_price  price  review_scores_rating  has_availability  property_type  \\\n",
       "0   6.150603  469.0                 100.0              True             14   \n",
       "1   4.543295   94.0                  97.0              True             21   \n",
       "2   4.276666   72.0                  95.0              True             36   \n",
       "3   4.605170  100.0                  93.0              True             14   \n",
       "4   4.532599   93.0                  99.0              True             24   \n",
       "\n",
       "   instant_bookable  number_of_reviews_ltm  availability_60  \\\n",
       "0             False                      0                0   \n",
       "1              True                      0               60   \n",
       "2              True                      0               60   \n",
       "3             False                      2                0   \n",
       "4             False                      1               58   \n",
       "\n",
       "   review_scores_checkin  room_type  ...  beds  host_response_time  \\\n",
       "0                   10.0          0  ...   7.0                   1   \n",
       "1                   10.0          2  ...   1.0                   0   \n",
       "2                   10.0          2  ...   1.0                   1   \n",
       "3                   10.0          0  ...   2.0                   4   \n",
       "4                   10.0          2  ...   2.0                   3   \n",
       "\n",
       "   host_is_superhost  bedrooms  latitude  minimum_nights  reviews_per_month  \\\n",
       "0              False       5.0  43.64590              28               0.10   \n",
       "1              False       1.0  43.64080             180               1.19   \n",
       "2              False       1.0  43.69805              28               1.64   \n",
       "3              False       2.0  43.63539              30               0.86   \n",
       "4              False       2.0  43.74922               2               0.60   \n",
       "\n",
       "   availability_90  bathrooms_text  availability_365  \n",
       "0                0              11                 0  \n",
       "1               90               5               365  \n",
       "2               90               4               365  \n",
       "3                8               2               283  \n",
       "4               88               3               363  \n",
       "\n",
       "[5 rows x 23 columns]"
      ]
     },
     "execution_count": 61,
     "metadata": {},
     "output_type": "execute_result"
    }
   ],
   "source": [
    "# Checking the original data\n",
    "df.head()"
   ]
  },
  {
   "cell_type": "code",
   "execution_count": 62,
   "id": "5b8be1e3",
   "metadata": {},
   "outputs": [
    {
     "data": {
      "text/html": [
       "<div>\n",
       "<style scoped>\n",
       "    .dataframe tbody tr th:only-of-type {\n",
       "        vertical-align: middle;\n",
       "    }\n",
       "\n",
       "    .dataframe tbody tr th {\n",
       "        vertical-align: top;\n",
       "    }\n",
       "\n",
       "    .dataframe thead th {\n",
       "        text-align: right;\n",
       "    }\n",
       "</style>\n",
       "<table border=\"1\" class=\"dataframe\">\n",
       "  <thead>\n",
       "    <tr style=\"text-align: right;\">\n",
       "      <th></th>\n",
       "      <th>log_price</th>\n",
       "      <th>review_scores_rating</th>\n",
       "      <th>has_availability</th>\n",
       "      <th>property_type</th>\n",
       "      <th>instant_bookable</th>\n",
       "      <th>number_of_reviews_ltm</th>\n",
       "      <th>availability_60</th>\n",
       "      <th>review_scores_checkin</th>\n",
       "      <th>room_type</th>\n",
       "      <th>neighbourhood_cleansed</th>\n",
       "      <th>...</th>\n",
       "      <th>beds</th>\n",
       "      <th>host_response_time</th>\n",
       "      <th>host_is_superhost</th>\n",
       "      <th>bedrooms</th>\n",
       "      <th>latitude</th>\n",
       "      <th>minimum_nights</th>\n",
       "      <th>reviews_per_month</th>\n",
       "      <th>availability_90</th>\n",
       "      <th>bathrooms_text</th>\n",
       "      <th>availability_365</th>\n",
       "    </tr>\n",
       "  </thead>\n",
       "  <tbody>\n",
       "    <tr>\n",
       "      <th>0</th>\n",
       "      <td>6.150603</td>\n",
       "      <td>100.0</td>\n",
       "      <td>True</td>\n",
       "      <td>14</td>\n",
       "      <td>False</td>\n",
       "      <td>0</td>\n",
       "      <td>0</td>\n",
       "      <td>10.0</td>\n",
       "      <td>0</td>\n",
       "      <td>71</td>\n",
       "      <td>...</td>\n",
       "      <td>7.0</td>\n",
       "      <td>1</td>\n",
       "      <td>False</td>\n",
       "      <td>5.0</td>\n",
       "      <td>43.64590</td>\n",
       "      <td>28</td>\n",
       "      <td>0.10</td>\n",
       "      <td>0</td>\n",
       "      <td>11</td>\n",
       "      <td>0</td>\n",
       "    </tr>\n",
       "    <tr>\n",
       "      <th>1</th>\n",
       "      <td>4.543295</td>\n",
       "      <td>97.0</td>\n",
       "      <td>True</td>\n",
       "      <td>21</td>\n",
       "      <td>True</td>\n",
       "      <td>0</td>\n",
       "      <td>60</td>\n",
       "      <td>10.0</td>\n",
       "      <td>2</td>\n",
       "      <td>122</td>\n",
       "      <td>...</td>\n",
       "      <td>1.0</td>\n",
       "      <td>0</td>\n",
       "      <td>False</td>\n",
       "      <td>1.0</td>\n",
       "      <td>43.64080</td>\n",
       "      <td>180</td>\n",
       "      <td>1.19</td>\n",
       "      <td>90</td>\n",
       "      <td>5</td>\n",
       "      <td>365</td>\n",
       "    </tr>\n",
       "    <tr>\n",
       "      <th>2</th>\n",
       "      <td>4.276666</td>\n",
       "      <td>95.0</td>\n",
       "      <td>True</td>\n",
       "      <td>36</td>\n",
       "      <td>True</td>\n",
       "      <td>0</td>\n",
       "      <td>60</td>\n",
       "      <td>10.0</td>\n",
       "      <td>2</td>\n",
       "      <td>15</td>\n",
       "      <td>...</td>\n",
       "      <td>1.0</td>\n",
       "      <td>1</td>\n",
       "      <td>False</td>\n",
       "      <td>1.0</td>\n",
       "      <td>43.69805</td>\n",
       "      <td>28</td>\n",
       "      <td>1.64</td>\n",
       "      <td>90</td>\n",
       "      <td>4</td>\n",
       "      <td>365</td>\n",
       "    </tr>\n",
       "    <tr>\n",
       "      <th>3</th>\n",
       "      <td>4.605170</td>\n",
       "      <td>93.0</td>\n",
       "      <td>True</td>\n",
       "      <td>14</td>\n",
       "      <td>False</td>\n",
       "      <td>2</td>\n",
       "      <td>0</td>\n",
       "      <td>10.0</td>\n",
       "      <td>0</td>\n",
       "      <td>109</td>\n",
       "      <td>...</td>\n",
       "      <td>2.0</td>\n",
       "      <td>4</td>\n",
       "      <td>False</td>\n",
       "      <td>2.0</td>\n",
       "      <td>43.63539</td>\n",
       "      <td>30</td>\n",
       "      <td>0.86</td>\n",
       "      <td>8</td>\n",
       "      <td>2</td>\n",
       "      <td>283</td>\n",
       "    </tr>\n",
       "    <tr>\n",
       "      <th>4</th>\n",
       "      <td>4.532599</td>\n",
       "      <td>99.0</td>\n",
       "      <td>True</td>\n",
       "      <td>24</td>\n",
       "      <td>False</td>\n",
       "      <td>1</td>\n",
       "      <td>58</td>\n",
       "      <td>10.0</td>\n",
       "      <td>2</td>\n",
       "      <td>128</td>\n",
       "      <td>...</td>\n",
       "      <td>2.0</td>\n",
       "      <td>3</td>\n",
       "      <td>False</td>\n",
       "      <td>2.0</td>\n",
       "      <td>43.74922</td>\n",
       "      <td>2</td>\n",
       "      <td>0.60</td>\n",
       "      <td>88</td>\n",
       "      <td>3</td>\n",
       "      <td>363</td>\n",
       "    </tr>\n",
       "  </tbody>\n",
       "</table>\n",
       "<p>5 rows × 22 columns</p>\n",
       "</div>"
      ],
      "text/plain": [
       "   log_price  review_scores_rating  has_availability  property_type  \\\n",
       "0   6.150603                 100.0              True             14   \n",
       "1   4.543295                  97.0              True             21   \n",
       "2   4.276666                  95.0              True             36   \n",
       "3   4.605170                  93.0              True             14   \n",
       "4   4.532599                  99.0              True             24   \n",
       "\n",
       "   instant_bookable  number_of_reviews_ltm  availability_60  \\\n",
       "0             False                      0                0   \n",
       "1              True                      0               60   \n",
       "2              True                      0               60   \n",
       "3             False                      2                0   \n",
       "4             False                      1               58   \n",
       "\n",
       "   review_scores_checkin  room_type  neighbourhood_cleansed  ...  beds  \\\n",
       "0                   10.0          0                      71  ...   7.0   \n",
       "1                   10.0          2                     122  ...   1.0   \n",
       "2                   10.0          2                      15  ...   1.0   \n",
       "3                   10.0          0                     109  ...   2.0   \n",
       "4                   10.0          2                     128  ...   2.0   \n",
       "\n",
       "   host_response_time  host_is_superhost  bedrooms  latitude  minimum_nights  \\\n",
       "0                   1              False       5.0  43.64590              28   \n",
       "1                   0              False       1.0  43.64080             180   \n",
       "2                   1              False       1.0  43.69805              28   \n",
       "3                   4              False       2.0  43.63539              30   \n",
       "4                   3              False       2.0  43.74922               2   \n",
       "\n",
       "   reviews_per_month  availability_90  bathrooms_text  availability_365  \n",
       "0               0.10                0              11                 0  \n",
       "1               1.19               90               5               365  \n",
       "2               1.64               90               4               365  \n",
       "3               0.86                8               2               283  \n",
       "4               0.60               88               3               363  \n",
       "\n",
       "[5 rows x 22 columns]"
      ]
     },
     "execution_count": 62,
     "metadata": {},
     "output_type": "execute_result"
    }
   ],
   "source": [
    "# Dropping the price column\n",
    "dfp = df.drop(['price'], axis = 1)\n",
    "dfp.head()"
   ]
  },
  {
   "cell_type": "code",
   "execution_count": 63,
   "id": "1e79fa94",
   "metadata": {},
   "outputs": [],
   "source": [
    "# Split data into X and y\n",
    "X = dfp.drop('log_price', axis = 1)\n",
    "y = dfp['log_price']"
   ]
  },
  {
   "cell_type": "code",
   "execution_count": 64,
   "id": "82364e86",
   "metadata": {},
   "outputs": [
    {
     "data": {
      "text/html": [
       "<div>\n",
       "<style scoped>\n",
       "    .dataframe tbody tr th:only-of-type {\n",
       "        vertical-align: middle;\n",
       "    }\n",
       "\n",
       "    .dataframe tbody tr th {\n",
       "        vertical-align: top;\n",
       "    }\n",
       "\n",
       "    .dataframe thead th {\n",
       "        text-align: right;\n",
       "    }\n",
       "</style>\n",
       "<table border=\"1\" class=\"dataframe\">\n",
       "  <thead>\n",
       "    <tr style=\"text-align: right;\">\n",
       "      <th></th>\n",
       "      <th>review_scores_rating</th>\n",
       "      <th>has_availability</th>\n",
       "      <th>property_type</th>\n",
       "      <th>instant_bookable</th>\n",
       "      <th>number_of_reviews_ltm</th>\n",
       "      <th>availability_60</th>\n",
       "      <th>review_scores_checkin</th>\n",
       "      <th>room_type</th>\n",
       "      <th>neighbourhood_cleansed</th>\n",
       "      <th>accommodates</th>\n",
       "      <th>...</th>\n",
       "      <th>beds</th>\n",
       "      <th>host_response_time</th>\n",
       "      <th>host_is_superhost</th>\n",
       "      <th>bedrooms</th>\n",
       "      <th>latitude</th>\n",
       "      <th>minimum_nights</th>\n",
       "      <th>reviews_per_month</th>\n",
       "      <th>availability_90</th>\n",
       "      <th>bathrooms_text</th>\n",
       "      <th>availability_365</th>\n",
       "    </tr>\n",
       "  </thead>\n",
       "  <tbody>\n",
       "    <tr>\n",
       "      <th>0</th>\n",
       "      <td>100.0</td>\n",
       "      <td>True</td>\n",
       "      <td>14</td>\n",
       "      <td>False</td>\n",
       "      <td>0</td>\n",
       "      <td>0</td>\n",
       "      <td>10.0</td>\n",
       "      <td>0</td>\n",
       "      <td>71</td>\n",
       "      <td>10</td>\n",
       "      <td>...</td>\n",
       "      <td>7.0</td>\n",
       "      <td>1</td>\n",
       "      <td>False</td>\n",
       "      <td>5.0</td>\n",
       "      <td>43.64590</td>\n",
       "      <td>28</td>\n",
       "      <td>0.10</td>\n",
       "      <td>0</td>\n",
       "      <td>11</td>\n",
       "      <td>0</td>\n",
       "    </tr>\n",
       "    <tr>\n",
       "      <th>1</th>\n",
       "      <td>97.0</td>\n",
       "      <td>True</td>\n",
       "      <td>21</td>\n",
       "      <td>True</td>\n",
       "      <td>0</td>\n",
       "      <td>60</td>\n",
       "      <td>10.0</td>\n",
       "      <td>2</td>\n",
       "      <td>122</td>\n",
       "      <td>2</td>\n",
       "      <td>...</td>\n",
       "      <td>1.0</td>\n",
       "      <td>0</td>\n",
       "      <td>False</td>\n",
       "      <td>1.0</td>\n",
       "      <td>43.64080</td>\n",
       "      <td>180</td>\n",
       "      <td>1.19</td>\n",
       "      <td>90</td>\n",
       "      <td>5</td>\n",
       "      <td>365</td>\n",
       "    </tr>\n",
       "    <tr>\n",
       "      <th>2</th>\n",
       "      <td>95.0</td>\n",
       "      <td>True</td>\n",
       "      <td>36</td>\n",
       "      <td>True</td>\n",
       "      <td>0</td>\n",
       "      <td>60</td>\n",
       "      <td>10.0</td>\n",
       "      <td>2</td>\n",
       "      <td>15</td>\n",
       "      <td>3</td>\n",
       "      <td>...</td>\n",
       "      <td>1.0</td>\n",
       "      <td>1</td>\n",
       "      <td>False</td>\n",
       "      <td>1.0</td>\n",
       "      <td>43.69805</td>\n",
       "      <td>28</td>\n",
       "      <td>1.64</td>\n",
       "      <td>90</td>\n",
       "      <td>4</td>\n",
       "      <td>365</td>\n",
       "    </tr>\n",
       "    <tr>\n",
       "      <th>3</th>\n",
       "      <td>93.0</td>\n",
       "      <td>True</td>\n",
       "      <td>14</td>\n",
       "      <td>False</td>\n",
       "      <td>2</td>\n",
       "      <td>0</td>\n",
       "      <td>10.0</td>\n",
       "      <td>0</td>\n",
       "      <td>109</td>\n",
       "      <td>5</td>\n",
       "      <td>...</td>\n",
       "      <td>2.0</td>\n",
       "      <td>4</td>\n",
       "      <td>False</td>\n",
       "      <td>2.0</td>\n",
       "      <td>43.63539</td>\n",
       "      <td>30</td>\n",
       "      <td>0.86</td>\n",
       "      <td>8</td>\n",
       "      <td>2</td>\n",
       "      <td>283</td>\n",
       "    </tr>\n",
       "    <tr>\n",
       "      <th>4</th>\n",
       "      <td>99.0</td>\n",
       "      <td>True</td>\n",
       "      <td>24</td>\n",
       "      <td>False</td>\n",
       "      <td>1</td>\n",
       "      <td>58</td>\n",
       "      <td>10.0</td>\n",
       "      <td>2</td>\n",
       "      <td>128</td>\n",
       "      <td>4</td>\n",
       "      <td>...</td>\n",
       "      <td>2.0</td>\n",
       "      <td>3</td>\n",
       "      <td>False</td>\n",
       "      <td>2.0</td>\n",
       "      <td>43.74922</td>\n",
       "      <td>2</td>\n",
       "      <td>0.60</td>\n",
       "      <td>88</td>\n",
       "      <td>3</td>\n",
       "      <td>363</td>\n",
       "    </tr>\n",
       "    <tr>\n",
       "      <th>...</th>\n",
       "      <td>...</td>\n",
       "      <td>...</td>\n",
       "      <td>...</td>\n",
       "      <td>...</td>\n",
       "      <td>...</td>\n",
       "      <td>...</td>\n",
       "      <td>...</td>\n",
       "      <td>...</td>\n",
       "      <td>...</td>\n",
       "      <td>...</td>\n",
       "      <td>...</td>\n",
       "      <td>...</td>\n",
       "      <td>...</td>\n",
       "      <td>...</td>\n",
       "      <td>...</td>\n",
       "      <td>...</td>\n",
       "      <td>...</td>\n",
       "      <td>...</td>\n",
       "      <td>...</td>\n",
       "      <td>...</td>\n",
       "      <td>...</td>\n",
       "    </tr>\n",
       "    <tr>\n",
       "      <th>10794</th>\n",
       "      <td>80.0</td>\n",
       "      <td>True</td>\n",
       "      <td>8</td>\n",
       "      <td>True</td>\n",
       "      <td>1</td>\n",
       "      <td>51</td>\n",
       "      <td>10.0</td>\n",
       "      <td>0</td>\n",
       "      <td>87</td>\n",
       "      <td>2</td>\n",
       "      <td>...</td>\n",
       "      <td>1.0</td>\n",
       "      <td>4</td>\n",
       "      <td>False</td>\n",
       "      <td>1.0</td>\n",
       "      <td>43.63780</td>\n",
       "      <td>1</td>\n",
       "      <td>1.00</td>\n",
       "      <td>81</td>\n",
       "      <td>7</td>\n",
       "      <td>81</td>\n",
       "    </tr>\n",
       "    <tr>\n",
       "      <th>10795</th>\n",
       "      <td>80.0</td>\n",
       "      <td>True</td>\n",
       "      <td>5</td>\n",
       "      <td>False</td>\n",
       "      <td>1</td>\n",
       "      <td>50</td>\n",
       "      <td>10.0</td>\n",
       "      <td>0</td>\n",
       "      <td>62</td>\n",
       "      <td>4</td>\n",
       "      <td>...</td>\n",
       "      <td>2.0</td>\n",
       "      <td>4</td>\n",
       "      <td>False</td>\n",
       "      <td>2.0</td>\n",
       "      <td>43.65734</td>\n",
       "      <td>2</td>\n",
       "      <td>1.00</td>\n",
       "      <td>70</td>\n",
       "      <td>2</td>\n",
       "      <td>70</td>\n",
       "    </tr>\n",
       "    <tr>\n",
       "      <th>10796</th>\n",
       "      <td>100.0</td>\n",
       "      <td>True</td>\n",
       "      <td>28</td>\n",
       "      <td>False</td>\n",
       "      <td>1</td>\n",
       "      <td>60</td>\n",
       "      <td>10.0</td>\n",
       "      <td>2</td>\n",
       "      <td>122</td>\n",
       "      <td>2</td>\n",
       "      <td>...</td>\n",
       "      <td>1.0</td>\n",
       "      <td>4</td>\n",
       "      <td>False</td>\n",
       "      <td>1.0</td>\n",
       "      <td>43.64015</td>\n",
       "      <td>1</td>\n",
       "      <td>1.00</td>\n",
       "      <td>89</td>\n",
       "      <td>4</td>\n",
       "      <td>89</td>\n",
       "    </tr>\n",
       "    <tr>\n",
       "      <th>10797</th>\n",
       "      <td>100.0</td>\n",
       "      <td>True</td>\n",
       "      <td>8</td>\n",
       "      <td>True</td>\n",
       "      <td>1</td>\n",
       "      <td>35</td>\n",
       "      <td>10.0</td>\n",
       "      <td>0</td>\n",
       "      <td>77</td>\n",
       "      <td>3</td>\n",
       "      <td>...</td>\n",
       "      <td>2.0</td>\n",
       "      <td>4</td>\n",
       "      <td>False</td>\n",
       "      <td>1.0</td>\n",
       "      <td>43.62431</td>\n",
       "      <td>2</td>\n",
       "      <td>1.00</td>\n",
       "      <td>65</td>\n",
       "      <td>2</td>\n",
       "      <td>65</td>\n",
       "    </tr>\n",
       "    <tr>\n",
       "      <th>10798</th>\n",
       "      <td>100.0</td>\n",
       "      <td>True</td>\n",
       "      <td>8</td>\n",
       "      <td>False</td>\n",
       "      <td>2</td>\n",
       "      <td>60</td>\n",
       "      <td>10.0</td>\n",
       "      <td>0</td>\n",
       "      <td>6</td>\n",
       "      <td>2</td>\n",
       "      <td>...</td>\n",
       "      <td>1.0</td>\n",
       "      <td>4</td>\n",
       "      <td>False</td>\n",
       "      <td>1.0</td>\n",
       "      <td>43.66533</td>\n",
       "      <td>1</td>\n",
       "      <td>2.00</td>\n",
       "      <td>80</td>\n",
       "      <td>2</td>\n",
       "      <td>80</td>\n",
       "    </tr>\n",
       "  </tbody>\n",
       "</table>\n",
       "<p>10799 rows × 21 columns</p>\n",
       "</div>"
      ],
      "text/plain": [
       "       review_scores_rating  has_availability  property_type  \\\n",
       "0                     100.0              True             14   \n",
       "1                      97.0              True             21   \n",
       "2                      95.0              True             36   \n",
       "3                      93.0              True             14   \n",
       "4                      99.0              True             24   \n",
       "...                     ...               ...            ...   \n",
       "10794                  80.0              True              8   \n",
       "10795                  80.0              True              5   \n",
       "10796                 100.0              True             28   \n",
       "10797                 100.0              True              8   \n",
       "10798                 100.0              True              8   \n",
       "\n",
       "       instant_bookable  number_of_reviews_ltm  availability_60  \\\n",
       "0                 False                      0                0   \n",
       "1                  True                      0               60   \n",
       "2                  True                      0               60   \n",
       "3                 False                      2                0   \n",
       "4                 False                      1               58   \n",
       "...                 ...                    ...              ...   \n",
       "10794              True                      1               51   \n",
       "10795             False                      1               50   \n",
       "10796             False                      1               60   \n",
       "10797              True                      1               35   \n",
       "10798             False                      2               60   \n",
       "\n",
       "       review_scores_checkin  room_type  neighbourhood_cleansed  accommodates  \\\n",
       "0                       10.0          0                      71            10   \n",
       "1                       10.0          2                     122             2   \n",
       "2                       10.0          2                      15             3   \n",
       "3                       10.0          0                     109             5   \n",
       "4                       10.0          2                     128             4   \n",
       "...                      ...        ...                     ...           ...   \n",
       "10794                   10.0          0                      87             2   \n",
       "10795                   10.0          0                      62             4   \n",
       "10796                   10.0          2                     122             2   \n",
       "10797                   10.0          0                      77             3   \n",
       "10798                   10.0          0                       6             2   \n",
       "\n",
       "       ...  beds  host_response_time  host_is_superhost  bedrooms  latitude  \\\n",
       "0      ...   7.0                   1              False       5.0  43.64590   \n",
       "1      ...   1.0                   0              False       1.0  43.64080   \n",
       "2      ...   1.0                   1              False       1.0  43.69805   \n",
       "3      ...   2.0                   4              False       2.0  43.63539   \n",
       "4      ...   2.0                   3              False       2.0  43.74922   \n",
       "...    ...   ...                 ...                ...       ...       ...   \n",
       "10794  ...   1.0                   4              False       1.0  43.63780   \n",
       "10795  ...   2.0                   4              False       2.0  43.65734   \n",
       "10796  ...   1.0                   4              False       1.0  43.64015   \n",
       "10797  ...   2.0                   4              False       1.0  43.62431   \n",
       "10798  ...   1.0                   4              False       1.0  43.66533   \n",
       "\n",
       "       minimum_nights  reviews_per_month  availability_90  bathrooms_text  \\\n",
       "0                  28               0.10                0              11   \n",
       "1                 180               1.19               90               5   \n",
       "2                  28               1.64               90               4   \n",
       "3                  30               0.86                8               2   \n",
       "4                   2               0.60               88               3   \n",
       "...               ...                ...              ...             ...   \n",
       "10794               1               1.00               81               7   \n",
       "10795               2               1.00               70               2   \n",
       "10796               1               1.00               89               4   \n",
       "10797               2               1.00               65               2   \n",
       "10798               1               2.00               80               2   \n",
       "\n",
       "       availability_365  \n",
       "0                     0  \n",
       "1                   365  \n",
       "2                   365  \n",
       "3                   283  \n",
       "4                   363  \n",
       "...                 ...  \n",
       "10794                81  \n",
       "10795                70  \n",
       "10796                89  \n",
       "10797                65  \n",
       "10798                80  \n",
       "\n",
       "[10799 rows x 21 columns]"
      ]
     },
     "execution_count": 64,
     "metadata": {},
     "output_type": "execute_result"
    }
   ],
   "source": [
    "# Checking X\n",
    "X"
   ]
  },
  {
   "cell_type": "code",
   "execution_count": 65,
   "id": "09648fff",
   "metadata": {},
   "outputs": [
    {
     "data": {
      "text/plain": [
       "0        6.150603\n",
       "1        4.543295\n",
       "2        4.276666\n",
       "3        4.605170\n",
       "4        4.532599\n",
       "           ...   \n",
       "10794    4.736198\n",
       "10795    4.262680\n",
       "10796    5.273000\n",
       "10797    4.852030\n",
       "10798    4.477337\n",
       "Name: log_price, Length: 10799, dtype: float64"
      ]
     },
     "execution_count": 65,
     "metadata": {},
     "output_type": "execute_result"
    }
   ],
   "source": [
    "# Checking y\n",
    "y"
   ]
  },
  {
   "cell_type": "code",
   "execution_count": 66,
   "id": "e739028c",
   "metadata": {},
   "outputs": [],
   "source": [
    "# Split into train and test data\n",
    "X_train, X_test, y_train, y_test = train_test_split(X,y, test_size = 0.2)"
   ]
  },
  {
   "cell_type": "code",
   "execution_count": 67,
   "id": "e69bea2d",
   "metadata": {
    "scrolled": true
   },
   "outputs": [
    {
     "data": {
      "text/plain": [
       "(8639, 8639, 2160, 2160)"
      ]
     },
     "execution_count": 67,
     "metadata": {},
     "output_type": "execute_result"
    }
   ],
   "source": [
    "# Checking the length of different test and train sets\n",
    "len(X_train),len(y_train),len(X_test),len(y_test)"
   ]
  },
  {
   "cell_type": "markdown",
   "id": "9088568c",
   "metadata": {},
   "source": [
    "### Using Linear Regression Model"
   ]
  },
  {
   "cell_type": "code",
   "execution_count": 68,
   "id": "c8b7b8cd",
   "metadata": {},
   "outputs": [],
   "source": [
    "# Importing LinearRegression model from sklearn library\n",
    "from sklearn.linear_model import LinearRegression\n",
    "lr = LinearRegression()"
   ]
  },
  {
   "cell_type": "code",
   "execution_count": 69,
   "id": "6d395252",
   "metadata": {},
   "outputs": [
    {
     "data": {
      "text/plain": [
       "LinearRegression()"
      ]
     },
     "execution_count": 69,
     "metadata": {},
     "output_type": "execute_result"
    }
   ],
   "source": [
    "# Fitting the model\n",
    "lr.fit(X_train, y_train)"
   ]
  },
  {
   "cell_type": "code",
   "execution_count": 70,
   "id": "f3fd7a81",
   "metadata": {},
   "outputs": [
    {
     "data": {
      "text/plain": [
       "0.5408544300583042"
      ]
     },
     "execution_count": 70,
     "metadata": {},
     "output_type": "execute_result"
    }
   ],
   "source": [
    "# Training Model Score\n",
    "lr.score(X_train,y_train)"
   ]
  },
  {
   "cell_type": "code",
   "execution_count": 71,
   "id": "ed084d6a",
   "metadata": {},
   "outputs": [],
   "source": [
    "#Making the predictions\n",
    "y_preds = lr.predict(X_test)"
   ]
  },
  {
   "cell_type": "code",
   "execution_count": 72,
   "id": "204554ce",
   "metadata": {},
   "outputs": [
    {
     "data": {
      "text/plain": [
       "array([5.04644995, 4.37230966, 5.55146737, ..., 4.65655182, 4.55059472,\n",
       "       4.77434697])"
      ]
     },
     "execution_count": 72,
     "metadata": {},
     "output_type": "execute_result"
    }
   ],
   "source": [
    "y_preds"
   ]
  },
  {
   "cell_type": "code",
   "execution_count": 73,
   "id": "50596f47",
   "metadata": {},
   "outputs": [
    {
     "data": {
      "text/plain": [
       "0.47406547356495343"
      ]
     },
     "execution_count": 73,
     "metadata": {},
     "output_type": "execute_result"
    }
   ],
   "source": [
    "# Test Model Score\n",
    "lr.score(X_test, y_test)"
   ]
  },
  {
   "cell_type": "code",
   "execution_count": 74,
   "id": "50faac1f",
   "metadata": {
    "scrolled": true
   },
   "outputs": [
    {
     "name": "stdout",
     "output_type": "stream",
     "text": [
      "0.35204433474524804\n"
     ]
    }
   ],
   "source": [
    "# Calculating Mean Absolute Error\n",
    "print(mean_absolute_error(y_test, y_preds))"
   ]
  },
  {
   "cell_type": "code",
   "execution_count": 75,
   "id": "06acd4ed",
   "metadata": {},
   "outputs": [
    {
     "name": "stdout",
     "output_type": "stream",
     "text": [
      "0.2813577675751425\n"
     ]
    }
   ],
   "source": [
    "# Calculating mean_squared_error\n",
    "print(mean_squared_error(y_test, y_preds))"
   ]
  },
  {
   "cell_type": "code",
   "execution_count": 76,
   "id": "1690ce6e",
   "metadata": {},
   "outputs": [
    {
     "name": "stdout",
     "output_type": "stream",
     "text": [
      "0.5304316804029926\n"
     ]
    }
   ],
   "source": [
    "# Calculating Root Mean Squared Error\n",
    "print(np.sqrt(mean_squared_error(y_test, y_preds)))"
   ]
  },
  {
   "cell_type": "code",
   "execution_count": 77,
   "id": "6552b32a",
   "metadata": {},
   "outputs": [
    {
     "data": {
      "text/plain": [
       "Text(0, 0.5, 'Count')"
      ]
     },
     "execution_count": 77,
     "metadata": {},
     "output_type": "execute_result"
    },
    {
     "data": {
      "image/png": "[encoded data removed]",
      "text/plain": [
       "<Figure size 1008x864 with 4 Axes>"
      ]
     },
     "metadata": {
      "needs_background": "light"
     },
     "output_type": "display_data"
    }
   ],
   "source": [
    "fig,ax = plt.subplots(nrows = 2, ncols =2, figsize = (14,12))\n",
    "ax[0,0].hist(y_preds)\n",
    "ax[0,0].set_title('Histogram of predicted y')\n",
    "ax[0,0].set_xlabel('Pridected y')\n",
    "ax[0,0].set_ylabel('Count')\n",
    "\n",
    "ax[0,1].scatter(y_test, y_preds)\n",
    "ax[0,1].set_title('Actual y vs. Predicted y')\n",
    "ax[0,1].set_xlabel('Actual y')\n",
    "ax[0,1].set_ylabel('Predicted y')\n",
    "\n",
    "ax[1,0].scatter(y_preds, y_test - y_preds)\n",
    "ax[1,0].set_title('Residual Plot')\n",
    "ax[1,0].set_xlabel('Predicted y')\n",
    "ax[1,0].set_ylabel('Residuals')\n",
    "\n",
    "ax[1,1].hist(y_test - y_preds)\n",
    "ax[1,1].set_title('Histogram of Residuals')\n",
    "ax[1,1].set_xlabel('Residuals')\n",
    "ax[1,1].set_ylabel('Count')"
   ]
  },
  {
   "cell_type": "markdown",
   "id": "e6cde461",
   "metadata": {},
   "source": [
    "### Using Ridge Regression"
   ]
  },
  {
   "cell_type": "code",
   "execution_count": 78,
   "id": "4b93863f",
   "metadata": {},
   "outputs": [],
   "source": [
    "# Importing the model\n",
    "from sklearn.linear_model import Ridge\n",
    "ri = Ridge()"
   ]
  },
  {
   "cell_type": "code",
   "execution_count": 79,
   "id": "f16cdabe",
   "metadata": {},
   "outputs": [
    {
     "data": {
      "text/plain": [
       "Ridge()"
      ]
     },
     "execution_count": 79,
     "metadata": {},
     "output_type": "execute_result"
    }
   ],
   "source": [
    "# Fitting the model on training data\n",
    "ri.fit(X_train, y_train)"
   ]
  },
  {
   "cell_type": "code",
   "execution_count": 80,
   "id": "62b846a6",
   "metadata": {},
   "outputs": [
    {
     "data": {
      "text/plain": [
       "0.5407782791854554"
      ]
     },
     "execution_count": 80,
     "metadata": {},
     "output_type": "execute_result"
    }
   ],
   "source": [
    "# Finding Train model score\n",
    "ri.score(X_train, y_train)"
   ]
  },
  {
   "cell_type": "code",
   "execution_count": 81,
   "id": "8ed3881a",
   "metadata": {},
   "outputs": [],
   "source": [
    "# Making Predictions\n",
    "yr_preds = ri.predict(X_test)"
   ]
  },
  {
   "cell_type": "code",
   "execution_count": 82,
   "id": "ca5ac8aa",
   "metadata": {},
   "outputs": [
    {
     "data": {
      "text/plain": [
       "array([5.04188165, 4.3718853 , 5.55616939, ..., 4.65772648, 4.54875481,\n",
       "       4.77138481])"
      ]
     },
     "execution_count": 82,
     "metadata": {},
     "output_type": "execute_result"
    }
   ],
   "source": [
    "yr_preds"
   ]
  },
  {
   "cell_type": "code",
   "execution_count": 83,
   "id": "b51ee501",
   "metadata": {},
   "outputs": [
    {
     "data": {
      "text/plain": [
       "0.47410643616674"
      ]
     },
     "execution_count": 83,
     "metadata": {},
     "output_type": "execute_result"
    }
   ],
   "source": [
    "# Finding test model score\n",
    "ri.score(X_test, y_test)"
   ]
  },
  {
   "cell_type": "code",
   "execution_count": 84,
   "id": "56accdeb",
   "metadata": {},
   "outputs": [
    {
     "name": "stdout",
     "output_type": "stream",
     "text": [
      "0.35196648670152253\n"
     ]
    }
   ],
   "source": [
    "# Calculating Mean absolute error\n",
    "print(mean_absolute_error(y_test, yr_preds))"
   ]
  },
  {
   "cell_type": "code",
   "execution_count": 85,
   "id": "dfa63b06",
   "metadata": {},
   "outputs": [
    {
     "name": "stdout",
     "output_type": "stream",
     "text": [
      "0.2813358539231318\n"
     ]
    }
   ],
   "source": [
    "# Calculating Mean Squared error\n",
    "print(mean_squared_error(y_test, yr_preds))"
   ]
  },
  {
   "cell_type": "code",
   "execution_count": 86,
   "id": "2183ece4",
   "metadata": {},
   "outputs": [
    {
     "name": "stdout",
     "output_type": "stream",
     "text": [
      "0.5304110235686395\n"
     ]
    }
   ],
   "source": [
    "# Calculating Root Mean Squared error\n",
    "print(np.sqrt(mean_squared_error(y_test, yr_preds)))"
   ]
  },
  {
   "cell_type": "code",
   "execution_count": 87,
   "id": "bc092349",
   "metadata": {},
   "outputs": [
    {
     "data": {
      "text/plain": [
       "Text(0, 0.5, 'Count')"
      ]
     },
     "execution_count": 87,
     "metadata": {},
     "output_type": "execute_result"
    },
    {
     "data": {
      "image/png": "[encoded data removed]",
      "text/plain": [
       "<Figure size 1008x864 with 4 Axes>"
      ]
     },
     "metadata": {
      "needs_background": "light"
     },
     "output_type": "display_data"
    }
   ],
   "source": [
    "fig,ax = plt.subplots(nrows = 2, ncols =2, figsize = (14,12))\n",
    "ax[0,0].hist(y_preds)\n",
    "ax[0,0].set_title('Histogram of predicted y')\n",
    "ax[0,0].set_xlabel('Pridected y')\n",
    "ax[0,0].set_ylabel('Count')\n",
    "\n",
    "ax[0,1].scatter(y_test, y_preds)\n",
    "ax[0,1].set_title('Actual y vs. Predicted y')\n",
    "ax[0,1].set_xlabel('Actual y')\n",
    "ax[0,1].set_ylabel('Predicted y')\n",
    "\n",
    "ax[1,0].scatter(y_preds, y_test - y_preds)\n",
    "ax[1,0].set_title('Residual Plot')\n",
    "ax[1,0].set_xlabel('Predicted y')\n",
    "ax[1,0].set_ylabel('Residuals')\n",
    "\n",
    "ax[1,1].hist(y_test - y_preds)\n",
    "ax[1,1].set_title('Histogram of Residuals')\n",
    "ax[1,1].set_xlabel('Residuals')\n",
    "ax[1,1].set_ylabel('Count')"
   ]
  },
  {
   "cell_type": "markdown",
   "id": "f0c28c50",
   "metadata": {},
   "source": [
    "### Using Lasso Regression"
   ]
  },
  {
   "cell_type": "code",
   "execution_count": 88,
   "id": "89f8e546",
   "metadata": {},
   "outputs": [],
   "source": [
    "# Importing the model\n",
    "from sklearn.linear_model import Lasso\n",
    "la=Lasso()"
   ]
  },
  {
   "cell_type": "code",
   "execution_count": 89,
   "id": "eb4ce741",
   "metadata": {},
   "outputs": [
    {
     "data": {
      "text/plain": [
       "Lasso()"
      ]
     },
     "execution_count": 89,
     "metadata": {},
     "output_type": "execute_result"
    }
   ],
   "source": [
    "# Fitting the model on training data\n",
    "la.fit(X_train, y_train)"
   ]
  },
  {
   "cell_type": "code",
   "execution_count": 90,
   "id": "20d3b27f",
   "metadata": {},
   "outputs": [
    {
     "data": {
      "text/plain": [
       "0.24648981571238526"
      ]
     },
     "execution_count": 90,
     "metadata": {},
     "output_type": "execute_result"
    }
   ],
   "source": [
    "# Finding Train model score\n",
    "la.score(X_train, y_train)"
   ]
  },
  {
   "cell_type": "code",
   "execution_count": 91,
   "id": "f1dfa832",
   "metadata": {},
   "outputs": [],
   "source": [
    "# Making Predictions\n",
    "yl_preds = la.predict(X_test)"
   ]
  },
  {
   "cell_type": "code",
   "execution_count": 92,
   "id": "e7b54f86",
   "metadata": {},
   "outputs": [
    {
     "data": {
      "text/plain": [
       "array([4.77375614, 4.71807134, 4.68457566, ..., 4.74905638, 4.82805548,\n",
       "       4.78614275])"
      ]
     },
     "execution_count": 92,
     "metadata": {},
     "output_type": "execute_result"
    }
   ],
   "source": [
    "# Getting Predictions\n",
    "yl_preds"
   ]
  },
  {
   "cell_type": "code",
   "execution_count": 93,
   "id": "69ea8262",
   "metadata": {},
   "outputs": [
    {
     "data": {
      "text/plain": [
       "0.2001024669205388"
      ]
     },
     "execution_count": 93,
     "metadata": {},
     "output_type": "execute_result"
    }
   ],
   "source": [
    "# Finding test model score\n",
    "la.score(X_test, y_test)"
   ]
  },
  {
   "cell_type": "code",
   "execution_count": 94,
   "id": "2b5b98c5",
   "metadata": {},
   "outputs": [
    {
     "name": "stdout",
     "output_type": "stream",
     "text": [
      "0.46600614813776514\n"
     ]
    }
   ],
   "source": [
    "# Calculating Mean absolute error\n",
    "print(mean_absolute_error(y_test, yl_preds))"
   ]
  },
  {
   "cell_type": "code",
   "execution_count": 95,
   "id": "0d588c28",
   "metadata": {},
   "outputs": [
    {
     "name": "stdout",
     "output_type": "stream",
     "text": [
      "0.4279190144096687\n"
     ]
    }
   ],
   "source": [
    "# Calculating Mean Squared  error\n",
    "print(mean_squared_error(y_test, yl_preds))"
   ]
  },
  {
   "cell_type": "code",
   "execution_count": 96,
   "id": "f657e0a4",
   "metadata": {},
   "outputs": [
    {
     "name": "stdout",
     "output_type": "stream",
     "text": [
      "0.654155191380202\n"
     ]
    }
   ],
   "source": [
    "# Calculating Root Mean squared error\n",
    "print(np.sqrt(mean_squared_error(y_test, yl_preds)))"
   ]
  },
  {
   "cell_type": "code",
   "execution_count": 97,
   "id": "037c57b9",
   "metadata": {},
   "outputs": [
    {
     "data": {
      "text/plain": [
       "Text(0, 0.5, 'Count')"
      ]
     },
     "execution_count": 97,
     "metadata": {},
     "output_type": "execute_result"
    },
    {
     "data": {
      "image/png": "[encoded data removed]",
      "text/plain": [
       "<Figure size 1008x864 with 4 Axes>"
      ]
     },
     "metadata": {
      "needs_background": "light"
     },
     "output_type": "display_data"
    }
   ],
   "source": [
    "fig,ax = plt.subplots(nrows = 2, ncols =2, figsize = (14,12))\n",
    "ax[0,0].hist(y_preds)\n",
    "ax[0,0].set_title('Histogram of predicted y')\n",
    "ax[0,0].set_xlabel('Pridected y')\n",
    "ax[0,0].set_ylabel('Count')\n",
    "\n",
    "ax[0,1].scatter(y_test, y_preds)\n",
    "ax[0,1].set_title('Actual y vs. Predicted y')\n",
    "ax[0,1].set_xlabel('Actual y')\n",
    "ax[0,1].set_ylabel('Predicted y')\n",
    "\n",
    "ax[1,0].scatter(y_preds, y_test - y_preds)\n",
    "ax[1,0].set_title('Residual Plot')\n",
    "ax[1,0].set_xlabel('Predicted y')\n",
    "ax[1,0].set_ylabel('Residuals')\n",
    "\n",
    "ax[1,1].hist(y_test - y_preds)\n",
    "ax[1,1].set_title('Histogram of Residuals')\n",
    "ax[1,1].set_xlabel('Residuals')\n",
    "ax[1,1].set_ylabel('Count')"
   ]
  },
  {
   "cell_type": "markdown",
   "id": "1b683fa1",
   "metadata": {},
   "source": [
    "### Using K-Nearest Neighbors"
   ]
  },
  {
   "cell_type": "code",
   "execution_count": 98,
   "id": "55fa5761",
   "metadata": {},
   "outputs": [],
   "source": [
    "# Importing the model\n",
    "from sklearn.neighbors import KNeighborsRegressor\n",
    "knn = KNeighborsRegressor()"
   ]
  },
  {
   "cell_type": "code",
   "execution_count": 99,
   "id": "d5abb899",
   "metadata": {},
   "outputs": [
    {
     "data": {
      "text/plain": [
       "KNeighborsRegressor()"
      ]
     },
     "execution_count": 99,
     "metadata": {},
     "output_type": "execute_result"
    }
   ],
   "source": [
    "# Fitting the model on training data\n",
    "knn.fit(X_train, y_train)"
   ]
  },
  {
   "cell_type": "code",
   "execution_count": 100,
   "id": "7a53308c",
   "metadata": {},
   "outputs": [
    {
     "data": {
      "text/plain": [
       "0.5837302672951772"
      ]
     },
     "execution_count": 100,
     "metadata": {},
     "output_type": "execute_result"
    }
   ],
   "source": [
    "# Finding Train model score\n",
    "knn.score(X_train, y_train)"
   ]
  },
  {
   "cell_type": "code",
   "execution_count": 101,
   "id": "2db69857",
   "metadata": {},
   "outputs": [],
   "source": [
    "# Making Predictions\n",
    "yk_preds = knn.predict(X_test)"
   ]
  },
  {
   "cell_type": "code",
   "execution_count": 102,
   "id": "8bbc685d",
   "metadata": {},
   "outputs": [
    {
     "data": {
      "text/plain": [
       "array([4.69917071, 4.62386537, 5.05952823, ..., 4.7037161 , 4.59026858,\n",
       "       5.09850376])"
      ]
     },
     "execution_count": 102,
     "metadata": {},
     "output_type": "execute_result"
    }
   ],
   "source": [
    "yk_preds"
   ]
  },
  {
   "cell_type": "code",
   "execution_count": 103,
   "id": "adfae448",
   "metadata": {},
   "outputs": [
    {
     "data": {
      "text/plain": [
       "0.29979399100073745"
      ]
     },
     "execution_count": 103,
     "metadata": {},
     "output_type": "execute_result"
    }
   ],
   "source": [
    "# Finding test model score\n",
    "knn.score(X_test, y_test)"
   ]
  },
  {
   "cell_type": "code",
   "execution_count": 104,
   "id": "3a4bcf94",
   "metadata": {},
   "outputs": [
    {
     "name": "stdout",
     "output_type": "stream",
     "text": [
      "0.4269426748215221\n"
     ]
    }
   ],
   "source": [
    "# Calculating Mean absolute error\n",
    "print(mean_absolute_error(y_test, yk_preds))"
   ]
  },
  {
   "cell_type": "code",
   "execution_count": 105,
   "id": "56df4b10",
   "metadata": {},
   "outputs": [
    {
     "name": "stdout",
     "output_type": "stream",
     "text": [
      "0.37458731007853585\n"
     ]
    }
   ],
   "source": [
    "# Calculating Mean Squared error\n",
    "print(mean_squared_error(y_test, yk_preds))"
   ]
  },
  {
   "cell_type": "code",
   "execution_count": 106,
   "id": "7eebfd67",
   "metadata": {
    "scrolled": true
   },
   "outputs": [
    {
     "name": "stdout",
     "output_type": "stream",
     "text": [
      "0.6120353830282493\n"
     ]
    }
   ],
   "source": [
    "# Calculating Root Mean Squared error\n",
    "print(np.sqrt(mean_squared_error(y_test, yk_preds)))"
   ]
  },
  {
   "cell_type": "code",
   "execution_count": 107,
   "id": "5574b6f4",
   "metadata": {},
   "outputs": [
    {
     "data": {
      "text/plain": [
       "Text(0, 0.5, 'Count')"
      ]
     },
     "execution_count": 107,
     "metadata": {},
     "output_type": "execute_result"
    },
    {
     "data": {
      "image/png": "[encoded data removed]",
      "text/plain": [
       "<Figure size 1008x864 with 4 Axes>"
      ]
     },
     "metadata": {
      "needs_background": "light"
     },
     "output_type": "display_data"
    }
   ],
   "source": [
    "fig,ax = plt.subplots(nrows = 2, ncols =2, figsize = (14,12))\n",
    "ax[0,0].hist(y_preds)\n",
    "ax[0,0].set_title('Histogram of predicted y')\n",
    "ax[0,0].set_xlabel('Pridected y')\n",
    "ax[0,0].set_ylabel('Count')\n",
    "\n",
    "ax[0,1].scatter(y_test, y_preds)\n",
    "ax[0,1].set_title('Actual y vs. Predicted y')\n",
    "ax[0,1].set_xlabel('Actual y')\n",
    "ax[0,1].set_ylabel('Predicted y')\n",
    "\n",
    "ax[1,0].scatter(y_preds, y_test - y_preds)\n",
    "ax[1,0].set_title('Residual Plot')\n",
    "ax[1,0].set_xlabel('Predicted y')\n",
    "ax[1,0].set_ylabel('Residuals')\n",
    "\n",
    "ax[1,1].hist(y_test - y_preds)\n",
    "ax[1,1].set_title('Histogram of Residuals')\n",
    "ax[1,1].set_xlabel('Residuals')\n",
    "ax[1,1].set_ylabel('Count')"
   ]
  },
  {
   "cell_type": "markdown",
   "id": "62a0f163",
   "metadata": {},
   "source": [
    "### Using Random Forest"
   ]
  },
  {
   "cell_type": "code",
   "execution_count": 108,
   "id": "e83b9c61",
   "metadata": {},
   "outputs": [],
   "source": [
    "# Importing the model\n",
    "from sklearn.ensemble import RandomForestRegressor\n",
    "rf=RandomForestRegressor()"
   ]
  },
  {
   "cell_type": "code",
   "execution_count": 109,
   "id": "0cfa720f",
   "metadata": {},
   "outputs": [
    {
     "data": {
      "text/plain": [
       "RandomForestRegressor()"
      ]
     },
     "execution_count": 109,
     "metadata": {},
     "output_type": "execute_result"
    }
   ],
   "source": [
    "# Fitting the model on training data\n",
    "rf.fit(X_train, y_train)"
   ]
  },
  {
   "cell_type": "code",
   "execution_count": 110,
   "id": "5ea7766a",
   "metadata": {},
   "outputs": [
    {
     "data": {
      "text/plain": [
       "0.9465464075113842"
      ]
     },
     "execution_count": 110,
     "metadata": {},
     "output_type": "execute_result"
    }
   ],
   "source": [
    "# Finding Train model score\n",
    "rf.score(X_train, y_train)"
   ]
  },
  {
   "cell_type": "code",
   "execution_count": 111,
   "id": "9dd76d38",
   "metadata": {
    "scrolled": true
   },
   "outputs": [
    {
     "data": {
      "text/plain": [
       "array([4.98606184, 4.8562618 , 5.69258966, ..., 4.47393911, 4.59912204,\n",
       "       4.81841216])"
      ]
     },
     "execution_count": 111,
     "metadata": {},
     "output_type": "execute_result"
    }
   ],
   "source": [
    "# Making Predictions\n",
    "yrf_preds = rf.predict(X_test)\n",
    "yrf_preds"
   ]
  },
  {
   "cell_type": "code",
   "execution_count": 112,
   "id": "f2460432",
   "metadata": {},
   "outputs": [
    {
     "data": {
      "text/plain": [
       "0.5983819580625414"
      ]
     },
     "execution_count": 112,
     "metadata": {},
     "output_type": "execute_result"
    }
   ],
   "source": [
    "# Finding test model score\n",
    "rf.score(X_test, y_test)"
   ]
  },
  {
   "cell_type": "code",
   "execution_count": 113,
   "id": "3b6292ab",
   "metadata": {},
   "outputs": [
    {
     "name": "stdout",
     "output_type": "stream",
     "text": [
      "0.3116003274132431\n"
     ]
    }
   ],
   "source": [
    "# Calculating Mean absolute error\n",
    "print(mean_absolute_error(y_test, yrf_preds))"
   ]
  },
  {
   "cell_type": "code",
   "execution_count": 114,
   "id": "4e5cbb89",
   "metadata": {},
   "outputs": [
    {
     "name": "stdout",
     "output_type": "stream",
     "text": [
      "0.21485251493824253\n"
     ]
    }
   ],
   "source": [
    "# Calculating Mean Squared error\n",
    "print(mean_squared_error(y_test, yrf_preds))"
   ]
  },
  {
   "cell_type": "code",
   "execution_count": 115,
   "id": "05a8e6fe",
   "metadata": {},
   "outputs": [
    {
     "name": "stdout",
     "output_type": "stream",
     "text": [
      "0.46352186025930053\n"
     ]
    }
   ],
   "source": [
    "# Calculating Root Mean Squared error\n",
    "print(np.sqrt(mean_squared_error(y_test, yrf_preds)))"
   ]
  },
  {
   "cell_type": "code",
   "execution_count": 116,
   "id": "664f9bf7",
   "metadata": {},
   "outputs": [
    {
     "data": {
      "text/plain": [
       "Text(0, 0.5, 'Count')"
      ]
     },
     "execution_count": 116,
     "metadata": {},
     "output_type": "execute_result"
    },
    {
     "data": {
      "image/png": "[encoded data removed]",
      "text/plain": [
       "<Figure size 1008x864 with 4 Axes>"
      ]
     },
     "metadata": {
      "needs_background": "light"
     },
     "output_type": "display_data"
    }
   ],
   "source": [
    "fig,ax = plt.subplots(nrows = 2, ncols =2, figsize = (14,12))\n",
    "ax[0,0].hist(y_preds)\n",
    "ax[0,0].set_title('Histogram of predicted y')\n",
    "ax[0,0].set_xlabel('Pridected y')\n",
    "ax[0,0].set_ylabel('Count')\n",
    "\n",
    "ax[0,1].scatter(y_test, y_preds)\n",
    "ax[0,1].set_title('Actual y vs. Predicted y')\n",
    "ax[0,1].set_xlabel('Actual y')\n",
    "ax[0,1].set_ylabel('Predicted y')\n",
    "\n",
    "ax[1,0].scatter(y_preds, y_test - y_preds)\n",
    "ax[1,0].set_title('Residual Plot')\n",
    "ax[1,0].set_xlabel('Predicted y')\n",
    "ax[1,0].set_ylabel('Residuals')\n",
    "\n",
    "ax[1,1].hist(y_test - y_preds)\n",
    "ax[1,1].set_title('Histogram of Residuals')\n",
    "ax[1,1].set_xlabel('Residuals')\n",
    "ax[1,1].set_ylabel('Count')"
   ]
  },
  {
   "cell_type": "markdown",
   "id": "f2f44726",
   "metadata": {},
   "source": [
    "### Conclusion"
   ]
  },
  {
   "cell_type": "markdown",
   "id": "eab253dc",
   "metadata": {},
   "source": [
    "I tried 5 different models on Airbnb listing price prediction\n",
    "\n",
    "1. K-Nearest Neighbors\n",
    "2. Linear Regression\n",
    "3. Ridge Regression\n",
    "4. Lasso Regression\n",
    "5. Random Forest"
   ]
  },
  {
   "cell_type": "code",
   "execution_count": null,
   "id": "bd2fae07",
   "metadata": {},
   "outputs": [],
   "source": []
  }
 ],
 "metadata": {
  "kernelspec": {
   "display_name": "Python 3",
   "language": "python",
   "name": "python3"
  },
  "language_info": {
   "codemirror_mode": {
    "name": "ipython",
    "version": 3
   },
   "file_extension": ".py",
   "mimetype": "text/x-python",
   "name": "python",
   "nbconvert_exporter": "python",
   "pygments_lexer": "ipython3",
   "version": "3.8.8"
  }
 },
 "nbformat": 4,
 "nbformat_minor": 5
}
