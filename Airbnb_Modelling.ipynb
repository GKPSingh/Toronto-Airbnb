{
 "cells": [
  {
   "cell_type": "code",
   "execution_count": 1,
   "id": "7c44bbc9",
   "metadata": {},
   "outputs": [],
   "source": [
    "# Importing required libraries\n",
    "import numpy as np\n",
    "import pandas as pd\n",
    "import matplotlib.pyplot as plt\n",
    "%matplotlib inline\n",
    "import seaborn as sns"
   ]
  },
  {
   "cell_type": "code",
   "execution_count": 2,
   "id": "3367228d",
   "metadata": {},
   "outputs": [],
   "source": [
    "# Loading the data and creating DataFrame\n",
    "df = pd.read_csv('./data/data_eda.csv')"
   ]
  },
  {
   "cell_type": "code",
   "execution_count": 3,
   "id": "099a4810",
   "metadata": {
    "scrolled": true
   },
   "outputs": [
    {
     "data": {
      "text/html": [
       "<div>\n",
       "<style scoped>\n",
       "    .dataframe tbody tr th:only-of-type {\n",
       "        vertical-align: middle;\n",
       "    }\n",
       "\n",
       "    .dataframe tbody tr th {\n",
       "        vertical-align: top;\n",
       "    }\n",
       "\n",
       "    .dataframe thead th {\n",
       "        text-align: right;\n",
       "    }\n",
       "</style>\n",
       "<table border=\"1\" class=\"dataframe\">\n",
       "  <thead>\n",
       "    <tr style=\"text-align: right;\">\n",
       "      <th></th>\n",
       "      <th>log_price</th>\n",
       "      <th>price</th>\n",
       "      <th>review_scores_rating</th>\n",
       "      <th>has_availability</th>\n",
       "      <th>property_type</th>\n",
       "      <th>instant_bookable</th>\n",
       "      <th>number_of_reviews_ltm</th>\n",
       "      <th>availability_60</th>\n",
       "      <th>review_scores_checkin</th>\n",
       "      <th>room_type</th>\n",
       "      <th>...</th>\n",
       "      <th>beds</th>\n",
       "      <th>host_response_time</th>\n",
       "      <th>host_is_superhost</th>\n",
       "      <th>bedrooms</th>\n",
       "      <th>latitude</th>\n",
       "      <th>minimum_nights</th>\n",
       "      <th>reviews_per_month</th>\n",
       "      <th>availability_90</th>\n",
       "      <th>bathrooms_text</th>\n",
       "      <th>availability_365</th>\n",
       "    </tr>\n",
       "  </thead>\n",
       "  <tbody>\n",
       "    <tr>\n",
       "      <th>0</th>\n",
       "      <td>6.150603</td>\n",
       "      <td>469.0</td>\n",
       "      <td>100.0</td>\n",
       "      <td>True</td>\n",
       "      <td>14</td>\n",
       "      <td>False</td>\n",
       "      <td>0</td>\n",
       "      <td>0</td>\n",
       "      <td>10.0</td>\n",
       "      <td>0</td>\n",
       "      <td>...</td>\n",
       "      <td>7.0</td>\n",
       "      <td>1</td>\n",
       "      <td>False</td>\n",
       "      <td>5.0</td>\n",
       "      <td>43.64590</td>\n",
       "      <td>28</td>\n",
       "      <td>0.10</td>\n",
       "      <td>0</td>\n",
       "      <td>11</td>\n",
       "      <td>0</td>\n",
       "    </tr>\n",
       "    <tr>\n",
       "      <th>1</th>\n",
       "      <td>4.543295</td>\n",
       "      <td>94.0</td>\n",
       "      <td>97.0</td>\n",
       "      <td>True</td>\n",
       "      <td>21</td>\n",
       "      <td>True</td>\n",
       "      <td>0</td>\n",
       "      <td>60</td>\n",
       "      <td>10.0</td>\n",
       "      <td>2</td>\n",
       "      <td>...</td>\n",
       "      <td>1.0</td>\n",
       "      <td>0</td>\n",
       "      <td>False</td>\n",
       "      <td>1.0</td>\n",
       "      <td>43.64080</td>\n",
       "      <td>180</td>\n",
       "      <td>1.19</td>\n",
       "      <td>90</td>\n",
       "      <td>5</td>\n",
       "      <td>365</td>\n",
       "    </tr>\n",
       "    <tr>\n",
       "      <th>2</th>\n",
       "      <td>4.276666</td>\n",
       "      <td>72.0</td>\n",
       "      <td>95.0</td>\n",
       "      <td>True</td>\n",
       "      <td>36</td>\n",
       "      <td>True</td>\n",
       "      <td>0</td>\n",
       "      <td>60</td>\n",
       "      <td>10.0</td>\n",
       "      <td>2</td>\n",
       "      <td>...</td>\n",
       "      <td>1.0</td>\n",
       "      <td>1</td>\n",
       "      <td>False</td>\n",
       "      <td>1.0</td>\n",
       "      <td>43.69805</td>\n",
       "      <td>28</td>\n",
       "      <td>1.64</td>\n",
       "      <td>90</td>\n",
       "      <td>4</td>\n",
       "      <td>365</td>\n",
       "    </tr>\n",
       "    <tr>\n",
       "      <th>3</th>\n",
       "      <td>4.605170</td>\n",
       "      <td>100.0</td>\n",
       "      <td>93.0</td>\n",
       "      <td>True</td>\n",
       "      <td>14</td>\n",
       "      <td>False</td>\n",
       "      <td>2</td>\n",
       "      <td>0</td>\n",
       "      <td>10.0</td>\n",
       "      <td>0</td>\n",
       "      <td>...</td>\n",
       "      <td>2.0</td>\n",
       "      <td>4</td>\n",
       "      <td>False</td>\n",
       "      <td>2.0</td>\n",
       "      <td>43.63539</td>\n",
       "      <td>30</td>\n",
       "      <td>0.86</td>\n",
       "      <td>8</td>\n",
       "      <td>2</td>\n",
       "      <td>283</td>\n",
       "    </tr>\n",
       "    <tr>\n",
       "      <th>4</th>\n",
       "      <td>4.532599</td>\n",
       "      <td>93.0</td>\n",
       "      <td>99.0</td>\n",
       "      <td>True</td>\n",
       "      <td>24</td>\n",
       "      <td>False</td>\n",
       "      <td>1</td>\n",
       "      <td>58</td>\n",
       "      <td>10.0</td>\n",
       "      <td>2</td>\n",
       "      <td>...</td>\n",
       "      <td>2.0</td>\n",
       "      <td>3</td>\n",
       "      <td>False</td>\n",
       "      <td>2.0</td>\n",
       "      <td>43.74922</td>\n",
       "      <td>2</td>\n",
       "      <td>0.60</td>\n",
       "      <td>88</td>\n",
       "      <td>3</td>\n",
       "      <td>363</td>\n",
       "    </tr>\n",
       "  </tbody>\n",
       "</table>\n",
       "<p>5 rows × 23 columns</p>\n",
       "</div>"
      ],
      "text/plain": [
       "   log_price  price  review_scores_rating  has_availability  property_type  \\\n",
       "0   6.150603  469.0                 100.0              True             14   \n",
       "1   4.543295   94.0                  97.0              True             21   \n",
       "2   4.276666   72.0                  95.0              True             36   \n",
       "3   4.605170  100.0                  93.0              True             14   \n",
       "4   4.532599   93.0                  99.0              True             24   \n",
       "\n",
       "   instant_bookable  number_of_reviews_ltm  availability_60  \\\n",
       "0             False                      0                0   \n",
       "1              True                      0               60   \n",
       "2              True                      0               60   \n",
       "3             False                      2                0   \n",
       "4             False                      1               58   \n",
       "\n",
       "   review_scores_checkin  room_type  ...  beds  host_response_time  \\\n",
       "0                   10.0          0  ...   7.0                   1   \n",
       "1                   10.0          2  ...   1.0                   0   \n",
       "2                   10.0          2  ...   1.0                   1   \n",
       "3                   10.0          0  ...   2.0                   4   \n",
       "4                   10.0          2  ...   2.0                   3   \n",
       "\n",
       "   host_is_superhost  bedrooms  latitude  minimum_nights  reviews_per_month  \\\n",
       "0              False       5.0  43.64590              28               0.10   \n",
       "1              False       1.0  43.64080             180               1.19   \n",
       "2              False       1.0  43.69805              28               1.64   \n",
       "3              False       2.0  43.63539              30               0.86   \n",
       "4              False       2.0  43.74922               2               0.60   \n",
       "\n",
       "   availability_90  bathrooms_text  availability_365  \n",
       "0                0              11                 0  \n",
       "1               90               5               365  \n",
       "2               90               4               365  \n",
       "3                8               2               283  \n",
       "4               88               3               363  \n",
       "\n",
       "[5 rows x 23 columns]"
      ]
     },
     "execution_count": 3,
     "metadata": {},
     "output_type": "execute_result"
    }
   ],
   "source": [
    "# Checking the data\n",
    "df.head()"
   ]
  },
  {
   "cell_type": "markdown",
   "id": "a2b33138",
   "metadata": {},
   "source": [
    "### In our dataframe I have both price and log_price. I will use both of them separately for modelling and compare the results."
   ]
  },
  {
   "cell_type": "markdown",
   "id": "f3c756f8",
   "metadata": {},
   "source": [
    "### I will drop log_price first and do modelling on the remaining data"
   ]
  },
  {
   "cell_type": "code",
   "execution_count": 4,
   "id": "a6f39e27",
   "metadata": {},
   "outputs": [
    {
     "data": {
      "text/html": [
       "<div>\n",
       "<style scoped>\n",
       "    .dataframe tbody tr th:only-of-type {\n",
       "        vertical-align: middle;\n",
       "    }\n",
       "\n",
       "    .dataframe tbody tr th {\n",
       "        vertical-align: top;\n",
       "    }\n",
       "\n",
       "    .dataframe thead th {\n",
       "        text-align: right;\n",
       "    }\n",
       "</style>\n",
       "<table border=\"1\" class=\"dataframe\">\n",
       "  <thead>\n",
       "    <tr style=\"text-align: right;\">\n",
       "      <th></th>\n",
       "      <th>price</th>\n",
       "      <th>review_scores_rating</th>\n",
       "      <th>has_availability</th>\n",
       "      <th>property_type</th>\n",
       "      <th>instant_bookable</th>\n",
       "      <th>number_of_reviews_ltm</th>\n",
       "      <th>availability_60</th>\n",
       "      <th>review_scores_checkin</th>\n",
       "      <th>room_type</th>\n",
       "      <th>neighbourhood_cleansed</th>\n",
       "      <th>...</th>\n",
       "      <th>beds</th>\n",
       "      <th>host_response_time</th>\n",
       "      <th>host_is_superhost</th>\n",
       "      <th>bedrooms</th>\n",
       "      <th>latitude</th>\n",
       "      <th>minimum_nights</th>\n",
       "      <th>reviews_per_month</th>\n",
       "      <th>availability_90</th>\n",
       "      <th>bathrooms_text</th>\n",
       "      <th>availability_365</th>\n",
       "    </tr>\n",
       "  </thead>\n",
       "  <tbody>\n",
       "    <tr>\n",
       "      <th>0</th>\n",
       "      <td>469.0</td>\n",
       "      <td>100.0</td>\n",
       "      <td>True</td>\n",
       "      <td>14</td>\n",
       "      <td>False</td>\n",
       "      <td>0</td>\n",
       "      <td>0</td>\n",
       "      <td>10.0</td>\n",
       "      <td>0</td>\n",
       "      <td>71</td>\n",
       "      <td>...</td>\n",
       "      <td>7.0</td>\n",
       "      <td>1</td>\n",
       "      <td>False</td>\n",
       "      <td>5.0</td>\n",
       "      <td>43.64590</td>\n",
       "      <td>28</td>\n",
       "      <td>0.10</td>\n",
       "      <td>0</td>\n",
       "      <td>11</td>\n",
       "      <td>0</td>\n",
       "    </tr>\n",
       "    <tr>\n",
       "      <th>1</th>\n",
       "      <td>94.0</td>\n",
       "      <td>97.0</td>\n",
       "      <td>True</td>\n",
       "      <td>21</td>\n",
       "      <td>True</td>\n",
       "      <td>0</td>\n",
       "      <td>60</td>\n",
       "      <td>10.0</td>\n",
       "      <td>2</td>\n",
       "      <td>122</td>\n",
       "      <td>...</td>\n",
       "      <td>1.0</td>\n",
       "      <td>0</td>\n",
       "      <td>False</td>\n",
       "      <td>1.0</td>\n",
       "      <td>43.64080</td>\n",
       "      <td>180</td>\n",
       "      <td>1.19</td>\n",
       "      <td>90</td>\n",
       "      <td>5</td>\n",
       "      <td>365</td>\n",
       "    </tr>\n",
       "    <tr>\n",
       "      <th>2</th>\n",
       "      <td>72.0</td>\n",
       "      <td>95.0</td>\n",
       "      <td>True</td>\n",
       "      <td>36</td>\n",
       "      <td>True</td>\n",
       "      <td>0</td>\n",
       "      <td>60</td>\n",
       "      <td>10.0</td>\n",
       "      <td>2</td>\n",
       "      <td>15</td>\n",
       "      <td>...</td>\n",
       "      <td>1.0</td>\n",
       "      <td>1</td>\n",
       "      <td>False</td>\n",
       "      <td>1.0</td>\n",
       "      <td>43.69805</td>\n",
       "      <td>28</td>\n",
       "      <td>1.64</td>\n",
       "      <td>90</td>\n",
       "      <td>4</td>\n",
       "      <td>365</td>\n",
       "    </tr>\n",
       "    <tr>\n",
       "      <th>3</th>\n",
       "      <td>100.0</td>\n",
       "      <td>93.0</td>\n",
       "      <td>True</td>\n",
       "      <td>14</td>\n",
       "      <td>False</td>\n",
       "      <td>2</td>\n",
       "      <td>0</td>\n",
       "      <td>10.0</td>\n",
       "      <td>0</td>\n",
       "      <td>109</td>\n",
       "      <td>...</td>\n",
       "      <td>2.0</td>\n",
       "      <td>4</td>\n",
       "      <td>False</td>\n",
       "      <td>2.0</td>\n",
       "      <td>43.63539</td>\n",
       "      <td>30</td>\n",
       "      <td>0.86</td>\n",
       "      <td>8</td>\n",
       "      <td>2</td>\n",
       "      <td>283</td>\n",
       "    </tr>\n",
       "    <tr>\n",
       "      <th>4</th>\n",
       "      <td>93.0</td>\n",
       "      <td>99.0</td>\n",
       "      <td>True</td>\n",
       "      <td>24</td>\n",
       "      <td>False</td>\n",
       "      <td>1</td>\n",
       "      <td>58</td>\n",
       "      <td>10.0</td>\n",
       "      <td>2</td>\n",
       "      <td>128</td>\n",
       "      <td>...</td>\n",
       "      <td>2.0</td>\n",
       "      <td>3</td>\n",
       "      <td>False</td>\n",
       "      <td>2.0</td>\n",
       "      <td>43.74922</td>\n",
       "      <td>2</td>\n",
       "      <td>0.60</td>\n",
       "      <td>88</td>\n",
       "      <td>3</td>\n",
       "      <td>363</td>\n",
       "    </tr>\n",
       "  </tbody>\n",
       "</table>\n",
       "<p>5 rows × 22 columns</p>\n",
       "</div>"
      ],
      "text/plain": [
       "   price  review_scores_rating  has_availability  property_type  \\\n",
       "0  469.0                 100.0              True             14   \n",
       "1   94.0                  97.0              True             21   \n",
       "2   72.0                  95.0              True             36   \n",
       "3  100.0                  93.0              True             14   \n",
       "4   93.0                  99.0              True             24   \n",
       "\n",
       "   instant_bookable  number_of_reviews_ltm  availability_60  \\\n",
       "0             False                      0                0   \n",
       "1              True                      0               60   \n",
       "2              True                      0               60   \n",
       "3             False                      2                0   \n",
       "4             False                      1               58   \n",
       "\n",
       "   review_scores_checkin  room_type  neighbourhood_cleansed  ...  beds  \\\n",
       "0                   10.0          0                      71  ...   7.0   \n",
       "1                   10.0          2                     122  ...   1.0   \n",
       "2                   10.0          2                      15  ...   1.0   \n",
       "3                   10.0          0                     109  ...   2.0   \n",
       "4                   10.0          2                     128  ...   2.0   \n",
       "\n",
       "   host_response_time  host_is_superhost  bedrooms  latitude  minimum_nights  \\\n",
       "0                   1              False       5.0  43.64590              28   \n",
       "1                   0              False       1.0  43.64080             180   \n",
       "2                   1              False       1.0  43.69805              28   \n",
       "3                   4              False       2.0  43.63539              30   \n",
       "4                   3              False       2.0  43.74922               2   \n",
       "\n",
       "   reviews_per_month  availability_90  bathrooms_text  availability_365  \n",
       "0               0.10                0              11                 0  \n",
       "1               1.19               90               5               365  \n",
       "2               1.64               90               4               365  \n",
       "3               0.86                8               2               283  \n",
       "4               0.60               88               3               363  \n",
       "\n",
       "[5 rows x 22 columns]"
      ]
     },
     "execution_count": 4,
     "metadata": {},
     "output_type": "execute_result"
    }
   ],
   "source": [
    "# Dropping the log_price\n",
    "dfp = df.drop(['log_price'], axis = 1)\n",
    "dfp.head()"
   ]
  },
  {
   "cell_type": "code",
   "execution_count": 5,
   "id": "897e3fc1",
   "metadata": {},
   "outputs": [],
   "source": [
    "# Split data into X and y\n",
    "X = dfp.drop('price', axis = 1)\n",
    "y = dfp['price']"
   ]
  },
  {
   "cell_type": "code",
   "execution_count": 6,
   "id": "8a0981b7",
   "metadata": {},
   "outputs": [
    {
     "data": {
      "text/html": [
       "<div>\n",
       "<style scoped>\n",
       "    .dataframe tbody tr th:only-of-type {\n",
       "        vertical-align: middle;\n",
       "    }\n",
       "\n",
       "    .dataframe tbody tr th {\n",
       "        vertical-align: top;\n",
       "    }\n",
       "\n",
       "    .dataframe thead th {\n",
       "        text-align: right;\n",
       "    }\n",
       "</style>\n",
       "<table border=\"1\" class=\"dataframe\">\n",
       "  <thead>\n",
       "    <tr style=\"text-align: right;\">\n",
       "      <th></th>\n",
       "      <th>review_scores_rating</th>\n",
       "      <th>has_availability</th>\n",
       "      <th>property_type</th>\n",
       "      <th>instant_bookable</th>\n",
       "      <th>number_of_reviews_ltm</th>\n",
       "      <th>availability_60</th>\n",
       "      <th>review_scores_checkin</th>\n",
       "      <th>room_type</th>\n",
       "      <th>neighbourhood_cleansed</th>\n",
       "      <th>accommodates</th>\n",
       "      <th>...</th>\n",
       "      <th>beds</th>\n",
       "      <th>host_response_time</th>\n",
       "      <th>host_is_superhost</th>\n",
       "      <th>bedrooms</th>\n",
       "      <th>latitude</th>\n",
       "      <th>minimum_nights</th>\n",
       "      <th>reviews_per_month</th>\n",
       "      <th>availability_90</th>\n",
       "      <th>bathrooms_text</th>\n",
       "      <th>availability_365</th>\n",
       "    </tr>\n",
       "  </thead>\n",
       "  <tbody>\n",
       "    <tr>\n",
       "      <th>0</th>\n",
       "      <td>100.0</td>\n",
       "      <td>True</td>\n",
       "      <td>14</td>\n",
       "      <td>False</td>\n",
       "      <td>0</td>\n",
       "      <td>0</td>\n",
       "      <td>10.0</td>\n",
       "      <td>0</td>\n",
       "      <td>71</td>\n",
       "      <td>10</td>\n",
       "      <td>...</td>\n",
       "      <td>7.0</td>\n",
       "      <td>1</td>\n",
       "      <td>False</td>\n",
       "      <td>5.0</td>\n",
       "      <td>43.64590</td>\n",
       "      <td>28</td>\n",
       "      <td>0.10</td>\n",
       "      <td>0</td>\n",
       "      <td>11</td>\n",
       "      <td>0</td>\n",
       "    </tr>\n",
       "    <tr>\n",
       "      <th>1</th>\n",
       "      <td>97.0</td>\n",
       "      <td>True</td>\n",
       "      <td>21</td>\n",
       "      <td>True</td>\n",
       "      <td>0</td>\n",
       "      <td>60</td>\n",
       "      <td>10.0</td>\n",
       "      <td>2</td>\n",
       "      <td>122</td>\n",
       "      <td>2</td>\n",
       "      <td>...</td>\n",
       "      <td>1.0</td>\n",
       "      <td>0</td>\n",
       "      <td>False</td>\n",
       "      <td>1.0</td>\n",
       "      <td>43.64080</td>\n",
       "      <td>180</td>\n",
       "      <td>1.19</td>\n",
       "      <td>90</td>\n",
       "      <td>5</td>\n",
       "      <td>365</td>\n",
       "    </tr>\n",
       "    <tr>\n",
       "      <th>2</th>\n",
       "      <td>95.0</td>\n",
       "      <td>True</td>\n",
       "      <td>36</td>\n",
       "      <td>True</td>\n",
       "      <td>0</td>\n",
       "      <td>60</td>\n",
       "      <td>10.0</td>\n",
       "      <td>2</td>\n",
       "      <td>15</td>\n",
       "      <td>3</td>\n",
       "      <td>...</td>\n",
       "      <td>1.0</td>\n",
       "      <td>1</td>\n",
       "      <td>False</td>\n",
       "      <td>1.0</td>\n",
       "      <td>43.69805</td>\n",
       "      <td>28</td>\n",
       "      <td>1.64</td>\n",
       "      <td>90</td>\n",
       "      <td>4</td>\n",
       "      <td>365</td>\n",
       "    </tr>\n",
       "    <tr>\n",
       "      <th>3</th>\n",
       "      <td>93.0</td>\n",
       "      <td>True</td>\n",
       "      <td>14</td>\n",
       "      <td>False</td>\n",
       "      <td>2</td>\n",
       "      <td>0</td>\n",
       "      <td>10.0</td>\n",
       "      <td>0</td>\n",
       "      <td>109</td>\n",
       "      <td>5</td>\n",
       "      <td>...</td>\n",
       "      <td>2.0</td>\n",
       "      <td>4</td>\n",
       "      <td>False</td>\n",
       "      <td>2.0</td>\n",
       "      <td>43.63539</td>\n",
       "      <td>30</td>\n",
       "      <td>0.86</td>\n",
       "      <td>8</td>\n",
       "      <td>2</td>\n",
       "      <td>283</td>\n",
       "    </tr>\n",
       "    <tr>\n",
       "      <th>4</th>\n",
       "      <td>99.0</td>\n",
       "      <td>True</td>\n",
       "      <td>24</td>\n",
       "      <td>False</td>\n",
       "      <td>1</td>\n",
       "      <td>58</td>\n",
       "      <td>10.0</td>\n",
       "      <td>2</td>\n",
       "      <td>128</td>\n",
       "      <td>4</td>\n",
       "      <td>...</td>\n",
       "      <td>2.0</td>\n",
       "      <td>3</td>\n",
       "      <td>False</td>\n",
       "      <td>2.0</td>\n",
       "      <td>43.74922</td>\n",
       "      <td>2</td>\n",
       "      <td>0.60</td>\n",
       "      <td>88</td>\n",
       "      <td>3</td>\n",
       "      <td>363</td>\n",
       "    </tr>\n",
       "    <tr>\n",
       "      <th>...</th>\n",
       "      <td>...</td>\n",
       "      <td>...</td>\n",
       "      <td>...</td>\n",
       "      <td>...</td>\n",
       "      <td>...</td>\n",
       "      <td>...</td>\n",
       "      <td>...</td>\n",
       "      <td>...</td>\n",
       "      <td>...</td>\n",
       "      <td>...</td>\n",
       "      <td>...</td>\n",
       "      <td>...</td>\n",
       "      <td>...</td>\n",
       "      <td>...</td>\n",
       "      <td>...</td>\n",
       "      <td>...</td>\n",
       "      <td>...</td>\n",
       "      <td>...</td>\n",
       "      <td>...</td>\n",
       "      <td>...</td>\n",
       "      <td>...</td>\n",
       "    </tr>\n",
       "    <tr>\n",
       "      <th>10794</th>\n",
       "      <td>80.0</td>\n",
       "      <td>True</td>\n",
       "      <td>8</td>\n",
       "      <td>True</td>\n",
       "      <td>1</td>\n",
       "      <td>51</td>\n",
       "      <td>10.0</td>\n",
       "      <td>0</td>\n",
       "      <td>87</td>\n",
       "      <td>2</td>\n",
       "      <td>...</td>\n",
       "      <td>1.0</td>\n",
       "      <td>4</td>\n",
       "      <td>False</td>\n",
       "      <td>1.0</td>\n",
       "      <td>43.63780</td>\n",
       "      <td>1</td>\n",
       "      <td>1.00</td>\n",
       "      <td>81</td>\n",
       "      <td>7</td>\n",
       "      <td>81</td>\n",
       "    </tr>\n",
       "    <tr>\n",
       "      <th>10795</th>\n",
       "      <td>80.0</td>\n",
       "      <td>True</td>\n",
       "      <td>5</td>\n",
       "      <td>False</td>\n",
       "      <td>1</td>\n",
       "      <td>50</td>\n",
       "      <td>10.0</td>\n",
       "      <td>0</td>\n",
       "      <td>62</td>\n",
       "      <td>4</td>\n",
       "      <td>...</td>\n",
       "      <td>2.0</td>\n",
       "      <td>4</td>\n",
       "      <td>False</td>\n",
       "      <td>2.0</td>\n",
       "      <td>43.65734</td>\n",
       "      <td>2</td>\n",
       "      <td>1.00</td>\n",
       "      <td>70</td>\n",
       "      <td>2</td>\n",
       "      <td>70</td>\n",
       "    </tr>\n",
       "    <tr>\n",
       "      <th>10796</th>\n",
       "      <td>100.0</td>\n",
       "      <td>True</td>\n",
       "      <td>28</td>\n",
       "      <td>False</td>\n",
       "      <td>1</td>\n",
       "      <td>60</td>\n",
       "      <td>10.0</td>\n",
       "      <td>2</td>\n",
       "      <td>122</td>\n",
       "      <td>2</td>\n",
       "      <td>...</td>\n",
       "      <td>1.0</td>\n",
       "      <td>4</td>\n",
       "      <td>False</td>\n",
       "      <td>1.0</td>\n",
       "      <td>43.64015</td>\n",
       "      <td>1</td>\n",
       "      <td>1.00</td>\n",
       "      <td>89</td>\n",
       "      <td>4</td>\n",
       "      <td>89</td>\n",
       "    </tr>\n",
       "    <tr>\n",
       "      <th>10797</th>\n",
       "      <td>100.0</td>\n",
       "      <td>True</td>\n",
       "      <td>8</td>\n",
       "      <td>True</td>\n",
       "      <td>1</td>\n",
       "      <td>35</td>\n",
       "      <td>10.0</td>\n",
       "      <td>0</td>\n",
       "      <td>77</td>\n",
       "      <td>3</td>\n",
       "      <td>...</td>\n",
       "      <td>2.0</td>\n",
       "      <td>4</td>\n",
       "      <td>False</td>\n",
       "      <td>1.0</td>\n",
       "      <td>43.62431</td>\n",
       "      <td>2</td>\n",
       "      <td>1.00</td>\n",
       "      <td>65</td>\n",
       "      <td>2</td>\n",
       "      <td>65</td>\n",
       "    </tr>\n",
       "    <tr>\n",
       "      <th>10798</th>\n",
       "      <td>100.0</td>\n",
       "      <td>True</td>\n",
       "      <td>8</td>\n",
       "      <td>False</td>\n",
       "      <td>2</td>\n",
       "      <td>60</td>\n",
       "      <td>10.0</td>\n",
       "      <td>0</td>\n",
       "      <td>6</td>\n",
       "      <td>2</td>\n",
       "      <td>...</td>\n",
       "      <td>1.0</td>\n",
       "      <td>4</td>\n",
       "      <td>False</td>\n",
       "      <td>1.0</td>\n",
       "      <td>43.66533</td>\n",
       "      <td>1</td>\n",
       "      <td>2.00</td>\n",
       "      <td>80</td>\n",
       "      <td>2</td>\n",
       "      <td>80</td>\n",
       "    </tr>\n",
       "  </tbody>\n",
       "</table>\n",
       "<p>10799 rows × 21 columns</p>\n",
       "</div>"
      ],
      "text/plain": [
       "       review_scores_rating  has_availability  property_type  \\\n",
       "0                     100.0              True             14   \n",
       "1                      97.0              True             21   \n",
       "2                      95.0              True             36   \n",
       "3                      93.0              True             14   \n",
       "4                      99.0              True             24   \n",
       "...                     ...               ...            ...   \n",
       "10794                  80.0              True              8   \n",
       "10795                  80.0              True              5   \n",
       "10796                 100.0              True             28   \n",
       "10797                 100.0              True              8   \n",
       "10798                 100.0              True              8   \n",
       "\n",
       "       instant_bookable  number_of_reviews_ltm  availability_60  \\\n",
       "0                 False                      0                0   \n",
       "1                  True                      0               60   \n",
       "2                  True                      0               60   \n",
       "3                 False                      2                0   \n",
       "4                 False                      1               58   \n",
       "...                 ...                    ...              ...   \n",
       "10794              True                      1               51   \n",
       "10795             False                      1               50   \n",
       "10796             False                      1               60   \n",
       "10797              True                      1               35   \n",
       "10798             False                      2               60   \n",
       "\n",
       "       review_scores_checkin  room_type  neighbourhood_cleansed  accommodates  \\\n",
       "0                       10.0          0                      71            10   \n",
       "1                       10.0          2                     122             2   \n",
       "2                       10.0          2                      15             3   \n",
       "3                       10.0          0                     109             5   \n",
       "4                       10.0          2                     128             4   \n",
       "...                      ...        ...                     ...           ...   \n",
       "10794                   10.0          0                      87             2   \n",
       "10795                   10.0          0                      62             4   \n",
       "10796                   10.0          2                     122             2   \n",
       "10797                   10.0          0                      77             3   \n",
       "10798                   10.0          0                       6             2   \n",
       "\n",
       "       ...  beds  host_response_time  host_is_superhost  bedrooms  latitude  \\\n",
       "0      ...   7.0                   1              False       5.0  43.64590   \n",
       "1      ...   1.0                   0              False       1.0  43.64080   \n",
       "2      ...   1.0                   1              False       1.0  43.69805   \n",
       "3      ...   2.0                   4              False       2.0  43.63539   \n",
       "4      ...   2.0                   3              False       2.0  43.74922   \n",
       "...    ...   ...                 ...                ...       ...       ...   \n",
       "10794  ...   1.0                   4              False       1.0  43.63780   \n",
       "10795  ...   2.0                   4              False       2.0  43.65734   \n",
       "10796  ...   1.0                   4              False       1.0  43.64015   \n",
       "10797  ...   2.0                   4              False       1.0  43.62431   \n",
       "10798  ...   1.0                   4              False       1.0  43.66533   \n",
       "\n",
       "       minimum_nights  reviews_per_month  availability_90  bathrooms_text  \\\n",
       "0                  28               0.10                0              11   \n",
       "1                 180               1.19               90               5   \n",
       "2                  28               1.64               90               4   \n",
       "3                  30               0.86                8               2   \n",
       "4                   2               0.60               88               3   \n",
       "...               ...                ...              ...             ...   \n",
       "10794               1               1.00               81               7   \n",
       "10795               2               1.00               70               2   \n",
       "10796               1               1.00               89               4   \n",
       "10797               2               1.00               65               2   \n",
       "10798               1               2.00               80               2   \n",
       "\n",
       "       availability_365  \n",
       "0                     0  \n",
       "1                   365  \n",
       "2                   365  \n",
       "3                   283  \n",
       "4                   363  \n",
       "...                 ...  \n",
       "10794                81  \n",
       "10795                70  \n",
       "10796                89  \n",
       "10797                65  \n",
       "10798                80  \n",
       "\n",
       "[10799 rows x 21 columns]"
      ]
     },
     "execution_count": 6,
     "metadata": {},
     "output_type": "execute_result"
    }
   ],
   "source": [
    "# Checking X \n",
    "X"
   ]
  },
  {
   "cell_type": "code",
   "execution_count": 7,
   "id": "034bc3d5",
   "metadata": {},
   "outputs": [
    {
     "data": {
      "text/plain": [
       "0        469.0\n",
       "1         94.0\n",
       "2         72.0\n",
       "3        100.0\n",
       "4         93.0\n",
       "         ...  \n",
       "10794    114.0\n",
       "10795     71.0\n",
       "10796    195.0\n",
       "10797    128.0\n",
       "10798     88.0\n",
       "Name: price, Length: 10799, dtype: float64"
      ]
     },
     "execution_count": 7,
     "metadata": {},
     "output_type": "execute_result"
    }
   ],
   "source": [
    "# Checking y\n",
    "y"
   ]
  },
  {
   "cell_type": "code",
   "execution_count": 8,
   "id": "42c4be06",
   "metadata": {},
   "outputs": [],
   "source": [
    "# Importing the train- test model from sklearn library\n",
    "from sklearn.model_selection import train_test_split"
   ]
  },
  {
   "cell_type": "code",
   "execution_count": 9,
   "id": "0b2a65f9",
   "metadata": {},
   "outputs": [],
   "source": [
    "# Split into train and test data\n",
    "X_train, X_test, y_train, y_test = train_test_split(X,y, test_size = 0.2)"
   ]
  },
  {
   "cell_type": "code",
   "execution_count": 10,
   "id": "24904a6b",
   "metadata": {},
   "outputs": [
    {
     "data": {
      "text/plain": [
       "(8639, 8639, 2160, 2160)"
      ]
     },
     "execution_count": 10,
     "metadata": {},
     "output_type": "execute_result"
    }
   ],
   "source": [
    "# Checking the length of different test and train sets\n",
    "len(X_train),len(y_train),len(X_test),len(y_test)"
   ]
  },
  {
   "cell_type": "markdown",
   "id": "124bf416",
   "metadata": {},
   "source": [
    "I am going to use 5 different machine learning models:\n",
    "\n",
    "1. Linear Regression\n",
    "2. Ridge Regression\n",
    "3. Lasso Regression\n",
    "4. K-Nearest Neighbors\n",
    "5. Random Forest"
   ]
  },
  {
   "cell_type": "markdown",
   "id": "5c98ecd0",
   "metadata": {},
   "source": [
    "### Using Linear Regression Model"
   ]
  },
  {
   "cell_type": "code",
   "execution_count": 11,
   "id": "e4b3d4b3",
   "metadata": {},
   "outputs": [],
   "source": [
    "# Importing LinearRegression model from sklearn library\n",
    "from sklearn.linear_model import LinearRegression\n",
    "lr = LinearRegression()"
   ]
  },
  {
   "cell_type": "code",
   "execution_count": 12,
   "id": "2412ef56",
   "metadata": {},
   "outputs": [
    {
     "data": {
      "text/plain": [
       "LinearRegression()"
      ]
     },
     "execution_count": 12,
     "metadata": {},
     "output_type": "execute_result"
    }
   ],
   "source": [
    "# Fitting the model\n",
    "lr.fit(X_train, y_train)"
   ]
  },
  {
   "cell_type": "code",
   "execution_count": 13,
   "id": "c4e8dc11",
   "metadata": {},
   "outputs": [
    {
     "data": {
      "text/plain": [
       "0.05906887048413623"
      ]
     },
     "execution_count": 13,
     "metadata": {},
     "output_type": "execute_result"
    }
   ],
   "source": [
    "# Training Model Score\n",
    "lr.score(X_train,y_train)"
   ]
  },
  {
   "cell_type": "code",
   "execution_count": 14,
   "id": "0d78c928",
   "metadata": {},
   "outputs": [],
   "source": [
    "#Making the predictions\n",
    "y_preds = lr.predict(X_test)"
   ]
  },
  {
   "cell_type": "code",
   "execution_count": 15,
   "id": "219b37e1",
   "metadata": {},
   "outputs": [
    {
     "data": {
      "text/plain": [
       "array([105.32905577, 161.15083412, -19.10102274, ..., 161.56875696,\n",
       "       132.74998292,  79.35397132])"
      ]
     },
     "execution_count": 15,
     "metadata": {},
     "output_type": "execute_result"
    }
   ],
   "source": [
    "# Making Predictions\n",
    "y_preds"
   ]
  },
  {
   "cell_type": "code",
   "execution_count": 16,
   "id": "8dae2789",
   "metadata": {},
   "outputs": [
    {
     "data": {
      "text/plain": [
       "0.07407009899022432"
      ]
     },
     "execution_count": 16,
     "metadata": {},
     "output_type": "execute_result"
    }
   ],
   "source": [
    "# Test Model Score\n",
    "lr.score(X_test, y_test)"
   ]
  },
  {
   "cell_type": "code",
   "execution_count": 17,
   "id": "e339a198",
   "metadata": {},
   "outputs": [
    {
     "name": "stdout",
     "output_type": "stream",
     "text": [
      "75.12224073479874\n"
     ]
    }
   ],
   "source": [
    "# Importing mean_absolute_errora and mean_squared_error\n",
    "from sklearn.metrics import mean_absolute_error, mean_squared_error\n",
    "print(mean_absolute_error(y_test, y_preds))"
   ]
  },
  {
   "cell_type": "code",
   "execution_count": 18,
   "id": "d974fcfb",
   "metadata": {},
   "outputs": [
    {
     "name": "stdout",
     "output_type": "stream",
     "text": [
      "133812.21780540876\n"
     ]
    }
   ],
   "source": [
    "# Calculating mean_squared_error\n",
    "print(mean_squared_error(y_test, y_preds))"
   ]
  },
  {
   "cell_type": "code",
   "execution_count": 19,
   "id": "f056ff9b",
   "metadata": {},
   "outputs": [
    {
     "data": {
      "text/plain": [
       "365.8035235005381"
      ]
     },
     "execution_count": 19,
     "metadata": {},
     "output_type": "execute_result"
    }
   ],
   "source": [
    "# Calculating mean_squared_error\n",
    "rmse = np.sqrt(mean_squared_error(y_test, y_preds))\n",
    "rmse"
   ]
  },
  {
   "cell_type": "markdown",
   "id": "f4821033",
   "metadata": {},
   "source": [
    "### Using Ridge Regression"
   ]
  },
  {
   "cell_type": "code",
   "execution_count": 20,
   "id": "7dc2885b",
   "metadata": {},
   "outputs": [],
   "source": [
    "# Importing the model\n",
    "from sklearn.linear_model import Ridge\n",
    "ri = Ridge()"
   ]
  },
  {
   "cell_type": "code",
   "execution_count": 21,
   "id": "9946cf75",
   "metadata": {},
   "outputs": [
    {
     "data": {
      "text/plain": [
       "Ridge()"
      ]
     },
     "execution_count": 21,
     "metadata": {},
     "output_type": "execute_result"
    }
   ],
   "source": [
    "# Fitting the model on training data\n",
    "ri.fit(X_train, y_train)"
   ]
  },
  {
   "cell_type": "code",
   "execution_count": 22,
   "id": "0b202e09",
   "metadata": {},
   "outputs": [
    {
     "data": {
      "text/plain": [
       "0.059062454469824055"
      ]
     },
     "execution_count": 22,
     "metadata": {},
     "output_type": "execute_result"
    }
   ],
   "source": [
    "# Finding Train model score\n",
    "ri.score(X_train, y_train)"
   ]
  },
  {
   "cell_type": "code",
   "execution_count": 23,
   "id": "433a881a",
   "metadata": {},
   "outputs": [],
   "source": [
    "# Making Predictions\n",
    "yr_preds = ri.predict(X_test)"
   ]
  },
  {
   "cell_type": "code",
   "execution_count": 24,
   "id": "47e1384a",
   "metadata": {},
   "outputs": [
    {
     "data": {
      "text/plain": [
       "array([105.3593108 , 161.11960548, -17.67035725, ..., 161.04968418,\n",
       "       131.98675141,  80.72775815])"
      ]
     },
     "execution_count": 24,
     "metadata": {},
     "output_type": "execute_result"
    }
   ],
   "source": [
    "# Getting Predictions\n",
    "yr_preds"
   ]
  },
  {
   "cell_type": "code",
   "execution_count": 25,
   "id": "ce51c60e",
   "metadata": {},
   "outputs": [
    {
     "data": {
      "text/plain": [
       "0.07386987328329353"
      ]
     },
     "execution_count": 25,
     "metadata": {},
     "output_type": "execute_result"
    }
   ],
   "source": [
    "# Finding test model score\n",
    "ri.score(X_test, y_test)"
   ]
  },
  {
   "cell_type": "code",
   "execution_count": 26,
   "id": "dea7b9ee",
   "metadata": {},
   "outputs": [
    {
     "name": "stdout",
     "output_type": "stream",
     "text": [
      "74.98185731548095\n"
     ]
    }
   ],
   "source": [
    "# Calculating Mean absolute error\n",
    "print(mean_absolute_error(y_test, yr_preds))"
   ]
  },
  {
   "cell_type": "code",
   "execution_count": 27,
   "id": "dc49edf5",
   "metadata": {},
   "outputs": [
    {
     "name": "stdout",
     "output_type": "stream",
     "text": [
      "133841.15373876275\n"
     ]
    }
   ],
   "source": [
    "# Calculating Mean Squared error\n",
    "print(mean_squared_error(y_test, yr_preds))"
   ]
  },
  {
   "cell_type": "code",
   "execution_count": 28,
   "id": "285a0edd",
   "metadata": {},
   "outputs": [
    {
     "name": "stdout",
     "output_type": "stream",
     "text": [
      "365.84307255811575\n"
     ]
    }
   ],
   "source": [
    "# Calculating Root Mean Squared error\n",
    "print(np.sqrt(mean_squared_error(y_test, yr_preds)))"
   ]
  },
  {
   "cell_type": "markdown",
   "id": "17d58c7d",
   "metadata": {},
   "source": [
    "### Using Lasso Regression"
   ]
  },
  {
   "cell_type": "code",
   "execution_count": 29,
   "id": "40d7de1d",
   "metadata": {},
   "outputs": [],
   "source": [
    "# Importing the model\n",
    "from sklearn.linear_model import Lasso\n",
    "la=Lasso()"
   ]
  },
  {
   "cell_type": "code",
   "execution_count": 30,
   "id": "f17b2cca",
   "metadata": {},
   "outputs": [
    {
     "data": {
      "text/plain": [
       "Lasso()"
      ]
     },
     "execution_count": 30,
     "metadata": {},
     "output_type": "execute_result"
    }
   ],
   "source": [
    "# Fitting the model on training data\n",
    "la.fit(X_train, y_train)"
   ]
  },
  {
   "cell_type": "code",
   "execution_count": 31,
   "id": "4e34f37e",
   "metadata": {},
   "outputs": [
    {
     "data": {
      "text/plain": [
       "0.056442561277262104"
      ]
     },
     "execution_count": 31,
     "metadata": {},
     "output_type": "execute_result"
    }
   ],
   "source": [
    "# Finding Train model score\n",
    "la.score(X_train, y_train)"
   ]
  },
  {
   "cell_type": "code",
   "execution_count": 32,
   "id": "9f641197",
   "metadata": {},
   "outputs": [],
   "source": [
    "# Making Predictions\n",
    "yl_preds = la.predict(X_test)"
   ]
  },
  {
   "cell_type": "code",
   "execution_count": 33,
   "id": "55665e56",
   "metadata": {},
   "outputs": [
    {
     "data": {
      "text/plain": [
       "array([106.416984  , 153.53244181,  12.47678376, ..., 154.71535875,\n",
       "       118.97319688, 103.93322531])"
      ]
     },
     "execution_count": 33,
     "metadata": {},
     "output_type": "execute_result"
    }
   ],
   "source": [
    "# Getting Predictions\n",
    "yl_preds"
   ]
  },
  {
   "cell_type": "code",
   "execution_count": 34,
   "id": "5983227b",
   "metadata": {},
   "outputs": [
    {
     "data": {
      "text/plain": [
       "0.06514240980300035"
      ]
     },
     "execution_count": 34,
     "metadata": {},
     "output_type": "execute_result"
    }
   ],
   "source": [
    "# Finding test model score\n",
    "la.score(X_test, y_test)"
   ]
  },
  {
   "cell_type": "code",
   "execution_count": 35,
   "id": "0383c775",
   "metadata": {},
   "outputs": [
    {
     "name": "stdout",
     "output_type": "stream",
     "text": [
      "74.35390914983695\n"
     ]
    }
   ],
   "source": [
    "# Calculating Mean absolute error\n",
    "print(mean_absolute_error(y_test, yl_preds))"
   ]
  },
  {
   "cell_type": "code",
   "execution_count": 36,
   "id": "d59c9f97",
   "metadata": {},
   "outputs": [
    {
     "name": "stdout",
     "output_type": "stream",
     "text": [
      "135102.41686768873\n"
     ]
    }
   ],
   "source": [
    "# Calculating Mean Squared  error\n",
    "print(mean_squared_error(y_test, yl_preds))"
   ]
  },
  {
   "cell_type": "code",
   "execution_count": 37,
   "id": "fe93c780",
   "metadata": {
    "scrolled": true
   },
   "outputs": [
    {
     "name": "stdout",
     "output_type": "stream",
     "text": [
      "367.5628066979693\n"
     ]
    }
   ],
   "source": [
    "# Calculating Root Mean squared error\n",
    "print(np.sqrt(mean_squared_error(y_test, yl_preds)))"
   ]
  },
  {
   "cell_type": "markdown",
   "id": "bd5e246f",
   "metadata": {},
   "source": [
    "### Using K-Nearest Neighbors"
   ]
  },
  {
   "cell_type": "code",
   "execution_count": 38,
   "id": "7d8238a9",
   "metadata": {},
   "outputs": [],
   "source": [
    "# Importing the model\n",
    "from sklearn.neighbors import KNeighborsRegressor\n",
    "knn = KNeighborsRegressor()"
   ]
  },
  {
   "cell_type": "code",
   "execution_count": 39,
   "id": "0ccdb97e",
   "metadata": {},
   "outputs": [
    {
     "data": {
      "text/plain": [
       "KNeighborsRegressor()"
      ]
     },
     "execution_count": 39,
     "metadata": {},
     "output_type": "execute_result"
    }
   ],
   "source": [
    "# Fitting the model on training data\n",
    "knn.fit(X_train, y_train)"
   ]
  },
  {
   "cell_type": "code",
   "execution_count": 40,
   "id": "402ebdfc",
   "metadata": {},
   "outputs": [
    {
     "data": {
      "text/plain": [
       "0.17857068557334177"
      ]
     },
     "execution_count": 40,
     "metadata": {},
     "output_type": "execute_result"
    }
   ],
   "source": [
    "# Finding Train model score\n",
    "knn.score(X_train, y_train)"
   ]
  },
  {
   "cell_type": "code",
   "execution_count": 41,
   "id": "ced48f84",
   "metadata": {},
   "outputs": [],
   "source": [
    "# Making Predictions\n",
    "yk_preds = knn.predict(X_test)"
   ]
  },
  {
   "cell_type": "code",
   "execution_count": 42,
   "id": "f3c945ad",
   "metadata": {},
   "outputs": [
    {
     "data": {
      "text/plain": [
       "array([110.2,  80.8, 137.4, ..., 153.6, 104. , 101.4])"
      ]
     },
     "execution_count": 42,
     "metadata": {},
     "output_type": "execute_result"
    }
   ],
   "source": [
    "# Getting Predictions\n",
    "yk_preds"
   ]
  },
  {
   "cell_type": "code",
   "execution_count": 43,
   "id": "e04ca4ce",
   "metadata": {},
   "outputs": [
    {
     "data": {
      "text/plain": [
       "0.037820311791262995"
      ]
     },
     "execution_count": 43,
     "metadata": {},
     "output_type": "execute_result"
    }
   ],
   "source": [
    "# Finding test model score\n",
    "knn.score(X_test, y_test)"
   ]
  },
  {
   "cell_type": "code",
   "execution_count": 44,
   "id": "dc9864c1",
   "metadata": {},
   "outputs": [
    {
     "name": "stdout",
     "output_type": "stream",
     "text": [
      "87.39407407407408\n"
     ]
    }
   ],
   "source": [
    "# Calculating Mean absolute error\n",
    "print(mean_absolute_error(y_test, yk_preds))"
   ]
  },
  {
   "cell_type": "code",
   "execution_count": 45,
   "id": "eba8f50d",
   "metadata": {},
   "outputs": [
    {
     "name": "stdout",
     "output_type": "stream",
     "text": [
      "139050.91288888888\n"
     ]
    }
   ],
   "source": [
    "# Calculating Mean Squared error\n",
    "print(mean_squared_error(y_test, yk_preds))"
   ]
  },
  {
   "cell_type": "code",
   "execution_count": 46,
   "id": "6215736b",
   "metadata": {},
   "outputs": [
    {
     "name": "stdout",
     "output_type": "stream",
     "text": [
      "372.89531089689086\n"
     ]
    }
   ],
   "source": [
    "# Calculating Root Mean Squared error\n",
    "print(np.sqrt(mean_squared_error(y_test, yk_preds)))"
   ]
  },
  {
   "cell_type": "markdown",
   "id": "65834e89",
   "metadata": {},
   "source": [
    "### Using Random Forest"
   ]
  },
  {
   "cell_type": "code",
   "execution_count": 47,
   "id": "ad96cdf4",
   "metadata": {},
   "outputs": [],
   "source": [
    "# Importing the model\n",
    "from sklearn.ensemble import RandomForestRegressor\n",
    "rf=RandomForestRegressor()"
   ]
  },
  {
   "cell_type": "code",
   "execution_count": 48,
   "id": "a55d90cb",
   "metadata": {},
   "outputs": [
    {
     "data": {
      "text/plain": [
       "RandomForestRegressor()"
      ]
     },
     "execution_count": 48,
     "metadata": {},
     "output_type": "execute_result"
    }
   ],
   "source": [
    "# Fitting the model on training data\n",
    "rf.fit(X_train, y_train)"
   ]
  },
  {
   "cell_type": "code",
   "execution_count": 49,
   "id": "4978908d",
   "metadata": {},
   "outputs": [
    {
     "data": {
      "text/plain": [
       "0.8707496775180534"
      ]
     },
     "execution_count": 49,
     "metadata": {},
     "output_type": "execute_result"
    }
   ],
   "source": [
    "# Finding Train model score\n",
    "rf.score(X_train, y_train)"
   ]
  },
  {
   "cell_type": "code",
   "execution_count": 50,
   "id": "66b488fc",
   "metadata": {},
   "outputs": [],
   "source": [
    "# Making Predictions\n",
    "yrf_preds = rf.predict(X_test)"
   ]
  },
  {
   "cell_type": "code",
   "execution_count": 51,
   "id": "c2978ee4",
   "metadata": {},
   "outputs": [
    {
     "data": {
      "text/plain": [
       "array([102.32, 140.03,  35.06, ..., 151.62, 152.13,  86.31])"
      ]
     },
     "execution_count": 51,
     "metadata": {},
     "output_type": "execute_result"
    }
   ],
   "source": [
    "yrf_preds"
   ]
  },
  {
   "cell_type": "code",
   "execution_count": 52,
   "id": "8659e0a2",
   "metadata": {},
   "outputs": [
    {
     "data": {
      "text/plain": [
       "0.5193558390467832"
      ]
     },
     "execution_count": 52,
     "metadata": {},
     "output_type": "execute_result"
    }
   ],
   "source": [
    "# Finding test model score\n",
    "rf.score(X_test, y_test)"
   ]
  },
  {
   "cell_type": "code",
   "execution_count": 53,
   "id": "73eb2a46",
   "metadata": {},
   "outputs": [
    {
     "name": "stdout",
     "output_type": "stream",
     "text": [
      "65.02390277777778\n"
     ]
    }
   ],
   "source": [
    "# Calculating Mean absolute error\n",
    "print(mean_absolute_error(y_test, yrf_preds))"
   ]
  },
  {
   "cell_type": "code",
   "execution_count": 54,
   "id": "e85e6e54",
   "metadata": {},
   "outputs": [
    {
     "name": "stdout",
     "output_type": "stream",
     "text": [
      "69461.04784199076\n"
     ]
    }
   ],
   "source": [
    "# Calculating Mean Squared error\n",
    "print(mean_squared_error(y_test, yrf_preds))"
   ]
  },
  {
   "cell_type": "code",
   "execution_count": 55,
   "id": "4903aebc",
   "metadata": {},
   "outputs": [
    {
     "name": "stdout",
     "output_type": "stream",
     "text": [
      "263.5546391964876\n"
     ]
    }
   ],
   "source": [
    "# Calculating Root Mean Squared error\n",
    "print(np.sqrt(mean_squared_error(y_test, yrf_preds)))"
   ]
  },
  {
   "cell_type": "markdown",
   "id": "f3a6350c",
   "metadata": {},
   "source": [
    "### I will drop price column first and do modelling on the remaining data"
   ]
  },
  {
   "cell_type": "code",
   "execution_count": 56,
   "id": "0d14f424",
   "metadata": {},
   "outputs": [
    {
     "data": {
      "text/html": [
       "<div>\n",
       "<style scoped>\n",
       "    .dataframe tbody tr th:only-of-type {\n",
       "        vertical-align: middle;\n",
       "    }\n",
       "\n",
       "    .dataframe tbody tr th {\n",
       "        vertical-align: top;\n",
       "    }\n",
       "\n",
       "    .dataframe thead th {\n",
       "        text-align: right;\n",
       "    }\n",
       "</style>\n",
       "<table border=\"1\" class=\"dataframe\">\n",
       "  <thead>\n",
       "    <tr style=\"text-align: right;\">\n",
       "      <th></th>\n",
       "      <th>log_price</th>\n",
       "      <th>price</th>\n",
       "      <th>review_scores_rating</th>\n",
       "      <th>has_availability</th>\n",
       "      <th>property_type</th>\n",
       "      <th>instant_bookable</th>\n",
       "      <th>number_of_reviews_ltm</th>\n",
       "      <th>availability_60</th>\n",
       "      <th>review_scores_checkin</th>\n",
       "      <th>room_type</th>\n",
       "      <th>...</th>\n",
       "      <th>beds</th>\n",
       "      <th>host_response_time</th>\n",
       "      <th>host_is_superhost</th>\n",
       "      <th>bedrooms</th>\n",
       "      <th>latitude</th>\n",
       "      <th>minimum_nights</th>\n",
       "      <th>reviews_per_month</th>\n",
       "      <th>availability_90</th>\n",
       "      <th>bathrooms_text</th>\n",
       "      <th>availability_365</th>\n",
       "    </tr>\n",
       "  </thead>\n",
       "  <tbody>\n",
       "    <tr>\n",
       "      <th>0</th>\n",
       "      <td>6.150603</td>\n",
       "      <td>469.0</td>\n",
       "      <td>100.0</td>\n",
       "      <td>True</td>\n",
       "      <td>14</td>\n",
       "      <td>False</td>\n",
       "      <td>0</td>\n",
       "      <td>0</td>\n",
       "      <td>10.0</td>\n",
       "      <td>0</td>\n",
       "      <td>...</td>\n",
       "      <td>7.0</td>\n",
       "      <td>1</td>\n",
       "      <td>False</td>\n",
       "      <td>5.0</td>\n",
       "      <td>43.64590</td>\n",
       "      <td>28</td>\n",
       "      <td>0.10</td>\n",
       "      <td>0</td>\n",
       "      <td>11</td>\n",
       "      <td>0</td>\n",
       "    </tr>\n",
       "    <tr>\n",
       "      <th>1</th>\n",
       "      <td>4.543295</td>\n",
       "      <td>94.0</td>\n",
       "      <td>97.0</td>\n",
       "      <td>True</td>\n",
       "      <td>21</td>\n",
       "      <td>True</td>\n",
       "      <td>0</td>\n",
       "      <td>60</td>\n",
       "      <td>10.0</td>\n",
       "      <td>2</td>\n",
       "      <td>...</td>\n",
       "      <td>1.0</td>\n",
       "      <td>0</td>\n",
       "      <td>False</td>\n",
       "      <td>1.0</td>\n",
       "      <td>43.64080</td>\n",
       "      <td>180</td>\n",
       "      <td>1.19</td>\n",
       "      <td>90</td>\n",
       "      <td>5</td>\n",
       "      <td>365</td>\n",
       "    </tr>\n",
       "    <tr>\n",
       "      <th>2</th>\n",
       "      <td>4.276666</td>\n",
       "      <td>72.0</td>\n",
       "      <td>95.0</td>\n",
       "      <td>True</td>\n",
       "      <td>36</td>\n",
       "      <td>True</td>\n",
       "      <td>0</td>\n",
       "      <td>60</td>\n",
       "      <td>10.0</td>\n",
       "      <td>2</td>\n",
       "      <td>...</td>\n",
       "      <td>1.0</td>\n",
       "      <td>1</td>\n",
       "      <td>False</td>\n",
       "      <td>1.0</td>\n",
       "      <td>43.69805</td>\n",
       "      <td>28</td>\n",
       "      <td>1.64</td>\n",
       "      <td>90</td>\n",
       "      <td>4</td>\n",
       "      <td>365</td>\n",
       "    </tr>\n",
       "    <tr>\n",
       "      <th>3</th>\n",
       "      <td>4.605170</td>\n",
       "      <td>100.0</td>\n",
       "      <td>93.0</td>\n",
       "      <td>True</td>\n",
       "      <td>14</td>\n",
       "      <td>False</td>\n",
       "      <td>2</td>\n",
       "      <td>0</td>\n",
       "      <td>10.0</td>\n",
       "      <td>0</td>\n",
       "      <td>...</td>\n",
       "      <td>2.0</td>\n",
       "      <td>4</td>\n",
       "      <td>False</td>\n",
       "      <td>2.0</td>\n",
       "      <td>43.63539</td>\n",
       "      <td>30</td>\n",
       "      <td>0.86</td>\n",
       "      <td>8</td>\n",
       "      <td>2</td>\n",
       "      <td>283</td>\n",
       "    </tr>\n",
       "    <tr>\n",
       "      <th>4</th>\n",
       "      <td>4.532599</td>\n",
       "      <td>93.0</td>\n",
       "      <td>99.0</td>\n",
       "      <td>True</td>\n",
       "      <td>24</td>\n",
       "      <td>False</td>\n",
       "      <td>1</td>\n",
       "      <td>58</td>\n",
       "      <td>10.0</td>\n",
       "      <td>2</td>\n",
       "      <td>...</td>\n",
       "      <td>2.0</td>\n",
       "      <td>3</td>\n",
       "      <td>False</td>\n",
       "      <td>2.0</td>\n",
       "      <td>43.74922</td>\n",
       "      <td>2</td>\n",
       "      <td>0.60</td>\n",
       "      <td>88</td>\n",
       "      <td>3</td>\n",
       "      <td>363</td>\n",
       "    </tr>\n",
       "  </tbody>\n",
       "</table>\n",
       "<p>5 rows × 23 columns</p>\n",
       "</div>"
      ],
      "text/plain": [
       "   log_price  price  review_scores_rating  has_availability  property_type  \\\n",
       "0   6.150603  469.0                 100.0              True             14   \n",
       "1   4.543295   94.0                  97.0              True             21   \n",
       "2   4.276666   72.0                  95.0              True             36   \n",
       "3   4.605170  100.0                  93.0              True             14   \n",
       "4   4.532599   93.0                  99.0              True             24   \n",
       "\n",
       "   instant_bookable  number_of_reviews_ltm  availability_60  \\\n",
       "0             False                      0                0   \n",
       "1              True                      0               60   \n",
       "2              True                      0               60   \n",
       "3             False                      2                0   \n",
       "4             False                      1               58   \n",
       "\n",
       "   review_scores_checkin  room_type  ...  beds  host_response_time  \\\n",
       "0                   10.0          0  ...   7.0                   1   \n",
       "1                   10.0          2  ...   1.0                   0   \n",
       "2                   10.0          2  ...   1.0                   1   \n",
       "3                   10.0          0  ...   2.0                   4   \n",
       "4                   10.0          2  ...   2.0                   3   \n",
       "\n",
       "   host_is_superhost  bedrooms  latitude  minimum_nights  reviews_per_month  \\\n",
       "0              False       5.0  43.64590              28               0.10   \n",
       "1              False       1.0  43.64080             180               1.19   \n",
       "2              False       1.0  43.69805              28               1.64   \n",
       "3              False       2.0  43.63539              30               0.86   \n",
       "4              False       2.0  43.74922               2               0.60   \n",
       "\n",
       "   availability_90  bathrooms_text  availability_365  \n",
       "0                0              11                 0  \n",
       "1               90               5               365  \n",
       "2               90               4               365  \n",
       "3                8               2               283  \n",
       "4               88               3               363  \n",
       "\n",
       "[5 rows x 23 columns]"
      ]
     },
     "execution_count": 56,
     "metadata": {},
     "output_type": "execute_result"
    }
   ],
   "source": [
    "# Checking the original data\n",
    "df.head()"
   ]
  },
  {
   "cell_type": "code",
   "execution_count": 57,
   "id": "6682c64a",
   "metadata": {},
   "outputs": [
    {
     "data": {
      "text/html": [
       "<div>\n",
       "<style scoped>\n",
       "    .dataframe tbody tr th:only-of-type {\n",
       "        vertical-align: middle;\n",
       "    }\n",
       "\n",
       "    .dataframe tbody tr th {\n",
       "        vertical-align: top;\n",
       "    }\n",
       "\n",
       "    .dataframe thead th {\n",
       "        text-align: right;\n",
       "    }\n",
       "</style>\n",
       "<table border=\"1\" class=\"dataframe\">\n",
       "  <thead>\n",
       "    <tr style=\"text-align: right;\">\n",
       "      <th></th>\n",
       "      <th>log_price</th>\n",
       "      <th>review_scores_rating</th>\n",
       "      <th>has_availability</th>\n",
       "      <th>property_type</th>\n",
       "      <th>instant_bookable</th>\n",
       "      <th>number_of_reviews_ltm</th>\n",
       "      <th>availability_60</th>\n",
       "      <th>review_scores_checkin</th>\n",
       "      <th>room_type</th>\n",
       "      <th>neighbourhood_cleansed</th>\n",
       "      <th>...</th>\n",
       "      <th>beds</th>\n",
       "      <th>host_response_time</th>\n",
       "      <th>host_is_superhost</th>\n",
       "      <th>bedrooms</th>\n",
       "      <th>latitude</th>\n",
       "      <th>minimum_nights</th>\n",
       "      <th>reviews_per_month</th>\n",
       "      <th>availability_90</th>\n",
       "      <th>bathrooms_text</th>\n",
       "      <th>availability_365</th>\n",
       "    </tr>\n",
       "  </thead>\n",
       "  <tbody>\n",
       "    <tr>\n",
       "      <th>0</th>\n",
       "      <td>6.150603</td>\n",
       "      <td>100.0</td>\n",
       "      <td>True</td>\n",
       "      <td>14</td>\n",
       "      <td>False</td>\n",
       "      <td>0</td>\n",
       "      <td>0</td>\n",
       "      <td>10.0</td>\n",
       "      <td>0</td>\n",
       "      <td>71</td>\n",
       "      <td>...</td>\n",
       "      <td>7.0</td>\n",
       "      <td>1</td>\n",
       "      <td>False</td>\n",
       "      <td>5.0</td>\n",
       "      <td>43.64590</td>\n",
       "      <td>28</td>\n",
       "      <td>0.10</td>\n",
       "      <td>0</td>\n",
       "      <td>11</td>\n",
       "      <td>0</td>\n",
       "    </tr>\n",
       "    <tr>\n",
       "      <th>1</th>\n",
       "      <td>4.543295</td>\n",
       "      <td>97.0</td>\n",
       "      <td>True</td>\n",
       "      <td>21</td>\n",
       "      <td>True</td>\n",
       "      <td>0</td>\n",
       "      <td>60</td>\n",
       "      <td>10.0</td>\n",
       "      <td>2</td>\n",
       "      <td>122</td>\n",
       "      <td>...</td>\n",
       "      <td>1.0</td>\n",
       "      <td>0</td>\n",
       "      <td>False</td>\n",
       "      <td>1.0</td>\n",
       "      <td>43.64080</td>\n",
       "      <td>180</td>\n",
       "      <td>1.19</td>\n",
       "      <td>90</td>\n",
       "      <td>5</td>\n",
       "      <td>365</td>\n",
       "    </tr>\n",
       "    <tr>\n",
       "      <th>2</th>\n",
       "      <td>4.276666</td>\n",
       "      <td>95.0</td>\n",
       "      <td>True</td>\n",
       "      <td>36</td>\n",
       "      <td>True</td>\n",
       "      <td>0</td>\n",
       "      <td>60</td>\n",
       "      <td>10.0</td>\n",
       "      <td>2</td>\n",
       "      <td>15</td>\n",
       "      <td>...</td>\n",
       "      <td>1.0</td>\n",
       "      <td>1</td>\n",
       "      <td>False</td>\n",
       "      <td>1.0</td>\n",
       "      <td>43.69805</td>\n",
       "      <td>28</td>\n",
       "      <td>1.64</td>\n",
       "      <td>90</td>\n",
       "      <td>4</td>\n",
       "      <td>365</td>\n",
       "    </tr>\n",
       "    <tr>\n",
       "      <th>3</th>\n",
       "      <td>4.605170</td>\n",
       "      <td>93.0</td>\n",
       "      <td>True</td>\n",
       "      <td>14</td>\n",
       "      <td>False</td>\n",
       "      <td>2</td>\n",
       "      <td>0</td>\n",
       "      <td>10.0</td>\n",
       "      <td>0</td>\n",
       "      <td>109</td>\n",
       "      <td>...</td>\n",
       "      <td>2.0</td>\n",
       "      <td>4</td>\n",
       "      <td>False</td>\n",
       "      <td>2.0</td>\n",
       "      <td>43.63539</td>\n",
       "      <td>30</td>\n",
       "      <td>0.86</td>\n",
       "      <td>8</td>\n",
       "      <td>2</td>\n",
       "      <td>283</td>\n",
       "    </tr>\n",
       "    <tr>\n",
       "      <th>4</th>\n",
       "      <td>4.532599</td>\n",
       "      <td>99.0</td>\n",
       "      <td>True</td>\n",
       "      <td>24</td>\n",
       "      <td>False</td>\n",
       "      <td>1</td>\n",
       "      <td>58</td>\n",
       "      <td>10.0</td>\n",
       "      <td>2</td>\n",
       "      <td>128</td>\n",
       "      <td>...</td>\n",
       "      <td>2.0</td>\n",
       "      <td>3</td>\n",
       "      <td>False</td>\n",
       "      <td>2.0</td>\n",
       "      <td>43.74922</td>\n",
       "      <td>2</td>\n",
       "      <td>0.60</td>\n",
       "      <td>88</td>\n",
       "      <td>3</td>\n",
       "      <td>363</td>\n",
       "    </tr>\n",
       "  </tbody>\n",
       "</table>\n",
       "<p>5 rows × 22 columns</p>\n",
       "</div>"
      ],
      "text/plain": [
       "   log_price  review_scores_rating  has_availability  property_type  \\\n",
       "0   6.150603                 100.0              True             14   \n",
       "1   4.543295                  97.0              True             21   \n",
       "2   4.276666                  95.0              True             36   \n",
       "3   4.605170                  93.0              True             14   \n",
       "4   4.532599                  99.0              True             24   \n",
       "\n",
       "   instant_bookable  number_of_reviews_ltm  availability_60  \\\n",
       "0             False                      0                0   \n",
       "1              True                      0               60   \n",
       "2              True                      0               60   \n",
       "3             False                      2                0   \n",
       "4             False                      1               58   \n",
       "\n",
       "   review_scores_checkin  room_type  neighbourhood_cleansed  ...  beds  \\\n",
       "0                   10.0          0                      71  ...   7.0   \n",
       "1                   10.0          2                     122  ...   1.0   \n",
       "2                   10.0          2                      15  ...   1.0   \n",
       "3                   10.0          0                     109  ...   2.0   \n",
       "4                   10.0          2                     128  ...   2.0   \n",
       "\n",
       "   host_response_time  host_is_superhost  bedrooms  latitude  minimum_nights  \\\n",
       "0                   1              False       5.0  43.64590              28   \n",
       "1                   0              False       1.0  43.64080             180   \n",
       "2                   1              False       1.0  43.69805              28   \n",
       "3                   4              False       2.0  43.63539              30   \n",
       "4                   3              False       2.0  43.74922               2   \n",
       "\n",
       "   reviews_per_month  availability_90  bathrooms_text  availability_365  \n",
       "0               0.10                0              11                 0  \n",
       "1               1.19               90               5               365  \n",
       "2               1.64               90               4               365  \n",
       "3               0.86                8               2               283  \n",
       "4               0.60               88               3               363  \n",
       "\n",
       "[5 rows x 22 columns]"
      ]
     },
     "execution_count": 57,
     "metadata": {},
     "output_type": "execute_result"
    }
   ],
   "source": [
    "# Dropping the price column\n",
    "dfp = df.drop(['price'], axis = 1)\n",
    "dfp.head()"
   ]
  },
  {
   "cell_type": "code",
   "execution_count": 58,
   "id": "aa42a7b8",
   "metadata": {},
   "outputs": [],
   "source": [
    "# Split data into X and y\n",
    "X = dfp.drop('log_price', axis = 1)\n",
    "y = dfp['log_price']"
   ]
  },
  {
   "cell_type": "code",
   "execution_count": 59,
   "id": "c3ec4337",
   "metadata": {},
   "outputs": [
    {
     "data": {
      "text/html": [
       "<div>\n",
       "<style scoped>\n",
       "    .dataframe tbody tr th:only-of-type {\n",
       "        vertical-align: middle;\n",
       "    }\n",
       "\n",
       "    .dataframe tbody tr th {\n",
       "        vertical-align: top;\n",
       "    }\n",
       "\n",
       "    .dataframe thead th {\n",
       "        text-align: right;\n",
       "    }\n",
       "</style>\n",
       "<table border=\"1\" class=\"dataframe\">\n",
       "  <thead>\n",
       "    <tr style=\"text-align: right;\">\n",
       "      <th></th>\n",
       "      <th>review_scores_rating</th>\n",
       "      <th>has_availability</th>\n",
       "      <th>property_type</th>\n",
       "      <th>instant_bookable</th>\n",
       "      <th>number_of_reviews_ltm</th>\n",
       "      <th>availability_60</th>\n",
       "      <th>review_scores_checkin</th>\n",
       "      <th>room_type</th>\n",
       "      <th>neighbourhood_cleansed</th>\n",
       "      <th>accommodates</th>\n",
       "      <th>...</th>\n",
       "      <th>beds</th>\n",
       "      <th>host_response_time</th>\n",
       "      <th>host_is_superhost</th>\n",
       "      <th>bedrooms</th>\n",
       "      <th>latitude</th>\n",
       "      <th>minimum_nights</th>\n",
       "      <th>reviews_per_month</th>\n",
       "      <th>availability_90</th>\n",
       "      <th>bathrooms_text</th>\n",
       "      <th>availability_365</th>\n",
       "    </tr>\n",
       "  </thead>\n",
       "  <tbody>\n",
       "    <tr>\n",
       "      <th>0</th>\n",
       "      <td>100.0</td>\n",
       "      <td>True</td>\n",
       "      <td>14</td>\n",
       "      <td>False</td>\n",
       "      <td>0</td>\n",
       "      <td>0</td>\n",
       "      <td>10.0</td>\n",
       "      <td>0</td>\n",
       "      <td>71</td>\n",
       "      <td>10</td>\n",
       "      <td>...</td>\n",
       "      <td>7.0</td>\n",
       "      <td>1</td>\n",
       "      <td>False</td>\n",
       "      <td>5.0</td>\n",
       "      <td>43.64590</td>\n",
       "      <td>28</td>\n",
       "      <td>0.10</td>\n",
       "      <td>0</td>\n",
       "      <td>11</td>\n",
       "      <td>0</td>\n",
       "    </tr>\n",
       "    <tr>\n",
       "      <th>1</th>\n",
       "      <td>97.0</td>\n",
       "      <td>True</td>\n",
       "      <td>21</td>\n",
       "      <td>True</td>\n",
       "      <td>0</td>\n",
       "      <td>60</td>\n",
       "      <td>10.0</td>\n",
       "      <td>2</td>\n",
       "      <td>122</td>\n",
       "      <td>2</td>\n",
       "      <td>...</td>\n",
       "      <td>1.0</td>\n",
       "      <td>0</td>\n",
       "      <td>False</td>\n",
       "      <td>1.0</td>\n",
       "      <td>43.64080</td>\n",
       "      <td>180</td>\n",
       "      <td>1.19</td>\n",
       "      <td>90</td>\n",
       "      <td>5</td>\n",
       "      <td>365</td>\n",
       "    </tr>\n",
       "    <tr>\n",
       "      <th>2</th>\n",
       "      <td>95.0</td>\n",
       "      <td>True</td>\n",
       "      <td>36</td>\n",
       "      <td>True</td>\n",
       "      <td>0</td>\n",
       "      <td>60</td>\n",
       "      <td>10.0</td>\n",
       "      <td>2</td>\n",
       "      <td>15</td>\n",
       "      <td>3</td>\n",
       "      <td>...</td>\n",
       "      <td>1.0</td>\n",
       "      <td>1</td>\n",
       "      <td>False</td>\n",
       "      <td>1.0</td>\n",
       "      <td>43.69805</td>\n",
       "      <td>28</td>\n",
       "      <td>1.64</td>\n",
       "      <td>90</td>\n",
       "      <td>4</td>\n",
       "      <td>365</td>\n",
       "    </tr>\n",
       "    <tr>\n",
       "      <th>3</th>\n",
       "      <td>93.0</td>\n",
       "      <td>True</td>\n",
       "      <td>14</td>\n",
       "      <td>False</td>\n",
       "      <td>2</td>\n",
       "      <td>0</td>\n",
       "      <td>10.0</td>\n",
       "      <td>0</td>\n",
       "      <td>109</td>\n",
       "      <td>5</td>\n",
       "      <td>...</td>\n",
       "      <td>2.0</td>\n",
       "      <td>4</td>\n",
       "      <td>False</td>\n",
       "      <td>2.0</td>\n",
       "      <td>43.63539</td>\n",
       "      <td>30</td>\n",
       "      <td>0.86</td>\n",
       "      <td>8</td>\n",
       "      <td>2</td>\n",
       "      <td>283</td>\n",
       "    </tr>\n",
       "    <tr>\n",
       "      <th>4</th>\n",
       "      <td>99.0</td>\n",
       "      <td>True</td>\n",
       "      <td>24</td>\n",
       "      <td>False</td>\n",
       "      <td>1</td>\n",
       "      <td>58</td>\n",
       "      <td>10.0</td>\n",
       "      <td>2</td>\n",
       "      <td>128</td>\n",
       "      <td>4</td>\n",
       "      <td>...</td>\n",
       "      <td>2.0</td>\n",
       "      <td>3</td>\n",
       "      <td>False</td>\n",
       "      <td>2.0</td>\n",
       "      <td>43.74922</td>\n",
       "      <td>2</td>\n",
       "      <td>0.60</td>\n",
       "      <td>88</td>\n",
       "      <td>3</td>\n",
       "      <td>363</td>\n",
       "    </tr>\n",
       "    <tr>\n",
       "      <th>...</th>\n",
       "      <td>...</td>\n",
       "      <td>...</td>\n",
       "      <td>...</td>\n",
       "      <td>...</td>\n",
       "      <td>...</td>\n",
       "      <td>...</td>\n",
       "      <td>...</td>\n",
       "      <td>...</td>\n",
       "      <td>...</td>\n",
       "      <td>...</td>\n",
       "      <td>...</td>\n",
       "      <td>...</td>\n",
       "      <td>...</td>\n",
       "      <td>...</td>\n",
       "      <td>...</td>\n",
       "      <td>...</td>\n",
       "      <td>...</td>\n",
       "      <td>...</td>\n",
       "      <td>...</td>\n",
       "      <td>...</td>\n",
       "      <td>...</td>\n",
       "    </tr>\n",
       "    <tr>\n",
       "      <th>10794</th>\n",
       "      <td>80.0</td>\n",
       "      <td>True</td>\n",
       "      <td>8</td>\n",
       "      <td>True</td>\n",
       "      <td>1</td>\n",
       "      <td>51</td>\n",
       "      <td>10.0</td>\n",
       "      <td>0</td>\n",
       "      <td>87</td>\n",
       "      <td>2</td>\n",
       "      <td>...</td>\n",
       "      <td>1.0</td>\n",
       "      <td>4</td>\n",
       "      <td>False</td>\n",
       "      <td>1.0</td>\n",
       "      <td>43.63780</td>\n",
       "      <td>1</td>\n",
       "      <td>1.00</td>\n",
       "      <td>81</td>\n",
       "      <td>7</td>\n",
       "      <td>81</td>\n",
       "    </tr>\n",
       "    <tr>\n",
       "      <th>10795</th>\n",
       "      <td>80.0</td>\n",
       "      <td>True</td>\n",
       "      <td>5</td>\n",
       "      <td>False</td>\n",
       "      <td>1</td>\n",
       "      <td>50</td>\n",
       "      <td>10.0</td>\n",
       "      <td>0</td>\n",
       "      <td>62</td>\n",
       "      <td>4</td>\n",
       "      <td>...</td>\n",
       "      <td>2.0</td>\n",
       "      <td>4</td>\n",
       "      <td>False</td>\n",
       "      <td>2.0</td>\n",
       "      <td>43.65734</td>\n",
       "      <td>2</td>\n",
       "      <td>1.00</td>\n",
       "      <td>70</td>\n",
       "      <td>2</td>\n",
       "      <td>70</td>\n",
       "    </tr>\n",
       "    <tr>\n",
       "      <th>10796</th>\n",
       "      <td>100.0</td>\n",
       "      <td>True</td>\n",
       "      <td>28</td>\n",
       "      <td>False</td>\n",
       "      <td>1</td>\n",
       "      <td>60</td>\n",
       "      <td>10.0</td>\n",
       "      <td>2</td>\n",
       "      <td>122</td>\n",
       "      <td>2</td>\n",
       "      <td>...</td>\n",
       "      <td>1.0</td>\n",
       "      <td>4</td>\n",
       "      <td>False</td>\n",
       "      <td>1.0</td>\n",
       "      <td>43.64015</td>\n",
       "      <td>1</td>\n",
       "      <td>1.00</td>\n",
       "      <td>89</td>\n",
       "      <td>4</td>\n",
       "      <td>89</td>\n",
       "    </tr>\n",
       "    <tr>\n",
       "      <th>10797</th>\n",
       "      <td>100.0</td>\n",
       "      <td>True</td>\n",
       "      <td>8</td>\n",
       "      <td>True</td>\n",
       "      <td>1</td>\n",
       "      <td>35</td>\n",
       "      <td>10.0</td>\n",
       "      <td>0</td>\n",
       "      <td>77</td>\n",
       "      <td>3</td>\n",
       "      <td>...</td>\n",
       "      <td>2.0</td>\n",
       "      <td>4</td>\n",
       "      <td>False</td>\n",
       "      <td>1.0</td>\n",
       "      <td>43.62431</td>\n",
       "      <td>2</td>\n",
       "      <td>1.00</td>\n",
       "      <td>65</td>\n",
       "      <td>2</td>\n",
       "      <td>65</td>\n",
       "    </tr>\n",
       "    <tr>\n",
       "      <th>10798</th>\n",
       "      <td>100.0</td>\n",
       "      <td>True</td>\n",
       "      <td>8</td>\n",
       "      <td>False</td>\n",
       "      <td>2</td>\n",
       "      <td>60</td>\n",
       "      <td>10.0</td>\n",
       "      <td>0</td>\n",
       "      <td>6</td>\n",
       "      <td>2</td>\n",
       "      <td>...</td>\n",
       "      <td>1.0</td>\n",
       "      <td>4</td>\n",
       "      <td>False</td>\n",
       "      <td>1.0</td>\n",
       "      <td>43.66533</td>\n",
       "      <td>1</td>\n",
       "      <td>2.00</td>\n",
       "      <td>80</td>\n",
       "      <td>2</td>\n",
       "      <td>80</td>\n",
       "    </tr>\n",
       "  </tbody>\n",
       "</table>\n",
       "<p>10799 rows × 21 columns</p>\n",
       "</div>"
      ],
      "text/plain": [
       "       review_scores_rating  has_availability  property_type  \\\n",
       "0                     100.0              True             14   \n",
       "1                      97.0              True             21   \n",
       "2                      95.0              True             36   \n",
       "3                      93.0              True             14   \n",
       "4                      99.0              True             24   \n",
       "...                     ...               ...            ...   \n",
       "10794                  80.0              True              8   \n",
       "10795                  80.0              True              5   \n",
       "10796                 100.0              True             28   \n",
       "10797                 100.0              True              8   \n",
       "10798                 100.0              True              8   \n",
       "\n",
       "       instant_bookable  number_of_reviews_ltm  availability_60  \\\n",
       "0                 False                      0                0   \n",
       "1                  True                      0               60   \n",
       "2                  True                      0               60   \n",
       "3                 False                      2                0   \n",
       "4                 False                      1               58   \n",
       "...                 ...                    ...              ...   \n",
       "10794              True                      1               51   \n",
       "10795             False                      1               50   \n",
       "10796             False                      1               60   \n",
       "10797              True                      1               35   \n",
       "10798             False                      2               60   \n",
       "\n",
       "       review_scores_checkin  room_type  neighbourhood_cleansed  accommodates  \\\n",
       "0                       10.0          0                      71            10   \n",
       "1                       10.0          2                     122             2   \n",
       "2                       10.0          2                      15             3   \n",
       "3                       10.0          0                     109             5   \n",
       "4                       10.0          2                     128             4   \n",
       "...                      ...        ...                     ...           ...   \n",
       "10794                   10.0          0                      87             2   \n",
       "10795                   10.0          0                      62             4   \n",
       "10796                   10.0          2                     122             2   \n",
       "10797                   10.0          0                      77             3   \n",
       "10798                   10.0          0                       6             2   \n",
       "\n",
       "       ...  beds  host_response_time  host_is_superhost  bedrooms  latitude  \\\n",
       "0      ...   7.0                   1              False       5.0  43.64590   \n",
       "1      ...   1.0                   0              False       1.0  43.64080   \n",
       "2      ...   1.0                   1              False       1.0  43.69805   \n",
       "3      ...   2.0                   4              False       2.0  43.63539   \n",
       "4      ...   2.0                   3              False       2.0  43.74922   \n",
       "...    ...   ...                 ...                ...       ...       ...   \n",
       "10794  ...   1.0                   4              False       1.0  43.63780   \n",
       "10795  ...   2.0                   4              False       2.0  43.65734   \n",
       "10796  ...   1.0                   4              False       1.0  43.64015   \n",
       "10797  ...   2.0                   4              False       1.0  43.62431   \n",
       "10798  ...   1.0                   4              False       1.0  43.66533   \n",
       "\n",
       "       minimum_nights  reviews_per_month  availability_90  bathrooms_text  \\\n",
       "0                  28               0.10                0              11   \n",
       "1                 180               1.19               90               5   \n",
       "2                  28               1.64               90               4   \n",
       "3                  30               0.86                8               2   \n",
       "4                   2               0.60               88               3   \n",
       "...               ...                ...              ...             ...   \n",
       "10794               1               1.00               81               7   \n",
       "10795               2               1.00               70               2   \n",
       "10796               1               1.00               89               4   \n",
       "10797               2               1.00               65               2   \n",
       "10798               1               2.00               80               2   \n",
       "\n",
       "       availability_365  \n",
       "0                     0  \n",
       "1                   365  \n",
       "2                   365  \n",
       "3                   283  \n",
       "4                   363  \n",
       "...                 ...  \n",
       "10794                81  \n",
       "10795                70  \n",
       "10796                89  \n",
       "10797                65  \n",
       "10798                80  \n",
       "\n",
       "[10799 rows x 21 columns]"
      ]
     },
     "execution_count": 59,
     "metadata": {},
     "output_type": "execute_result"
    }
   ],
   "source": [
    "# Checking X\n",
    "X"
   ]
  },
  {
   "cell_type": "code",
   "execution_count": 60,
   "id": "fc387d93",
   "metadata": {},
   "outputs": [
    {
     "data": {
      "text/plain": [
       "0        6.150603\n",
       "1        4.543295\n",
       "2        4.276666\n",
       "3        4.605170\n",
       "4        4.532599\n",
       "           ...   \n",
       "10794    4.736198\n",
       "10795    4.262680\n",
       "10796    5.273000\n",
       "10797    4.852030\n",
       "10798    4.477337\n",
       "Name: log_price, Length: 10799, dtype: float64"
      ]
     },
     "execution_count": 60,
     "metadata": {},
     "output_type": "execute_result"
    }
   ],
   "source": [
    "# Checking y\n",
    "y"
   ]
  },
  {
   "cell_type": "code",
   "execution_count": 61,
   "id": "1f6a7b99",
   "metadata": {},
   "outputs": [],
   "source": [
    "# Split into train and test data\n",
    "X_train, X_test, y_train, y_test = train_test_split(X,y, test_size = 0.2)"
   ]
  },
  {
   "cell_type": "code",
   "execution_count": 62,
   "id": "d835c058",
   "metadata": {
    "scrolled": true
   },
   "outputs": [
    {
     "data": {
      "text/plain": [
       "(8639, 8639, 2160, 2160)"
      ]
     },
     "execution_count": 62,
     "metadata": {},
     "output_type": "execute_result"
    }
   ],
   "source": [
    "# Checking the length of different test and train sets\n",
    "len(X_train),len(y_train),len(X_test),len(y_test)"
   ]
  },
  {
   "cell_type": "markdown",
   "id": "d030b5f2",
   "metadata": {},
   "source": [
    "### Using Linear Regression Model"
   ]
  },
  {
   "cell_type": "code",
   "execution_count": 63,
   "id": "38ed3c51",
   "metadata": {},
   "outputs": [],
   "source": [
    "# Importing LinearRegression model from sklearn library\n",
    "from sklearn.linear_model import LinearRegression\n",
    "lr = LinearRegression()"
   ]
  },
  {
   "cell_type": "code",
   "execution_count": 64,
   "id": "86f69623",
   "metadata": {},
   "outputs": [
    {
     "data": {
      "text/plain": [
       "LinearRegression()"
      ]
     },
     "execution_count": 64,
     "metadata": {},
     "output_type": "execute_result"
    }
   ],
   "source": [
    "# Fitting the model\n",
    "lr.fit(X_train, y_train)"
   ]
  },
  {
   "cell_type": "code",
   "execution_count": 65,
   "id": "6f0fe070",
   "metadata": {},
   "outputs": [
    {
     "data": {
      "text/plain": [
       "0.5229223248379324"
      ]
     },
     "execution_count": 65,
     "metadata": {},
     "output_type": "execute_result"
    }
   ],
   "source": [
    "# Training Model Score\n",
    "lr.score(X_train,y_train)"
   ]
  },
  {
   "cell_type": "code",
   "execution_count": 66,
   "id": "83921990",
   "metadata": {},
   "outputs": [],
   "source": [
    "#Making the predictions\n",
    "y_preds = lr.predict(X_test)"
   ]
  },
  {
   "cell_type": "code",
   "execution_count": 67,
   "id": "c36cf9c1",
   "metadata": {},
   "outputs": [
    {
     "data": {
      "text/plain": [
       "array([4.14223251, 5.73497392, 3.6785728 , ..., 3.615739  , 5.04075913,\n",
       "       3.98066422])"
      ]
     },
     "execution_count": 67,
     "metadata": {},
     "output_type": "execute_result"
    }
   ],
   "source": [
    "y_preds"
   ]
  },
  {
   "cell_type": "code",
   "execution_count": 68,
   "id": "724df019",
   "metadata": {},
   "outputs": [
    {
     "data": {
      "text/plain": [
       "0.5461744930742458"
      ]
     },
     "execution_count": 68,
     "metadata": {},
     "output_type": "execute_result"
    }
   ],
   "source": [
    "# Test Model Score\n",
    "lr.score(X_test, y_test)"
   ]
  },
  {
   "cell_type": "code",
   "execution_count": 69,
   "id": "64aa6535",
   "metadata": {
    "scrolled": true
   },
   "outputs": [
    {
     "name": "stdout",
     "output_type": "stream",
     "text": [
      "0.3438097139934095\n"
     ]
    }
   ],
   "source": [
    "# Calculating Mean Absolute Error\n",
    "print(mean_absolute_error(y_test, y_preds))"
   ]
  },
  {
   "cell_type": "code",
   "execution_count": 70,
   "id": "840c30dd",
   "metadata": {},
   "outputs": [
    {
     "name": "stdout",
     "output_type": "stream",
     "text": [
      "0.21150367292695735\n"
     ]
    }
   ],
   "source": [
    "# Calculating mean_squared_error\n",
    "print(mean_squared_error(y_test, y_preds))"
   ]
  },
  {
   "cell_type": "code",
   "execution_count": 71,
   "id": "464a688a",
   "metadata": {},
   "outputs": [
    {
     "name": "stdout",
     "output_type": "stream",
     "text": [
      "0.4598952847409477\n"
     ]
    }
   ],
   "source": [
    "# Calculating Root Mean Squared Error\n",
    "print(np.sqrt(mean_squared_error(y_test, y_preds)))"
   ]
  },
  {
   "cell_type": "markdown",
   "id": "7423174e",
   "metadata": {},
   "source": [
    "### Using Ridge Regression"
   ]
  },
  {
   "cell_type": "code",
   "execution_count": 72,
   "id": "4561f28f",
   "metadata": {},
   "outputs": [],
   "source": [
    "# Importing the model\n",
    "from sklearn.linear_model import Ridge\n",
    "ri = Ridge()"
   ]
  },
  {
   "cell_type": "code",
   "execution_count": 73,
   "id": "69c4af19",
   "metadata": {},
   "outputs": [
    {
     "data": {
      "text/plain": [
       "Ridge()"
      ]
     },
     "execution_count": 73,
     "metadata": {},
     "output_type": "execute_result"
    }
   ],
   "source": [
    "# Fitting the model on training data\n",
    "ri.fit(X_train, y_train)"
   ]
  },
  {
   "cell_type": "code",
   "execution_count": 74,
   "id": "e0eaa13f",
   "metadata": {},
   "outputs": [
    {
     "data": {
      "text/plain": [
       "0.5228500647960767"
      ]
     },
     "execution_count": 74,
     "metadata": {},
     "output_type": "execute_result"
    }
   ],
   "source": [
    "# Finding Train model score\n",
    "ri.score(X_train, y_train)"
   ]
  },
  {
   "cell_type": "code",
   "execution_count": 75,
   "id": "8989a334",
   "metadata": {},
   "outputs": [],
   "source": [
    "# Making Predictions\n",
    "yr_preds = ri.predict(X_test)"
   ]
  },
  {
   "cell_type": "code",
   "execution_count": 76,
   "id": "b70a0e6e",
   "metadata": {},
   "outputs": [
    {
     "data": {
      "text/plain": [
       "array([4.14795212, 5.73253621, 3.69308479, ..., 3.6258681 , 5.03912891,\n",
       "       3.97773939])"
      ]
     },
     "execution_count": 76,
     "metadata": {},
     "output_type": "execute_result"
    }
   ],
   "source": [
    "yr_preds"
   ]
  },
  {
   "cell_type": "code",
   "execution_count": 77,
   "id": "56553b69",
   "metadata": {},
   "outputs": [
    {
     "data": {
      "text/plain": [
       "0.5460559268701968"
      ]
     },
     "execution_count": 77,
     "metadata": {},
     "output_type": "execute_result"
    }
   ],
   "source": [
    "# Finding test model score\n",
    "ri.score(X_test, y_test)"
   ]
  },
  {
   "cell_type": "code",
   "execution_count": 78,
   "id": "768cf3d3",
   "metadata": {},
   "outputs": [
    {
     "name": "stdout",
     "output_type": "stream",
     "text": [
      "0.3437183087823847\n"
     ]
    }
   ],
   "source": [
    "# Calculating Mean absolute error\n",
    "print(mean_absolute_error(y_test, yr_preds))"
   ]
  },
  {
   "cell_type": "code",
   "execution_count": 79,
   "id": "05024615",
   "metadata": {},
   "outputs": [
    {
     "name": "stdout",
     "output_type": "stream",
     "text": [
      "0.21155893026101788\n"
     ]
    }
   ],
   "source": [
    "# Calculating Mean Squared error\n",
    "print(mean_squared_error(y_test, yr_preds))"
   ]
  },
  {
   "cell_type": "code",
   "execution_count": 80,
   "id": "932f4487",
   "metadata": {},
   "outputs": [
    {
     "name": "stdout",
     "output_type": "stream",
     "text": [
      "0.45995535681304756\n"
     ]
    }
   ],
   "source": [
    "# Calculating Root Mean Squared error\n",
    "print(np.sqrt(mean_squared_error(y_test, yr_preds)))"
   ]
  },
  {
   "cell_type": "markdown",
   "id": "dd29cc87",
   "metadata": {},
   "source": [
    "### Using Lasso Regression"
   ]
  },
  {
   "cell_type": "code",
   "execution_count": 81,
   "id": "04e9ad7a",
   "metadata": {},
   "outputs": [],
   "source": [
    "# Importing the model\n",
    "from sklearn.linear_model import Lasso\n",
    "la=Lasso()"
   ]
  },
  {
   "cell_type": "code",
   "execution_count": 82,
   "id": "55bc01cc",
   "metadata": {},
   "outputs": [
    {
     "data": {
      "text/plain": [
       "Lasso()"
      ]
     },
     "execution_count": 82,
     "metadata": {},
     "output_type": "execute_result"
    }
   ],
   "source": [
    "# Fitting the model on training data\n",
    "la.fit(X_train, y_train)"
   ]
  },
  {
   "cell_type": "code",
   "execution_count": 83,
   "id": "d181cf38",
   "metadata": {},
   "outputs": [
    {
     "data": {
      "text/plain": [
       "0.23619865291517295"
      ]
     },
     "execution_count": 83,
     "metadata": {},
     "output_type": "execute_result"
    }
   ],
   "source": [
    "# Finding Train model score\n",
    "la.score(X_train, y_train)"
   ]
  },
  {
   "cell_type": "code",
   "execution_count": 84,
   "id": "388bdd98",
   "metadata": {},
   "outputs": [],
   "source": [
    "# Making Predictions\n",
    "yl_preds = la.predict(X_test)"
   ]
  },
  {
   "cell_type": "code",
   "execution_count": 85,
   "id": "9f51d21f",
   "metadata": {},
   "outputs": [
    {
     "data": {
      "text/plain": [
       "array([4.24582918, 4.67472089, 4.51267536, ..., 3.63919522, 4.72688874,\n",
       "       4.52205469])"
      ]
     },
     "execution_count": 85,
     "metadata": {},
     "output_type": "execute_result"
    }
   ],
   "source": [
    "# Getting Predictions\n",
    "yl_preds"
   ]
  },
  {
   "cell_type": "code",
   "execution_count": 86,
   "id": "b3199fb6",
   "metadata": {},
   "outputs": [
    {
     "data": {
      "text/plain": [
       "0.23577730415399833"
      ]
     },
     "execution_count": 86,
     "metadata": {},
     "output_type": "execute_result"
    }
   ],
   "source": [
    "# Finding test model score\n",
    "la.score(X_test, y_test)"
   ]
  },
  {
   "cell_type": "code",
   "execution_count": 87,
   "id": "f9c6bf66",
   "metadata": {},
   "outputs": [
    {
     "name": "stdout",
     "output_type": "stream",
     "text": [
      "0.4511403543559708\n"
     ]
    }
   ],
   "source": [
    "# Calculating Mean absolute error\n",
    "print(mean_absolute_error(y_test, yl_preds))"
   ]
  },
  {
   "cell_type": "code",
   "execution_count": 88,
   "id": "57533598",
   "metadata": {},
   "outputs": [
    {
     "name": "stdout",
     "output_type": "stream",
     "text": [
      "0.3561631169664819\n"
     ]
    }
   ],
   "source": [
    "# Calculating Mean Squared  error\n",
    "print(mean_squared_error(y_test, yl_preds))"
   ]
  },
  {
   "cell_type": "code",
   "execution_count": 89,
   "id": "b4596048",
   "metadata": {},
   "outputs": [
    {
     "name": "stdout",
     "output_type": "stream",
     "text": [
      "0.5967940322812234\n"
     ]
    }
   ],
   "source": [
    "# Calculating Root Mean squared error\n",
    "print(np.sqrt(mean_squared_error(y_test, yl_preds)))"
   ]
  },
  {
   "cell_type": "markdown",
   "id": "36a160bb",
   "metadata": {},
   "source": [
    "### Using K-Nearest Neighbors"
   ]
  },
  {
   "cell_type": "code",
   "execution_count": 90,
   "id": "deaffedc",
   "metadata": {},
   "outputs": [],
   "source": [
    "# Importing the model\n",
    "from sklearn.neighbors import KNeighborsRegressor\n",
    "knn = KNeighborsRegressor()"
   ]
  },
  {
   "cell_type": "code",
   "execution_count": 91,
   "id": "663b22c6",
   "metadata": {},
   "outputs": [
    {
     "data": {
      "text/plain": [
       "KNeighborsRegressor()"
      ]
     },
     "execution_count": 91,
     "metadata": {},
     "output_type": "execute_result"
    }
   ],
   "source": [
    "# Fitting the model on training data\n",
    "knn.fit(X_train, y_train)"
   ]
  },
  {
   "cell_type": "code",
   "execution_count": 92,
   "id": "6f7d572b",
   "metadata": {},
   "outputs": [
    {
     "data": {
      "text/plain": [
       "0.5764916972293442"
      ]
     },
     "execution_count": 92,
     "metadata": {},
     "output_type": "execute_result"
    }
   ],
   "source": [
    "# Finding Train model score\n",
    "knn.score(X_train, y_train)"
   ]
  },
  {
   "cell_type": "code",
   "execution_count": 93,
   "id": "30cb9914",
   "metadata": {},
   "outputs": [],
   "source": [
    "# Making Predictions\n",
    "yk_preds = knn.predict(X_test)"
   ]
  },
  {
   "cell_type": "code",
   "execution_count": 94,
   "id": "362a3eb6",
   "metadata": {},
   "outputs": [
    {
     "data": {
      "text/plain": [
       "array([4.55630313, 4.42783351, 4.50965797, ..., 2.70311879, 5.11797232,\n",
       "       5.14281995])"
      ]
     },
     "execution_count": 94,
     "metadata": {},
     "output_type": "execute_result"
    }
   ],
   "source": [
    "yk_preds"
   ]
  },
  {
   "cell_type": "code",
   "execution_count": 95,
   "id": "7ee6d9e3",
   "metadata": {},
   "outputs": [
    {
     "data": {
      "text/plain": [
       "0.3659891466558134"
      ]
     },
     "execution_count": 95,
     "metadata": {},
     "output_type": "execute_result"
    }
   ],
   "source": [
    "# Finding test model score\n",
    "knn.score(X_test, y_test)"
   ]
  },
  {
   "cell_type": "code",
   "execution_count": 96,
   "id": "ee578a9a",
   "metadata": {},
   "outputs": [
    {
     "name": "stdout",
     "output_type": "stream",
     "text": [
      "0.40164658397123\n"
     ]
    }
   ],
   "source": [
    "# Calculating Mean absolute error\n",
    "print(mean_absolute_error(y_test, yk_preds))"
   ]
  },
  {
   "cell_type": "code",
   "execution_count": 97,
   "id": "336c2f6b",
   "metadata": {},
   "outputs": [
    {
     "name": "stdout",
     "output_type": "stream",
     "text": [
      "0.29547837684625333\n"
     ]
    }
   ],
   "source": [
    "# Calculating Mean Squared error\n",
    "print(mean_squared_error(y_test, yk_preds))"
   ]
  },
  {
   "cell_type": "code",
   "execution_count": 98,
   "id": "c0c76de3",
   "metadata": {},
   "outputs": [
    {
     "name": "stdout",
     "output_type": "stream",
     "text": [
      "0.5435792277545688\n"
     ]
    }
   ],
   "source": [
    "# Calculating Root Mean Squared error\n",
    "print(np.sqrt(mean_squared_error(y_test, yk_preds)))"
   ]
  },
  {
   "cell_type": "markdown",
   "id": "a76c3254",
   "metadata": {},
   "source": [
    "### Using Random Forest"
   ]
  },
  {
   "cell_type": "code",
   "execution_count": 99,
   "id": "2fabba79",
   "metadata": {},
   "outputs": [],
   "source": [
    "# Importing the model\n",
    "from sklearn.ensemble import RandomForestRegressor\n",
    "rf=RandomForestRegressor()"
   ]
  },
  {
   "cell_type": "code",
   "execution_count": 100,
   "id": "3de3556d",
   "metadata": {},
   "outputs": [
    {
     "data": {
      "text/plain": [
       "RandomForestRegressor()"
      ]
     },
     "execution_count": 100,
     "metadata": {},
     "output_type": "execute_result"
    }
   ],
   "source": [
    "# Fitting the model on training data\n",
    "rf.fit(X_train, y_train)"
   ]
  },
  {
   "cell_type": "code",
   "execution_count": 101,
   "id": "418e5180",
   "metadata": {},
   "outputs": [
    {
     "data": {
      "text/plain": [
       "0.9467118063979025"
      ]
     },
     "execution_count": 101,
     "metadata": {},
     "output_type": "execute_result"
    }
   ],
   "source": [
    "# Finding Train model score\n",
    "rf.score(X_train, y_train)"
   ]
  },
  {
   "cell_type": "code",
   "execution_count": 102,
   "id": "faa7da92",
   "metadata": {
    "scrolled": true
   },
   "outputs": [
    {
     "data": {
      "text/plain": [
       "array([4.24264455, 5.53152316, 3.80445024, ..., 2.71574102, 5.35096334,\n",
       "       4.02541607])"
      ]
     },
     "execution_count": 102,
     "metadata": {},
     "output_type": "execute_result"
    }
   ],
   "source": [
    "# Making Predictions\n",
    "yrf_preds = rf.predict(X_test)\n",
    "yrf_preds"
   ]
  },
  {
   "cell_type": "code",
   "execution_count": 103,
   "id": "cbfc0285",
   "metadata": {},
   "outputs": [
    {
     "data": {
      "text/plain": [
       "0.6224484049259307"
      ]
     },
     "execution_count": 103,
     "metadata": {},
     "output_type": "execute_result"
    }
   ],
   "source": [
    "# Finding test model score\n",
    "rf.score(X_test, y_test)"
   ]
  },
  {
   "cell_type": "code",
   "execution_count": 104,
   "id": "5464a566",
   "metadata": {},
   "outputs": [
    {
     "name": "stdout",
     "output_type": "stream",
     "text": [
      "0.30393747867313975\n"
     ]
    }
   ],
   "source": [
    "# Calculating Mean absolute error\n",
    "print(mean_absolute_error(y_test, yrf_preds))"
   ]
  },
  {
   "cell_type": "code",
   "execution_count": 105,
   "id": "aac7a884",
   "metadata": {},
   "outputs": [
    {
     "name": "stdout",
     "output_type": "stream",
     "text": [
      "0.17595650279450037\n"
     ]
    }
   ],
   "source": [
    "# Calculating Mean Squared error\n",
    "print(mean_squared_error(y_test, yrf_preds))"
   ]
  },
  {
   "cell_type": "code",
   "execution_count": 106,
   "id": "5518ee6f",
   "metadata": {},
   "outputs": [
    {
     "name": "stdout",
     "output_type": "stream",
     "text": [
      "0.4194716948668889\n"
     ]
    }
   ],
   "source": [
    "# Calculating Root Mean Squared error\n",
    "print(np.sqrt(mean_squared_error(y_test, yrf_preds)))"
   ]
  }
 ],
 "metadata": {
  "kernelspec": {
   "display_name": "Python 3",
   "language": "python",
   "name": "python3"
  },
  "language_info": {
   "codemirror_mode": {
    "name": "ipython",
    "version": 3
   },
   "file_extension": ".py",
   "mimetype": "text/x-python",
   "name": "python",
   "nbconvert_exporter": "python",
   "pygments_lexer": "ipython3",
   "version": "3.8.8"
  }
 },
 "nbformat": 4,
 "nbformat_minor": 5
}
